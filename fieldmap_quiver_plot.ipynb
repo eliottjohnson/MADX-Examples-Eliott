{
 "cells": [
  {
   "cell_type": "code",
   "execution_count": 1,
   "id": "knowing-fitness",
   "metadata": {
    "ExecuteTime": {
     "end_time": "2021-07-27T08:51:18.356541Z",
     "start_time": "2021-07-27T08:51:16.403447Z"
    }
   },
   "outputs": [],
   "source": [
    "# imports\n",
    "import atracker as atr\n",
    "import ast\n",
    "from importlib import reload\n",
    "import numpy as np\n",
    "import pandas as pd\n",
    "import matplotlib.pyplot as plt\n",
    "from scipy.interpolate import RegularGridInterpolator\n",
    "from multiprocessing import Pool\n",
    "from pybt.trackers.boris import track_to_condition\n",
    "import warnings\n",
    "import time\n",
    "from IPython.display import Markdown as md\n",
    "from IPython.core.display import display, HTML, Markdown\n",
    "from tqdm.notebook import tqdm\n",
    "warnings.filterwarnings('ignore')\n",
    "%matplotlib notebook"
   ]
  },
  {
   "cell_type": "code",
   "execution_count": 2,
   "id": "controlled-paris",
   "metadata": {
    "ExecuteTime": {
     "end_time": "2021-07-27T08:52:03.317148Z",
     "start_time": "2021-07-27T08:51:18.360988Z"
    }
   },
   "outputs": [
    {
     "name": "stdout",
     "output_type": "stream",
     "text": [
      "In the direction x we have 201 values from -0.76 to 0.76 in steps of 0.0076\n",
      "In the direction y we have 201 values from -0.9 to 0.9 in steps of 0.009\n",
      "In the direction z we have 527 values from -2.63 to 2.63 in steps of 0.01\n",
      "And average fields are\n",
      "Bx   -7.389755e-18\n",
      "By   -3.424371e-04\n",
      "Bz    1.186809e-20\n",
      "dtype: float64\n"
     ]
    }
   ],
   "source": [
    "# settings\n",
    "particle = 'proton'       # particle name: 'proton' or 'carbon12'\n",
    "en_per_unit_MeV = 26e3    # kinetic energy of the beam\n",
    "track_end_z_m = 2.5       # approximate location in longitudinal direction of the magnet at where to stop the tracking\n",
    "\n",
    "# input angle and position of the beam in the global reference system\n",
    "# values base on discussion with M. Fraser and https://codimd.web.cern.ch/05LpRgDIRIKUpRnTWTfbEA\n",
    "ang_glob = (0.0682, 0.0)\n",
    "pos_glob = (6.490e-02,  0.0, -2.51e+00)\n",
    "\n",
    "read_fm = True            # read out the field map\n",
    "interpolate_fm = True     # prepare the interpolated field map for tracking\n",
    "fm_path = '/eos/project-b/beam-transfer-physics/public/data/ps-main-unit-type-u/maps/' # path to the field map file\n",
    "fm_file = 'MUU_xy_grid.table'\n",
    "save_ref_traj = False     # save the reference trajectory to a file\n",
    "\n",
    "# labels for parameters of the 6x6 transport matrix\n",
    "var_labels = {\n",
    "    \"x\": \" x [m]\",\n",
    "    \"y\": \" y [m]\",\n",
    "    \"xp\": \" xp [rad]\",\n",
    "    \"yp\": \" yp [rad]\",\n",
    "    \"t\": \" T [m]\",\n",
    "    \"D\": \" D [1]\",\n",
    "} \n",
    "\n",
    "if read_fm:\n",
    "    try:\n",
    "        df = pd.read_csv(fm_path+fm_file,delim_whitespace=True, skiprows=8, names=['x', 'y', 'z', 'Bx', 'By', 'Bz'])\n",
    "    except:\n",
    "        df = pd.read_csv(\"/mnt/c/Users/Eliott Johnson/cernbox/SWAN_projects/PS stray tracking test/\"+fm_file,delim_whitespace=True, skiprows=8, names=['x', 'y', 'z', 'Bx', 'By', 'Bz'])\n",
    "    # mirroring the field map (wrt y=0) as only half of the magnet field is in the file\n",
    "    df_mir = df.copy() #copies a list instead of pointing to the same list\n",
    "    df_mir[[\"y\", \"Bx\", \"Bz\"]] = df_mir[[\"y\", \"Bx\", \"Bz\"]].apply(np.negative) #multiply by minus 1 the y, Bx and Bz columns\n",
    "    df_mir = df_mir.drop(df_mir[df_mir['y']==0.0].index) #.drop only select a smaller part of the data frame. Not sure what what the inner part selects\n",
    "\n",
    "    fieldmap = pd.concat([df, df_mir]) # concatenate joins the two dataframes one after the other\n",
    "\n",
    "    fieldmap.sort_values(by=['x','y'], inplace=True) #Sorts first the x column and then the y one. See https://pandas.pydata.org/pandas-docs/stable/reference/api/pandas.DataFrame.sort_values.html\n",
    "    fieldmap['Bmod'] = np.sqrt(fieldmap['Bx']**2+fieldmap['By']**2+fieldmap['Bz']**2) #Modulus of the B field. Calulates the length of the vector field and adds it into a additional column\n",
    "    for axis in ['x', 'y', 'z']: #Loops through these three columns \n",
    "        axis_val = fieldmap[axis].unique() #List containing the unique values of each column\n",
    "        print('In the direction {:} we have {:} values from {:} to {:} in steps of {:}'.format(axis, len(axis_val), axis_val.min(), axis_val.max(), np.unique(np.diff(axis_val)).mean().round(6)))\n",
    "        #.diff calculates the a[i+1] - a[i]. Basically outputs the steps\n",
    "        # then you take the mean of the unique steps and round to 6 figures after the decimal\n",
    "        \n",
    "    print('And average fields are')    \n",
    "    print(fieldmap[['Bx', 'By', 'Bz']].mean())    #The syntax is you take the mean of each element in the list\n",
    "\n",
    "if interpolate_fm:\n",
    "    interp_fieldmap = atr.interpolate_fieldmap(fieldmap)"
   ]
  },
  {
   "cell_type": "code",
   "execution_count": 3,
   "id": "distant-durham",
   "metadata": {
    "ExecuteTime": {
     "end_time": "2021-07-27T08:52:03.345958Z",
     "start_time": "2021-07-27T08:52:03.323767Z"
    }
   },
   "outputs": [
    {
     "name": "stdout",
     "output_type": "stream",
     "text": [
      "             x    y     z        Bx        By        Bz      Bmod\n",
      "0        -0.76 -0.9 -2.63  0.000826  0.000737  0.000897  0.001425\n",
      "1        -0.76 -0.9 -2.62  0.000840  0.000749  0.000901  0.001442\n",
      "2        -0.76 -0.9 -2.61  0.000854  0.000761  0.000906  0.001459\n",
      "3        -0.76 -0.9 -2.60  0.000867  0.000772  0.000910  0.001476\n",
      "4        -0.76 -0.9 -2.59  0.000881  0.000784  0.000915  0.001493\n",
      "...        ...  ...   ...       ...       ...       ...       ...\n",
      "21291322  0.76  0.9  2.59  0.000807  0.000634  0.000730  0.001260\n",
      "21291323  0.76  0.9  2.60  0.000797  0.000627  0.000727  0.001248\n",
      "21291324  0.76  0.9  2.61  0.000787  0.000620  0.000724  0.001236\n",
      "21291325  0.76  0.9  2.62  0.000776  0.000613  0.000722  0.001225\n",
      "21291326  0.76  0.9  2.63  0.000766  0.000607  0.000719  0.001213\n",
      "\n",
      "[21291327 rows x 7 columns]\n"
     ]
    }
   ],
   "source": [
    "print(fieldmap)"
   ]
  },
  {
   "cell_type": "code",
   "execution_count": 4,
   "id": "compressed-demographic",
   "metadata": {
    "ExecuteTime": {
     "end_time": "2021-07-27T08:52:03.355327Z",
     "start_time": "2021-07-27T08:52:03.350224Z"
    }
   },
   "outputs": [
    {
     "name": "stdout",
     "output_type": "stream",
     "text": [
      "<class 'pandas.core.frame.DataFrame'>\n"
     ]
    }
   ],
   "source": [
    "print(type(fieldmap))"
   ]
  },
  {
   "cell_type": "code",
   "execution_count": 5,
   "id": "efficient-inclusion",
   "metadata": {
    "ExecuteTime": {
     "end_time": "2021-07-27T08:52:03.369068Z",
     "start_time": "2021-07-27T08:52:03.362279Z"
    }
   },
   "outputs": [
    {
     "name": "stdout",
     "output_type": "stream",
     "text": [
      "0          -0.76\n",
      "1          -0.76\n",
      "2          -0.76\n",
      "3          -0.76\n",
      "4          -0.76\n",
      "            ... \n",
      "21291322    0.76\n",
      "21291323    0.76\n",
      "21291324    0.76\n",
      "21291325    0.76\n",
      "21291326    0.76\n",
      "Name: x, Length: 21291327, dtype: float64\n"
     ]
    }
   ],
   "source": [
    "print(fieldmap[\"x\"])"
   ]
  },
  {
   "cell_type": "code",
   "execution_count": null,
   "id": "tribal-magnet",
   "metadata": {
    "ExecuteTime": {
     "end_time": "2021-07-27T08:55:20.720471Z",
     "start_time": "2021-07-27T08:55:20.695877Z"
    }
   },
   "outputs": [],
   "source": [
    "#fieldmapsmall = fieldmap.head(10000)\n",
    "fieldmapsmall = fieldmap.iloc[::10000, :] #Takes one in n rows\n",
    "print(fieldmapsmall)"
   ]
  },
  {
   "cell_type": "code",
   "execution_count": null,
   "id": "1c48e5e6",
   "metadata": {},
   "outputs": [],
   "source": [
    "import matplotlib.cm as cm\n",
    "from matplotlib.colors import Normalize\n",
    "colors = np.arctan2(fieldmapsmall[\"Bx\"], fieldmapsmall[\"By\"])\n",
    "norm = Normalize()\n",
    "norm.autoscale(colors)\n",
    "colormap = cm.inferno"
   ]
  },
  {
   "cell_type": "code",
   "execution_count": null,
   "id": "therapeutic-painting",
   "metadata": {
    "ExecuteTime": {
     "end_time": "2021-07-27T08:55:23.784530Z",
     "start_time": "2021-07-27T08:55:21.136388Z"
    }
   },
   "outputs": [],
   "source": [
    "scale=0.05\n",
    "\n",
    "ax = plt.figure(figsize=(10, 10)).add_subplot(projection='3d')\n",
    "\n",
    "ax.quiver(fieldmapsmall[\"x\"], fieldmapsmall[\"y\"], fieldmapsmall[\"z\"],\n",
    "          scale*fieldmapsmall[\"Bx\"], scale*fieldmapsmall[\"By\"], scale*fieldmapsmall[\"Bz\"],\n",
    "         colors=colormap(norm(colors)))\n",
    "\n",
    "plt.show()"
   ]
  },
  {
   "cell_type": "code",
   "execution_count": null,
   "id": "e7383f02",
   "metadata": {},
   "outputs": [],
   "source": []
  }
 ],
 "metadata": {
  "kernelspec": {
   "display_name": "Python 3",
   "language": "python",
   "name": "python3"
  },
  "language_info": {
   "codemirror_mode": {
    "name": "ipython",
    "version": 3
   },
   "file_extension": ".py",
   "mimetype": "text/x-python",
   "name": "python",
   "nbconvert_exporter": "python",
   "pygments_lexer": "ipython3",
   "version": "3.8.8"
  }
 },
 "nbformat": 4,
 "nbformat_minor": 5
}
