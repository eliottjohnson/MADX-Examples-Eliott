{
 "cells": [
  {
   "cell_type": "code",
   "execution_count": 1,
   "id": "powered-diameter",
   "metadata": {
    "ExecuteTime": {
     "end_time": "2021-07-09T08:52:38.294148Z",
     "start_time": "2021-07-09T08:52:34.180000Z"
    },
    "code_folding": [
     0
    ]
   },
   "outputs": [],
   "source": [
    "# imports\n",
    "#from atracker import *\n",
    "import atracker as atr\n",
    "import ast\n",
    "from importlib import reload\n",
    "import numpy as np\n",
    "import pandas as pd\n",
    "import matplotlib.pyplot as plt\n",
    "from scipy.interpolate import RegularGridInterpolator\n",
    "from scipy.optimize import minimize_scalar\n",
    "from multiprocessing import Pool\n",
    "import pickle\n",
    "import matplotlib as mpl\n",
    "import matplotlib.cm as cmx\n",
    "from scipy.stats import chisquare\n",
    "from cycler import cycler\n",
    "from matplotlib.lines import Line2D\n",
    "from pybt.trackers.boris import track_to_condition\n",
    "import warnings\n",
    "import time\n",
    "from IPython.display import Markdown as md\n",
    "from IPython.core.display import display, HTML, Markdown\n",
    "# display(HTML(\"<style>.rendered_html { font-size: 17px; }</style>\"))\n",
    "# display(HTML(\"<style>.container { width:100% !important; }</style>\"))\n",
    "# def printmd(string):\n",
    "#     display(Markdown(string))\n",
    "warnings.filterwarnings('ignore')\n",
    "\n",
    "# displaying matrices side by side\n",
    "css = \"\"\"\n",
    ".output {\n",
    "    flex-direction: row;\n",
    "}\n",
    "\"\"\"\n",
    "HTML('<style>{}</style>'.format(css))\n",
    "\n",
    "%matplotlib notebook"
   ]
  },
  {
   "cell_type": "markdown",
   "id": "patent-attack",
   "metadata": {},
   "source": [
    "### Settings"
   ]
  },
  {
   "cell_type": "code",
   "execution_count": 2,
   "id": "insured-phrase",
   "metadata": {
    "ExecuteTime": {
     "end_time": "2021-07-09T08:53:07.372716Z",
     "start_time": "2021-07-09T08:52:38.301054Z"
    },
    "code_folding": []
   },
   "outputs": [
    {
     "name": "stdout",
     "output_type": "stream",
     "text": [
      "In the direction x we have 201 values from -0.76 to 0.76 in steps of 0.0076\n",
      "In the direction y we have 201 values from -0.9 to 0.9 in steps of 0.009\n",
      "In the direction z we have 527 values from -2.63 to 2.63 in steps of 0.01\n",
      "And average fields are\n",
      "Bx    8.162681e-19\n",
      "By   -3.424371e-04\n",
      "Bz    4.846168e-21\n",
      "dtype: float64\n"
     ]
    }
   ],
   "source": [
    "# settings\n",
    "en_per_unit_MeV = 26e3\n",
    "particle = 'proton'\n",
    "testing_sbend = False #False\n",
    "read_fm = True\n",
    "interpolate_fm = True\n",
    "track_end_z_m = 2.5\n",
    "fm_path = '/eos/project-b/beam-transfer-physics/public/data/ps-main-unit-type-u/maps/'\n",
    "save_ref_traj = False\n",
    "\n",
    "\n",
    "if testing_sbend:\n",
    "    ang_glob = (0.0, 0.0)\n",
    "    pos_glob = (0.0,  0.0   , -2.51)\n",
    "else:\n",
    "    ang_glob = (0.0682, 0.0)\n",
    "    pos_glob = (6.490e-02,  0.0, -2.51e+00)\n",
    "\n",
    "if read_fm:\n",
    "    df = pd.read_csv(fm_path+'MUU_xy_grid.table',delim_whitespace=True, skiprows=8, names=['x', 'y', 'z', 'Bx', 'By', 'Bz']) #df is a pandas dataframe\n",
    "    \n",
    "    if testing_sbend:\n",
    "        df['By']=0.31346770173998384\n",
    "        df['Bx']=0.0\n",
    "        df['Bz']=0.0\n",
    "        print('CHANGED B!!!!!!')\n",
    "    \n",
    "    # mirroring the field map (wrt y=0)\n",
    "    #QUESTION Why do we mirror the field map ?\n",
    "    df_mir = df.copy() #copies a list instead of pointing to the same list\n",
    "    df_mir[[\"y\", \"Bx\", \"Bz\"]] = df_mir[[\"y\", \"Bx\", \"Bz\"]].apply(np.negative) #multiply by minus 1 the y, Bx and Bz columns\n",
    "    df_mir = df_mir.drop(df_mir[df_mir['y']==0.0].index) # .drop only select a smaller part of the data frame. Not sure what what the inner part selects\n",
    "\n",
    "    fieldmap = pd.concat([df, df_mir]) # concatenate joins the two dataframes one after the other\n",
    "\n",
    "    fieldmap.sort_values(by=['x','y'], inplace=True) #Sorts first the x column and then the y one. See https://pandas.pydata.org/pandas-docs/stable/reference/api/pandas.DataFrame.sort_values.html\n",
    "    fieldmap['Bmod'] = np.sqrt(fieldmap['Bx']**2+fieldmap['By']**2+fieldmap['Bz']**2) #Calulates the length of the vector field and adds it into a additional column\n",
    "    for axis in ['x', 'y', 'z']: #Loops through these three columns \n",
    "        axis_val = fieldmap[axis].unique() #List containing the unique values of each column\n",
    "        print('In the direction {:} we have {:} values from {:} to {:} in steps of {:}'.format(axis, len(axis_val), axis_val.min(), axis_val.max(), np.unique(np.diff(axis_val)).mean().round(6)))\n",
    "        #.diff calculates the a[i+1] - a[i]. Basically outputs the steps\n",
    "        # then you take the mean of the unique steps and round to 6 figures after the decimal\n",
    "\n",
    "    print('And average fields are')    \n",
    "    print(fieldmap[['Bx', 'By', 'Bz']].mean()) #The syntax is you take the mean of each element in the list\n",
    "\n",
    "if interpolate_fm:\n",
    "    interp_fieldmap = atr.interpolate_fieldmap(fieldmap)"
   ]
  },
  {
   "cell_type": "code",
   "execution_count": 3,
   "id": "practical-whale",
   "metadata": {
    "ExecuteTime": {
     "end_time": "2021-07-09T08:53:07.390824Z",
     "start_time": "2021-07-09T08:53:07.375726Z"
    },
    "code_folding": [
     0
    ]
   },
   "outputs": [],
   "source": [
    "def run_1part_to_cond(dist_info, time_step=4e-12, particle=particle, **kwargs):\n",
    "    id_part, x0, p0, t0 = dist_info\n",
    "    part = atr.Particle(particle)\n",
    "\n",
    "    def func_B(x, time):\n",
    "        Bxi_p = interp_fieldmap['Bx'](x).squeeze()\n",
    "        Byi_p = interp_fieldmap['By'](x).squeeze()\n",
    "        Bzi_p = interp_fieldmap['Bz'](x).squeeze()\n",
    "        return np.array([Bxi_p, Byi_p, Bzi_p])\n",
    "\n",
    "    # tracking conditions\n",
    "    if testing_sbend:\n",
    "        theta_deg = 1\n",
    "        rho = part.get_rigidity(en_per_unit_MeV) / np.mean(fieldmap['By'])\n",
    "        l_m = 2 * rho * np.sin(np.radians(theta_deg / 2))\n",
    "\n",
    "        x1 = pos_glob[0] - rho\n",
    "        z1 = pos_glob[2]\n",
    "        x2 = pos_glob[0] - l_m * np.sin(np.radians(theta_deg))\n",
    "        z2 = pos_glob[2] + l_m * np.cos(np.radians(theta_deg))\n",
    "        _a, _b = atr.slope_intercept(z1, x1, z2, x2)\n",
    "        track_is_inside = lambda x, p, t : x[0] > _a * x[2] + _b\n",
    "    else:\n",
    "        # PS case\n",
    "        \n",
    "        # track only reference particle\n",
    "        if \"conditions_ref\" in kwargs:\n",
    "            # a verticlal line at z = conditions_ref\n",
    "            track_is_inside = lambda x, p, t : x[2] < kwargs[\"conditions_ref\"]\n",
    "        elif \"conditions_all\" in kwargs:\n",
    "            # conditions_all is based on the previously run ref particle; line perpendicular to its trajectory\n",
    "            (_a, _b) = kwargs[\"conditions_all\"]\n",
    "            track_is_inside = lambda x, p, t : x[0] < _a * x[2] + _b\n",
    "\n",
    "    \n",
    "    xs, ps, ts, _ = track_to_condition(track_is_inside,\n",
    "                                       x = x0,\n",
    "                                       p = p0,\n",
    "                                       t = t0,\n",
    "                                       mass = part.get_e0_eV(),\n",
    "                                       n_charges = part.get_z(),\n",
    "                                       time_step = time_step,\n",
    "                                       return_full_track = True,\n",
    "                                       func_B = func_B)\n",
    "    \n",
    "    return pd.DataFrame({'id': [id_part] * len(xs),\n",
    "                         'k': list(range(0, len(xs))),\n",
    "                         'x': np.array(xs)[:, 0],\n",
    "                         'y': np.array(xs)[:, 1],\n",
    "                         'z': np.array(xs)[:, 2],\n",
    "                         'Px': np.array(ps)[:, 0],\n",
    "                         'Py': np.array(ps)[:, 1],\n",
    "                         'Pz': np.array(ps)[:, 2],\n",
    "                         't': np.array(ts)})"
   ]
  },
  {
   "cell_type": "markdown",
   "id": "political-fighter",
   "metadata": {},
   "source": [
    "### Generate set of 13 particles"
   ]
  },
  {
   "cell_type": "code",
   "execution_count": 4,
   "id": "noticed-position",
   "metadata": {
    "ExecuteTime": {
     "end_time": "2021-07-09T08:53:07.414589Z",
     "start_time": "2021-07-09T08:53:07.394849Z"
    }
   },
   "outputs": [],
   "source": [
    "# generate a set of 13 particles\n",
    "a = atr.ATracker('proton') #Creates an object using class ATracker\n",
    "dist_part_ref = {'dX': 0, 'dXP': 0, 'dY': 0, 'dYP': 0, 'dS': 0, 'en_MeV': en_per_unit_MeV, 'dt': 0} #La position de référence\n",
    "dist13_local = a.generate_part13_local(dist_part_ref, dX=1e-3, dXP=1e-3, dY=1e-3, dYP=1e-3, dt=4e-12, dD=1e-3) #la distance de scanning\n",
    "dist13_global = []\n",
    "for key, value in dist13_local.items():\n",
    "    dist13_global.append(a.get_dist_to_glob(dist = value, pos_glob0 = pos_glob, ang_glob0 = ang_glob))"
   ]
  },
  {
   "cell_type": "markdown",
   "id": "mechanical-pearl",
   "metadata": {},
   "source": [
    "### Run set of 13 particles"
   ]
  },
  {
   "cell_type": "code",
   "execution_count": 5,
   "id": "earlier-pollution",
   "metadata": {
    "ExecuteTime": {
     "end_time": "2021-07-09T08:53:36.245165Z",
     "start_time": "2021-07-09T08:53:07.421790Z"
    },
    "code_folding": []
   },
   "outputs": [
    {
     "data": {
      "image/png": "[encoded data removed]",
      "text/plain": [
       "<Figure size 360x360 with 2 Axes>"
      ]
     },
     "metadata": {
      "needs_background": "light"
     },
     "output_type": "display_data"
    }
   ],
   "source": [
    "if not testing_sbend:\n",
    "    # track the reference particle to track_end_z_m\n",
    "    kwargs = {\"conditions_ref\": track_end_z_m}\n",
    "    track_set_ref = run_1part_to_cond(dist13_global[0], **kwargs)\n",
    "    track_ref = atr.Tracks([track_set_ref], particle)\n",
    "    track_end_line = track_ref.get_track_condition()\n",
    "\n",
    "    # tracks 13 particles to around track_end_z_m (to plane normal to the reference particle)\n",
    "    def run_1part_to_cond_forPool(dist_info):\n",
    "        kwargs = {\"conditions_all\": track_end_line}\n",
    "        return run_1part_to_cond(dist_info, time_step=4e-12, particle=particle, **kwargs)\n",
    "\n",
    "    with Pool(6) as p:\n",
    "        tracks_set = p.map(run_1part_to_cond_forPool, dist13_global)\n",
    "\n",
    "    \n",
    "elif testing_sbend:\n",
    "    with Pool(6) as p:\n",
    "        tracks_set = p.map(run_1part_to_cond, dist13_global) \n",
    "        \n",
    "tracks = atr.Tracks(tracks_set, particle)\n",
    "if True:\n",
    "    ax = tracks.plot_track(pid=0)\n",
    "    for pid in range(0, len(dist13_global)):\n",
    "        tracks.plot_track(pid=pid, legend = False, axes = ax)\n",
    "\n",
    "if save_ref_traj:\n",
    "    tracks.save_ref_to_csv('PS_26GeV_ref_trajectory.csv')"
   ]
  },
  {
   "cell_type": "markdown",
   "id": "likely-reasoning",
   "metadata": {},
   "source": [
    "### Transport matrix"
   ]
  },
  {
   "cell_type": "code",
   "execution_count": 6,
   "id": "intended-marble",
   "metadata": {
    "ExecuteTime": {
     "end_time": "2021-07-09T08:53:37.392467Z",
     "start_time": "2021-07-09T08:53:36.249021Z"
    }
   },
   "outputs": [
    {
     "data": {
      "text/html": [
       "<style  type=\"text/css\" >\n",
       "</style><table id=\"T_087ca_\" ><thead>    <tr>        <th class=\"blank level0\" ></th>        <th class=\"col_heading level0 col0\" >x0 [m]</th>        <th class=\"col_heading level0 col1\" >xp0 [rad]</th>        <th class=\"col_heading level0 col2\" >y0 [m]</th>        <th class=\"col_heading level0 col3\" >yp0 [rad]</th>        <th class=\"col_heading level0 col4\" >T0 [m]</th>        <th class=\"col_heading level0 col5\" >D0 [1]</th>    </tr></thead><tbody>\n",
       "                <tr>\n",
       "                        <th id=\"T_087ca_level0_row0\" class=\"row_heading level0 row0\" >x [m]</th>\n",
       "                        <td id=\"T_087ca_row0_col0\" class=\"data row0 col0\" >1.5159</td>\n",
       "                        <td id=\"T_087ca_row0_col1\" class=\"data row0 col1\" >5.9145</td>\n",
       "                        <td id=\"T_087ca_row0_col2\" class=\"data row0 col2\" >0.0000</td>\n",
       "                        <td id=\"T_087ca_row0_col3\" class=\"data row0 col3\" >0.0000</td>\n",
       "                        <td id=\"T_087ca_row0_col4\" class=\"data row0 col4\" >-0.0000</td>\n",
       "                        <td id=\"T_087ca_row0_col5\" class=\"data row0 col5\" >0.0688</td>\n",
       "            </tr>\n",
       "            <tr>\n",
       "                        <th id=\"T_087ca_level0_row1\" class=\"row_heading level0 row1\" >xp [rad]</th>\n",
       "                        <td id=\"T_087ca_row1_col0\" class=\"data row1 col0\" >0.2033</td>\n",
       "                        <td id=\"T_087ca_row1_col1\" class=\"data row1 col1\" >1.4532</td>\n",
       "                        <td id=\"T_087ca_row1_col2\" class=\"data row1 col2\" >0.0000</td>\n",
       "                        <td id=\"T_087ca_row1_col3\" class=\"data row1 col3\" >0.0000</td>\n",
       "                        <td id=\"T_087ca_row1_col4\" class=\"data row1 col4\" >-0.0000</td>\n",
       "                        <td id=\"T_087ca_row1_col5\" class=\"data row1 col5\" >0.0248</td>\n",
       "            </tr>\n",
       "            <tr>\n",
       "                        <th id=\"T_087ca_level0_row2\" class=\"row_heading level0 row2\" >y [m]</th>\n",
       "                        <td id=\"T_087ca_row2_col0\" class=\"data row2 col0\" >-0.0000</td>\n",
       "                        <td id=\"T_087ca_row2_col1\" class=\"data row2 col1\" >-0.0000</td>\n",
       "                        <td id=\"T_087ca_row2_col2\" class=\"data row2 col2\" >0.5552</td>\n",
       "                        <td id=\"T_087ca_row2_col3\" class=\"data row2 col3\" >4.2020</td>\n",
       "                        <td id=\"T_087ca_row2_col4\" class=\"data row2 col4\" >-0.0000</td>\n",
       "                        <td id=\"T_087ca_row2_col5\" class=\"data row2 col5\" >0.0000</td>\n",
       "            </tr>\n",
       "            <tr>\n",
       "                        <th id=\"T_087ca_level0_row3\" class=\"row_heading level0 row3\" >yp [rad]</th>\n",
       "                        <td id=\"T_087ca_row3_col0\" class=\"data row3 col0\" >-0.0000</td>\n",
       "                        <td id=\"T_087ca_row3_col1\" class=\"data row3 col1\" >-0.0000</td>\n",
       "                        <td id=\"T_087ca_row3_col2\" class=\"data row3 col2\" >-0.1580</td>\n",
       "                        <td id=\"T_087ca_row3_col3\" class=\"data row3 col3\" >0.6054</td>\n",
       "                        <td id=\"T_087ca_row3_col4\" class=\"data row3 col4\" >-0.0000</td>\n",
       "                        <td id=\"T_087ca_row3_col5\" class=\"data row3 col5\" >0.0000</td>\n",
       "            </tr>\n",
       "            <tr>\n",
       "                        <th id=\"T_087ca_level0_row4\" class=\"row_heading level0 row4\" >T [m]</th>\n",
       "                        <td id=\"T_087ca_row4_col0\" class=\"data row4 col0\" >-0.0236</td>\n",
       "                        <td id=\"T_087ca_row4_col1\" class=\"data row4 col1\" >-0.0465</td>\n",
       "                        <td id=\"T_087ca_row4_col2\" class=\"data row4 col2\" >0.0000</td>\n",
       "                        <td id=\"T_087ca_row4_col3\" class=\"data row4 col3\" >0.0000</td>\n",
       "                        <td id=\"T_087ca_row4_col4\" class=\"data row4 col4\" >1.0000</td>\n",
       "                        <td id=\"T_087ca_row4_col5\" class=\"data row4 col5\" >0.0058</td>\n",
       "            </tr>\n",
       "            <tr>\n",
       "                        <th id=\"T_087ca_level0_row5\" class=\"row_heading level0 row5\" >D [1]</th>\n",
       "                        <td id=\"T_087ca_row5_col0\" class=\"data row5 col0\" >-0.0000</td>\n",
       "                        <td id=\"T_087ca_row5_col1\" class=\"data row5 col1\" >0.0000</td>\n",
       "                        <td id=\"T_087ca_row5_col2\" class=\"data row5 col2\" >0.0000</td>\n",
       "                        <td id=\"T_087ca_row5_col3\" class=\"data row5 col3\" >0.0000</td>\n",
       "                        <td id=\"T_087ca_row5_col4\" class=\"data row5 col4\" >-0.0000</td>\n",
       "                        <td id=\"T_087ca_row5_col5\" class=\"data row5 col5\" >1.0000</td>\n",
       "            </tr>\n",
       "    </tbody></table>"
      ],
      "text/plain": [
       "<pandas.io.formats.style.Styler at 0x7f1967b8c4c0>"
      ]
     },
     "metadata": {},
     "output_type": "display_data"
    },
    {
     "data": {
      "text/html": [
       "<style  type=\"text/css\" >\n",
       "</style><table id=\"T_8e839_\" ><thead>    <tr>        <th class=\"blank level0\" ></th>        <th class=\"col_heading level0 col0\" >x0 [m]</th>        <th class=\"col_heading level0 col1\" >px0 [1]</th>        <th class=\"col_heading level0 col2\" >y0 [m]</th>        <th class=\"col_heading level0 col3\" >py0 [1]</th>        <th class=\"col_heading level0 col4\" >T0 [m]</th>        <th class=\"col_heading level0 col5\" >PT0 [1]</th>    </tr></thead><tbody>\n",
       "                <tr>\n",
       "                        <th id=\"T_8e839_level0_row0\" class=\"row_heading level0 row0\" >x [m]</th>\n",
       "                        <td id=\"T_8e839_row0_col0\" class=\"data row0 col0\" >1.5159</td>\n",
       "                        <td id=\"T_8e839_row0_col1\" class=\"data row0 col1\" >5.9145</td>\n",
       "                        <td id=\"T_8e839_row0_col2\" class=\"data row0 col2\" >0.0000</td>\n",
       "                        <td id=\"T_8e839_row0_col3\" class=\"data row0 col3\" >0.0000</td>\n",
       "                        <td id=\"T_8e839_row0_col4\" class=\"data row0 col4\" >-0.0000</td>\n",
       "                        <td id=\"T_8e839_row0_col5\" class=\"data row0 col5\" >0.0688</td>\n",
       "            </tr>\n",
       "            <tr>\n",
       "                        <th id=\"T_8e839_level0_row1\" class=\"row_heading level0 row1\" >px [1]</th>\n",
       "                        <td id=\"T_8e839_row1_col0\" class=\"data row1 col0\" >0.2033</td>\n",
       "                        <td id=\"T_8e839_row1_col1\" class=\"data row1 col1\" >1.4532</td>\n",
       "                        <td id=\"T_8e839_row1_col2\" class=\"data row1 col2\" >0.0000</td>\n",
       "                        <td id=\"T_8e839_row1_col3\" class=\"data row1 col3\" >0.0000</td>\n",
       "                        <td id=\"T_8e839_row1_col4\" class=\"data row1 col4\" >-0.0000</td>\n",
       "                        <td id=\"T_8e839_row1_col5\" class=\"data row1 col5\" >0.0248</td>\n",
       "            </tr>\n",
       "            <tr>\n",
       "                        <th id=\"T_8e839_level0_row2\" class=\"row_heading level0 row2\" >y [m]</th>\n",
       "                        <td id=\"T_8e839_row2_col0\" class=\"data row2 col0\" >-0.0000</td>\n",
       "                        <td id=\"T_8e839_row2_col1\" class=\"data row2 col1\" >-0.0000</td>\n",
       "                        <td id=\"T_8e839_row2_col2\" class=\"data row2 col2\" >0.5552</td>\n",
       "                        <td id=\"T_8e839_row2_col3\" class=\"data row2 col3\" >4.2020</td>\n",
       "                        <td id=\"T_8e839_row2_col4\" class=\"data row2 col4\" >-0.0000</td>\n",
       "                        <td id=\"T_8e839_row2_col5\" class=\"data row2 col5\" >0.0000</td>\n",
       "            </tr>\n",
       "            <tr>\n",
       "                        <th id=\"T_8e839_level0_row3\" class=\"row_heading level0 row3\" >py [1]</th>\n",
       "                        <td id=\"T_8e839_row3_col0\" class=\"data row3 col0\" >-0.0000</td>\n",
       "                        <td id=\"T_8e839_row3_col1\" class=\"data row3 col1\" >-0.0000</td>\n",
       "                        <td id=\"T_8e839_row3_col2\" class=\"data row3 col2\" >-0.1580</td>\n",
       "                        <td id=\"T_8e839_row3_col3\" class=\"data row3 col3\" >0.6054</td>\n",
       "                        <td id=\"T_8e839_row3_col4\" class=\"data row3 col4\" >-0.0000</td>\n",
       "                        <td id=\"T_8e839_row3_col5\" class=\"data row3 col5\" >0.0000</td>\n",
       "            </tr>\n",
       "            <tr>\n",
       "                        <th id=\"T_8e839_level0_row4\" class=\"row_heading level0 row4\" >T [m]</th>\n",
       "                        <td id=\"T_8e839_row4_col0\" class=\"data row4 col0\" >-0.0236</td>\n",
       "                        <td id=\"T_8e839_row4_col1\" class=\"data row4 col1\" >-0.0465</td>\n",
       "                        <td id=\"T_8e839_row4_col2\" class=\"data row4 col2\" >0.0000</td>\n",
       "                        <td id=\"T_8e839_row4_col3\" class=\"data row4 col3\" >0.0000</td>\n",
       "                        <td id=\"T_8e839_row4_col4\" class=\"data row4 col4\" >1.0000</td>\n",
       "                        <td id=\"T_8e839_row4_col5\" class=\"data row4 col5\" >0.0058</td>\n",
       "            </tr>\n",
       "            <tr>\n",
       "                        <th id=\"T_8e839_level0_row5\" class=\"row_heading level0 row5\" >PT [1]</th>\n",
       "                        <td id=\"T_8e839_row5_col0\" class=\"data row5 col0\" >-0.0000</td>\n",
       "                        <td id=\"T_8e839_row5_col1\" class=\"data row5 col1\" >0.0000</td>\n",
       "                        <td id=\"T_8e839_row5_col2\" class=\"data row5 col2\" >0.0000</td>\n",
       "                        <td id=\"T_8e839_row5_col3\" class=\"data row5 col3\" >0.0000</td>\n",
       "                        <td id=\"T_8e839_row5_col4\" class=\"data row5 col4\" >-0.0000</td>\n",
       "                        <td id=\"T_8e839_row5_col5\" class=\"data row5 col5\" >1.0000</td>\n",
       "            </tr>\n",
       "    </tbody></table>"
      ],
      "text/plain": [
       "<pandas.io.formats.style.Styler at 0x7f195803ec70>"
      ]
     },
     "metadata": {},
     "output_type": "display_data"
    }
   ],
   "source": [
    "k_last = tracks_set[0].shape[0]-1\n",
    "\n",
    "mat_f = tracks.get_transport_matrix(k = k_last, ret = 'mat') #Il faut que je regarde la fonction get_transport_matrix\n",
    "mat_f_madx = tracks.get_madx_matrix(mat_arr = mat_f, k = k_last)\n",
    "display(atr.style_df_transport_matrix(mat_f),\n",
    "        atr.style_df_transport_matrix(mat_f_madx,\n",
    "                                      index_names = [\"x [m]\", \"px [1]\", \"y [m]\", \"py [1]\", \"T [m]\", \"PT [1]\"],\n",
    "                                      columns_names = [\"x0 [m]\", \"px0 [1]\", \"y0 [m]\", \"py0 [1]\", \"T0 [m]\", \"PT0 [1]\"]))\n",
    "\n",
    "#mat_f_madx_dict = atr.matrix_arr_to_dict(mat_f_madx)"
   ]
  },
  {
   "cell_type": "code",
   "execution_count": 8,
   "id": "falling-carolina",
   "metadata": {
    "ExecuteTime": {
     "end_time": "2021-07-09T08:53:39.424232Z",
     "start_time": "2021-07-09T08:53:37.403425Z"
    }
   },
   "outputs": [
    {
     "name": "stdout",
     "output_type": "stream",
     "text": [
      "\n",
      "  ++++++++++++++++++++++++++++++++++++++++++++\n",
      "  +     MAD-X 5.06.01  (64 bit, Linux)       +\n",
      "  + Support: mad@cern.ch, http://cern.ch/mad +\n",
      "  + Release   date: 2020.09.01               +\n",
      "  + Execution date: 2021.07.09 10:53:39      +\n",
      "  ++++++++++++++++++++++++++++++++++++++++++++\n",
      "{'s1': <Sequence: s1>}\n",
      "enter Twiss module\n",
      "  \n",
      "open line - error with deltap:   0.000000E+00\n",
      "initial orbit vector:   0.000000E+00  0.000000E+00  0.000000E+00  0.000000E+00  0.000000E+00  0.000000E+00\n",
      "final orbit vector:     0.000000E+00  0.000000E+00  0.000000E+00  0.000000E+00  0.000000E+00  0.000000E+00\n",
      "\n",
      "++++++ table: summ\n",
      "\n",
      "            length             orbit5               alfa            gammatr \n",
      "                10                 -0                  0                  0 \n",
      "\n",
      "                q1                dq1            betxmax              dxmax \n",
      "      0.2327762651                  0        549.7113708       0.1926392345 \n",
      "\n",
      "             dxrms             xcomax             xcorms                 q2 \n",
      "      0.1256600131                  0                  0       0.2559379178 \n",
      "\n",
      "               dq2            betymax              dymax              dyrms \n",
      "                 0        41.55944483    5.138169174e-21     3.29250496e-21 \n",
      "\n",
      "            ycomax             ycorms             deltap            synch_1 \n",
      "                 0                  0                  0                  0 \n",
      "\n",
      "           synch_2            synch_3            synch_4            synch_5 \n",
      "                 0                  0                  0                  0 \n",
      "\n",
      "           synch_6            synch_8             nflips \n",
      "                 0                  0                  0 \n"
     ]
    },
    {
     "data": {
      "image/png": "[encoded data removed]",
      "text/plain": [
       "<Figure size 432x288 with 1 Axes>"
      ]
     },
     "metadata": {
      "needs_background": "light"
     },
     "output_type": "display_data"
    },
    {
     "name": "stdout",
     "output_type": "stream",
     "text": [
      "\n",
      "  Number of warnings: 0\n",
      "\n",
      "  ++++++++++++++++++++++++++++++++++++++++++++\n",
      "  +          MAD-X finished normally         +\n",
      "  ++++++++++++++++++++++++++++++++++++++++++++\n"
     ]
    }
   ],
   "source": [
    "from cpymad.madx import Madx\n",
    "madx = Madx(command_log=\"commandlog\") #Writes the errors in this file once madx has quit\n",
    "#madx.options(verbose=True, echo=True, debug=True)\n",
    "madx.option(echo=False,warn=False) #Hides the output in the terminal\n",
    "\n",
    "madx.beam(particle='proton', pc=25)\n",
    "\n",
    "madx.command.sequence.clone('S1', l=10)\n",
    "madx.command.endsequence()\n",
    "\n",
    "madx.command.matrix.clone('CustomMatrix', L=1,\n",
    "                                        rm11=mat_f[0][0], rm12=mat_f[0][1], rm13=mat_f[0][2], rm14=mat_f[0][3], rm15=mat_f[0][4], rm16=mat_f[0][5],\n",
    "                                        rm21=mat_f[1][0], rm22=mat_f[1][1], rm23=mat_f[1][2], rm24=mat_f[1][3], rm25=mat_f[1][4], rm26=mat_f[1][5],\n",
    "                                        rm31=mat_f[2][0], rm32=mat_f[2][1], rm33=mat_f[2][2], rm34=mat_f[2][3], rm35=mat_f[2][4], rm36=mat_f[2][5],\n",
    "                                        rm41=mat_f[3][0], rm42=mat_f[3][1], rm43=mat_f[3][2], rm44=mat_f[3][3], rm45=mat_f[3][4], rm46=mat_f[3][5],\n",
    "                                        rm51=mat_f[4][0], rm52=mat_f[4][1], rm53=mat_f[4][2], rm54=mat_f[4][3], rm55=mat_f[4][4], rm56=mat_f[4][5],\n",
    "                                        rm61=mat_f[5][0], rm62=mat_f[5][1], rm63=mat_f[5][2], rm64=mat_f[5][3], rm65=mat_f[5][4], rm66=mat_f[5][5])\n",
    "\n",
    "madx.command.seqedit(sequence='S1')\n",
    "madx.command.install(element='M1', class_='CustomMatrix', at='4.5')\n",
    "madx.command.endedit()\n",
    "\n",
    "print(madx.sequence)\n",
    "\n",
    "madx.use(sequence=\"S1\")\n",
    "twiss = madx.twiss(betx=1, bety=1)\n",
    "\n",
    "\n",
    "%matplotlib inline\n",
    "import matplotlib.pyplot as plt\n",
    "plt.plot(twiss.s, twiss.betx,label='beta_x')\n",
    "plt.plot(twiss.s, twiss.bety,label='beta_y')\n",
    "plt.xlabel('s [m]')\n",
    "plt.ylabel('beta [m]')\n",
    "plt.legend()\n",
    "plt.show()\n",
    "\n",
    "\n",
    "madx.quit()"
   ]
  },
  {
   "cell_type": "code",
   "execution_count": null,
   "id": "north-glossary",
   "metadata": {},
   "outputs": [],
   "source": []
  }
 ],
 "metadata": {
  "kernelspec": {
   "display_name": "Python 3",
   "language": "python",
   "name": "python3"
  },
  "language_info": {
   "codemirror_mode": {
    "name": "ipython",
    "version": 3
   },
   "file_extension": ".py",
   "mimetype": "text/x-python",
   "name": "python",
   "nbconvert_exporter": "python",
   "pygments_lexer": "ipython3",
   "version": "3.8.6"
  }
 },
 "nbformat": 4,
 "nbformat_minor": 5
}
