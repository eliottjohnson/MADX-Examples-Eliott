{
 "cells": [
  {
   "cell_type": "code",
   "execution_count": 1,
   "id": "intermediate-database",
   "metadata": {
    "ExecuteTime": {
     "end_time": "2021-07-12T11:53:11.096420Z",
     "start_time": "2021-07-12T11:53:09.576181Z"
    },
    "code_folding": [
     0
    ]
   },
   "outputs": [
    {
     "data": {
      "text/html": [
       "<style>\n",
       ".output {\n",
       "    flex-direction: row;\n",
       "}\n",
       "</style>"
      ],
      "text/plain": [
       "<IPython.core.display.HTML object>"
      ]
     },
     "execution_count": 1,
     "metadata": {},
     "output_type": "execute_result"
    }
   ],
   "source": [
    "# imports\n",
    "import atracker as atr\n",
    "import ast\n",
    "from importlib import reload\n",
    "import numpy as np\n",
    "import pandas as pd\n",
    "import matplotlib.pyplot as plt\n",
    "from scipy.interpolate import RegularGridInterpolator\n",
    "from multiprocessing import Pool\n",
    "from pybt.trackers.boris import track_to_condition\n",
    "import warnings\n",
    "import time\n",
    "from IPython.display import Markdown as md\n",
    "from IPython.core.display import display, HTML, Markdown\n",
    "warnings.filterwarnings('ignore')\n",
    "%matplotlib notebook\n",
    "\n",
    "# displaying matrices side by side\n",
    "css = \"\"\"\n",
    ".output {\n",
    "    flex-direction: row;\n",
    "}\n",
    "\"\"\"\n",
    "HTML('<style>{}</style>'.format(css))"
   ]
  },
  {
   "cell_type": "markdown",
   "id": "heated-burke",
   "metadata": {},
   "source": [
    "### Settings"
   ]
  },
  {
   "cell_type": "code",
   "execution_count": 2,
   "id": "reliable-czech",
   "metadata": {
    "ExecuteTime": {
     "end_time": "2021-07-12T11:53:44.782484Z",
     "start_time": "2021-07-12T11:53:11.102293Z"
    },
    "code_folding": []
   },
   "outputs": [
    {
     "name": "stdout",
     "output_type": "stream",
     "text": [
      "In the direction x we have 201 values from -0.76 to 0.76 in steps of 0.0076\n",
      "In the direction y we have 201 values from -0.9 to 0.9 in steps of 0.009\n",
      "In the direction z we have 527 values from -2.63 to 2.63 in steps of 0.01\n",
      "And average fields are\n",
      "Bx    8.162681e-19\n",
      "By   -3.424371e-04\n",
      "Bz    4.846168e-21\n",
      "dtype: float64\n"
     ]
    }
   ],
   "source": [
    "# settings\n",
    "particle = 'proton'       # particle name: 'proton' or 'carbon12'\n",
    "en_per_unit_MeV = 26e3    # kinetic energy of the beam\n",
    "track_end_z_m = 2.5       # approximate location in longitudinal direction of the magnet at where to stop the tracking\n",
    "\n",
    "# input angle and position of the beam in the global reference system\n",
    "# values base on discussion with M. Fraser and https://codimd.web.cern.ch/05LpRgDIRIKUpRnTWTfbEA\n",
    "ang_glob = (0.0682, 0.0)\n",
    "pos_glob = (6.490e-02,  0.0, -2.51e+00)\n",
    "\n",
    "read_fm = True            # read out the field map\n",
    "interpolate_fm = True     # prepare the interpolated field map for tracking\n",
    "fm_path = '/eos/project-b/beam-transfer-physics/public/data/ps-main-unit-type-u/maps/' # path to the field map file\n",
    "fm_file = 'MUU_xy_grid.table'\n",
    "save_ref_traj = False     # save the reference trajectory to a file\n",
    "\n",
    "# labels for parameters of the 6x6 transport matrix\n",
    "var_labels = {\n",
    "    \"x\": \" x [m]\",\n",
    "    \"y\": \" y [m]\",\n",
    "    \"xp\": \" xp [rad]\",\n",
    "    \"yp\": \" yp [rad]\",\n",
    "    \"t\": \" T [m]\",\n",
    "    \"D\": \" D [1]\",\n",
    "} \n",
    "\n",
    "if read_fm:\n",
    "    df = pd.read_csv(fm_path+fm_file,delim_whitespace=True, skiprows=8, names=['x', 'y', 'z', 'Bx', 'By', 'Bz'])\n",
    "    \n",
    "    # mirroring the field map (wrt y=0) as only half of the magnet field is in the file\n",
    "    df_mir = df.copy() #copies a list instead of pointing to the same list\n",
    "    df_mir[[\"y\", \"Bx\", \"Bz\"]] = df_mir[[\"y\", \"Bx\", \"Bz\"]].apply(np.negative) #multiply by minus 1 the y, Bx and Bz columns\n",
    "    df_mir = df_mir.drop(df_mir[df_mir['y']==0.0].index) #.drop only select a smaller part of the data frame. Not sure what what the inner part selects\n",
    "\n",
    "    fieldmap = pd.concat([df, df_mir]) # concatenate joins the two dataframes one after the other\n",
    "\n",
    "    fieldmap.sort_values(by=['x','y'], inplace=True) #Sorts first the x column and then the y one. See https://pandas.pydata.org/pandas-docs/stable/reference/api/pandas.DataFrame.sort_values.html\n",
    "    fieldmap['Bmod'] = np.sqrt(fieldmap['Bx']**2+fieldmap['By']**2+fieldmap['Bz']**2) #Modulus of the B field. Calulates the length of the vector field and adds it into a additional column\n",
    "    for axis in ['x', 'y', 'z']: #Loops through these three columns \n",
    "        axis_val = fieldmap[axis].unique() #List containing the unique values of each column\n",
    "        print('In the direction {:} we have {:} values from {:} to {:} in steps of {:}'.format(axis, len(axis_val), axis_val.min(), axis_val.max(), np.unique(np.diff(axis_val)).mean().round(6)))\n",
    "        #.diff calculates the a[i+1] - a[i]. Basically outputs the steps\n",
    "        # then you take the mean of the unique steps and round to 6 figures after the decimal\n",
    "        \n",
    "    print('And average fields are')    \n",
    "    print(fieldmap[['Bx', 'By', 'Bz']].mean())    #The syntax is you take the mean of each element in the list\n",
    "\n",
    "if interpolate_fm:\n",
    "    interp_fieldmap = atr.interpolate_fieldmap(fieldmap)"
   ]
  },
  {
   "cell_type": "code",
   "execution_count": 3,
   "id": "deadly-netherlands",
   "metadata": {
    "ExecuteTime": {
     "end_time": "2021-07-12T11:53:44.798398Z",
     "start_time": "2021-07-12T11:53:44.785968Z"
    },
    "code_folding": [
     0
    ]
   },
   "outputs": [],
   "source": [
    "# functions\n",
    "\n",
    "# magnetic field at position x at time based on the field map values\n",
    "def func_B(x, time):\n",
    "    \"\"\" return interpolated values of magnetic field components\n",
    "    at point x and time \"\"\"\n",
    "    Bxi_p = interp_fieldmap['Bx'](x).squeeze()\n",
    "    Byi_p = interp_fieldmap['By'](x).squeeze()\n",
    "    Bzi_p = interp_fieldmap['Bz'](x).squeeze()\n",
    "    return np.array([Bxi_p, Byi_p, Bzi_p])\n",
    "    \n",
    "def track_one_particle(input_zip, time_step=4e-12, particle=particle):\n",
    "    \"\"\" run one particle to condition \n",
    "    the initial particle parameters and the end-tracking condition is specified in input_zip \"\"\"\n",
    "    \n",
    "    # distribution and type information on the particle plus the tracking-end condition\n",
    "    id_part, x0, p0, t0, track_is_inside = input_zip\n",
    "\n",
    "    xs, ps, ts, _ = track_to_condition(track_is_inside,\n",
    "                                       x = x0,\n",
    "                                       p = p0,\n",
    "                                       t = t0,\n",
    "                                       mass = atr.Particle(particle).get_e0_eV(),\n",
    "                                       n_charges = atr.Particle(particle).get_z(),\n",
    "                                       time_step = time_step,\n",
    "                                       return_full_track = True,\n",
    "                                       func_B = func_B)\n",
    "    \n",
    "#     print(\"Len of xs = {}\".format(len(xs)))\n",
    "    return pd.DataFrame({'id': [id_part] * len(xs),\n",
    "                         'k': list(range(0, len(xs))),\n",
    "                         'x': np.array(xs)[:, 0],\n",
    "                         'y': np.array(xs)[:, 1],\n",
    "                         'z': np.array(xs)[:, 2],\n",
    "                         'Px': np.array(ps)[:, 0],\n",
    "                         'Py': np.array(ps)[:, 1],\n",
    "                         'Pz': np.array(ps)[:, 2],\n",
    "                         't': np.array(ts)})\n",
    "\n",
    "def trackend_line(ref_particle, track_end_z_m):\n",
    "    \"\"\" return the condition to finish the tracking of a whole set of particles\n",
    "    based on the reference particle of distribution ref_particle\n",
    "    and the approximate end condition track_end_z_m \"\"\"\n",
    "    \n",
    "    # initial condition of end for the reference particle\n",
    "    track_is_inside_ref = lambda x, p, t : x[2] < track_end_z_m\n",
    "    input_zip = (ref_particle+(track_is_inside_ref,))\n",
    "    \n",
    "    # run reference particle\n",
    "    tracks_ref = track_one_particle(input_zip)\n",
    "    tracks_ref = atr.Tracks([tracks_ref], particle)\n",
    "    \n",
    "    return tracks_ref.get_track_condition() "
   ]
  },
  {
   "cell_type": "markdown",
   "id": "acquired-version",
   "metadata": {},
   "source": [
    "### Generate set of 13 particles"
   ]
  },
  {
   "cell_type": "code",
   "execution_count": 4,
   "id": "successful-accountability",
   "metadata": {
    "ExecuteTime": {
     "end_time": "2021-07-12T11:53:44.850156Z",
     "start_time": "2021-07-12T11:53:44.800901Z"
    }
   },
   "outputs": [],
   "source": [
    "setGen = atr.SetGenerator(particle)\n",
    "\n",
    "# distribution of the reference particle in local coordinate system \n",
    "distr_part_ref = {'dX': 0, 'dXP': 0, 'dY': 0, 'dYP': 0, 'dS': 0, 'en_MeV': en_per_unit_MeV, 'dt': 0}\n",
    "\n",
    "# set of distributions for 13 particles in local coordinate system\n",
    "set13_local = setGen.get_part13_local(distr_part_ref, dX=1e-3, dXP=1e-3, dY=1e-3, dYP=1e-3, dt=4e-12, dD=1e-3)\n",
    "\n",
    "# set of distributions for 13 particles in global coordinate system to be used for tracking\n",
    "set13_global = setGen.get_partset_global(set_local=set13_local, pos_glob0=pos_glob, ang_glob0=ang_glob)"
   ]
  },
  {
   "cell_type": "markdown",
   "id": "frequent-collar",
   "metadata": {},
   "source": [
    "### Run set of 13 particles"
   ]
  },
  {
   "cell_type": "code",
   "execution_count": 5,
   "id": "considerable-authority",
   "metadata": {
    "ExecuteTime": {
     "end_time": "2021-07-12T11:54:43.143270Z",
     "start_time": "2021-07-12T11:53:44.864336Z"
    },
    "code_folding": []
   },
   "outputs": [
    {
     "data": {
      "image/png": "[encoded data removed]",
      "text/plain": [
       "<Figure size 360x360 with 2 Axes>"
      ]
     },
     "metadata": {
      "needs_background": "light"
     },
     "output_type": "display_data"
    }
   ],
   "source": [
    "# run reference particle to determine the tracking-end line for the entire set\n",
    "(endline_a, endline_b) = trackend_line(ref_particle=set13_global[0], track_end_z_m=track_end_z_m)\n",
    "def track_is_inside(x ,p, t, a=endline_a, b=endline_b):\n",
    "    return x[0] < endline_a * x[2] + endline_b   \n",
    "\n",
    "# run the set of particles\n",
    "input_zip = [set13_global[i]+(track_is_inside,) for i in range(len(set13_global))]\n",
    "with Pool(6) as p:\n",
    "    tracks_set = p.map(track_one_particle, input_zip)\n",
    "        \n",
    "tracks = atr.Tracks(tracks_set, particle)\n",
    "\n",
    "# plot the trajectories\n",
    "if True:\n",
    "    ax = tracks.plot_track(pid=0)\n",
    "    for pid in range(0, len(set13_global)):\n",
    "        tracks.plot_track(pid=pid, legend = False, axes = ax)\n",
    "\n",
    "# save the reference trajectory to a csv file\n",
    "if save_ref_traj:\n",
    "    tracks.save_ref_to_csv('PS_26GeV_ref_trajectory.csv')"
   ]
  },
  {
   "cell_type": "markdown",
   "id": "willing-jewelry",
   "metadata": {},
   "source": [
    "### Transport matrix"
   ]
  },
  {
   "cell_type": "code",
   "execution_count": 6,
   "id": "sweet-publicity",
   "metadata": {
    "ExecuteTime": {
     "end_time": "2021-07-12T11:54:44.333845Z",
     "start_time": "2021-07-12T11:54:43.146565Z"
    }
   },
   "outputs": [
    {
     "data": {
      "text/html": [
       "<style  type=\"text/css\" >\n",
       "</style><table id=\"T_9a150_\" ><thead>    <tr>        <th class=\"blank level0\" ></th>        <th class=\"col_heading level0 col0\" >x0 [m]</th>        <th class=\"col_heading level0 col1\" >xp0 [rad]</th>        <th class=\"col_heading level0 col2\" >y0 [m]</th>        <th class=\"col_heading level0 col3\" >yp0 [rad]</th>        <th class=\"col_heading level0 col4\" >T0 [m]</th>        <th class=\"col_heading level0 col5\" >D0 [1]</th>    </tr></thead><tbody>\n",
       "                <tr>\n",
       "                        <th id=\"T_9a150_level0_row0\" class=\"row_heading level0 row0\" >x [m]</th>\n",
       "                        <td id=\"T_9a150_row0_col0\" class=\"data row0 col0\" >1.5159</td>\n",
       "                        <td id=\"T_9a150_row0_col1\" class=\"data row0 col1\" >5.9145</td>\n",
       "                        <td id=\"T_9a150_row0_col2\" class=\"data row0 col2\" >0.0000</td>\n",
       "                        <td id=\"T_9a150_row0_col3\" class=\"data row0 col3\" >0.0000</td>\n",
       "                        <td id=\"T_9a150_row0_col4\" class=\"data row0 col4\" >-0.0000</td>\n",
       "                        <td id=\"T_9a150_row0_col5\" class=\"data row0 col5\" >0.0688</td>\n",
       "            </tr>\n",
       "            <tr>\n",
       "                        <th id=\"T_9a150_level0_row1\" class=\"row_heading level0 row1\" >xp [rad]</th>\n",
       "                        <td id=\"T_9a150_row1_col0\" class=\"data row1 col0\" >0.2033</td>\n",
       "                        <td id=\"T_9a150_row1_col1\" class=\"data row1 col1\" >1.4532</td>\n",
       "                        <td id=\"T_9a150_row1_col2\" class=\"data row1 col2\" >0.0000</td>\n",
       "                        <td id=\"T_9a150_row1_col3\" class=\"data row1 col3\" >0.0000</td>\n",
       "                        <td id=\"T_9a150_row1_col4\" class=\"data row1 col4\" >-0.0000</td>\n",
       "                        <td id=\"T_9a150_row1_col5\" class=\"data row1 col5\" >0.0248</td>\n",
       "            </tr>\n",
       "            <tr>\n",
       "                        <th id=\"T_9a150_level0_row2\" class=\"row_heading level0 row2\" >y [m]</th>\n",
       "                        <td id=\"T_9a150_row2_col0\" class=\"data row2 col0\" >-0.0000</td>\n",
       "                        <td id=\"T_9a150_row2_col1\" class=\"data row2 col1\" >-0.0000</td>\n",
       "                        <td id=\"T_9a150_row2_col2\" class=\"data row2 col2\" >0.5552</td>\n",
       "                        <td id=\"T_9a150_row2_col3\" class=\"data row2 col3\" >4.2020</td>\n",
       "                        <td id=\"T_9a150_row2_col4\" class=\"data row2 col4\" >-0.0000</td>\n",
       "                        <td id=\"T_9a150_row2_col5\" class=\"data row2 col5\" >0.0000</td>\n",
       "            </tr>\n",
       "            <tr>\n",
       "                        <th id=\"T_9a150_level0_row3\" class=\"row_heading level0 row3\" >yp [rad]</th>\n",
       "                        <td id=\"T_9a150_row3_col0\" class=\"data row3 col0\" >-0.0000</td>\n",
       "                        <td id=\"T_9a150_row3_col1\" class=\"data row3 col1\" >-0.0000</td>\n",
       "                        <td id=\"T_9a150_row3_col2\" class=\"data row3 col2\" >-0.1580</td>\n",
       "                        <td id=\"T_9a150_row3_col3\" class=\"data row3 col3\" >0.6054</td>\n",
       "                        <td id=\"T_9a150_row3_col4\" class=\"data row3 col4\" >-0.0000</td>\n",
       "                        <td id=\"T_9a150_row3_col5\" class=\"data row3 col5\" >0.0000</td>\n",
       "            </tr>\n",
       "            <tr>\n",
       "                        <th id=\"T_9a150_level0_row4\" class=\"row_heading level0 row4\" >T [m]</th>\n",
       "                        <td id=\"T_9a150_row4_col0\" class=\"data row4 col0\" >-0.0236</td>\n",
       "                        <td id=\"T_9a150_row4_col1\" class=\"data row4 col1\" >-0.0465</td>\n",
       "                        <td id=\"T_9a150_row4_col2\" class=\"data row4 col2\" >0.0000</td>\n",
       "                        <td id=\"T_9a150_row4_col3\" class=\"data row4 col3\" >0.0000</td>\n",
       "                        <td id=\"T_9a150_row4_col4\" class=\"data row4 col4\" >1.0000</td>\n",
       "                        <td id=\"T_9a150_row4_col5\" class=\"data row4 col5\" >0.0058</td>\n",
       "            </tr>\n",
       "            <tr>\n",
       "                        <th id=\"T_9a150_level0_row5\" class=\"row_heading level0 row5\" >D [1]</th>\n",
       "                        <td id=\"T_9a150_row5_col0\" class=\"data row5 col0\" >-0.0000</td>\n",
       "                        <td id=\"T_9a150_row5_col1\" class=\"data row5 col1\" >0.0000</td>\n",
       "                        <td id=\"T_9a150_row5_col2\" class=\"data row5 col2\" >0.0000</td>\n",
       "                        <td id=\"T_9a150_row5_col3\" class=\"data row5 col3\" >0.0000</td>\n",
       "                        <td id=\"T_9a150_row5_col4\" class=\"data row5 col4\" >-0.0000</td>\n",
       "                        <td id=\"T_9a150_row5_col5\" class=\"data row5 col5\" >1.0000</td>\n",
       "            </tr>\n",
       "    </tbody></table>"
      ],
      "text/plain": [
       "<pandas.io.formats.style.Styler at 0x7fd885d5f430>"
      ]
     },
     "metadata": {},
     "output_type": "display_data"
    },
    {
     "data": {
      "text/html": [
       "<style  type=\"text/css\" >\n",
       "</style><table id=\"T_de9f5_\" ><thead>    <tr>        <th class=\"blank level0\" ></th>        <th class=\"col_heading level0 col0\" >x0 [m]</th>        <th class=\"col_heading level0 col1\" >px0 [1]</th>        <th class=\"col_heading level0 col2\" >y0 [m]</th>        <th class=\"col_heading level0 col3\" >py0 [1]</th>        <th class=\"col_heading level0 col4\" >T0 [m]</th>        <th class=\"col_heading level0 col5\" >PT0 [1]</th>    </tr></thead><tbody>\n",
       "                <tr>\n",
       "                        <th id=\"T_de9f5_level0_row0\" class=\"row_heading level0 row0\" >x [m]</th>\n",
       "                        <td id=\"T_de9f5_row0_col0\" class=\"data row0 col0\" >1.5159</td>\n",
       "                        <td id=\"T_de9f5_row0_col1\" class=\"data row0 col1\" >5.9145</td>\n",
       "                        <td id=\"T_de9f5_row0_col2\" class=\"data row0 col2\" >0.0000</td>\n",
       "                        <td id=\"T_de9f5_row0_col3\" class=\"data row0 col3\" >0.0000</td>\n",
       "                        <td id=\"T_de9f5_row0_col4\" class=\"data row0 col4\" >-0.0000</td>\n",
       "                        <td id=\"T_de9f5_row0_col5\" class=\"data row0 col5\" >0.0688</td>\n",
       "            </tr>\n",
       "            <tr>\n",
       "                        <th id=\"T_de9f5_level0_row1\" class=\"row_heading level0 row1\" >px [1]</th>\n",
       "                        <td id=\"T_de9f5_row1_col0\" class=\"data row1 col0\" >0.2033</td>\n",
       "                        <td id=\"T_de9f5_row1_col1\" class=\"data row1 col1\" >1.4532</td>\n",
       "                        <td id=\"T_de9f5_row1_col2\" class=\"data row1 col2\" >0.0000</td>\n",
       "                        <td id=\"T_de9f5_row1_col3\" class=\"data row1 col3\" >0.0000</td>\n",
       "                        <td id=\"T_de9f5_row1_col4\" class=\"data row1 col4\" >-0.0000</td>\n",
       "                        <td id=\"T_de9f5_row1_col5\" class=\"data row1 col5\" >0.0248</td>\n",
       "            </tr>\n",
       "            <tr>\n",
       "                        <th id=\"T_de9f5_level0_row2\" class=\"row_heading level0 row2\" >y [m]</th>\n",
       "                        <td id=\"T_de9f5_row2_col0\" class=\"data row2 col0\" >-0.0000</td>\n",
       "                        <td id=\"T_de9f5_row2_col1\" class=\"data row2 col1\" >-0.0000</td>\n",
       "                        <td id=\"T_de9f5_row2_col2\" class=\"data row2 col2\" >0.5552</td>\n",
       "                        <td id=\"T_de9f5_row2_col3\" class=\"data row2 col3\" >4.2020</td>\n",
       "                        <td id=\"T_de9f5_row2_col4\" class=\"data row2 col4\" >-0.0000</td>\n",
       "                        <td id=\"T_de9f5_row2_col5\" class=\"data row2 col5\" >0.0000</td>\n",
       "            </tr>\n",
       "            <tr>\n",
       "                        <th id=\"T_de9f5_level0_row3\" class=\"row_heading level0 row3\" >py [1]</th>\n",
       "                        <td id=\"T_de9f5_row3_col0\" class=\"data row3 col0\" >-0.0000</td>\n",
       "                        <td id=\"T_de9f5_row3_col1\" class=\"data row3 col1\" >-0.0000</td>\n",
       "                        <td id=\"T_de9f5_row3_col2\" class=\"data row3 col2\" >-0.1580</td>\n",
       "                        <td id=\"T_de9f5_row3_col3\" class=\"data row3 col3\" >0.6054</td>\n",
       "                        <td id=\"T_de9f5_row3_col4\" class=\"data row3 col4\" >-0.0000</td>\n",
       "                        <td id=\"T_de9f5_row3_col5\" class=\"data row3 col5\" >0.0000</td>\n",
       "            </tr>\n",
       "            <tr>\n",
       "                        <th id=\"T_de9f5_level0_row4\" class=\"row_heading level0 row4\" >T [m]</th>\n",
       "                        <td id=\"T_de9f5_row4_col0\" class=\"data row4 col0\" >-0.0236</td>\n",
       "                        <td id=\"T_de9f5_row4_col1\" class=\"data row4 col1\" >-0.0465</td>\n",
       "                        <td id=\"T_de9f5_row4_col2\" class=\"data row4 col2\" >0.0000</td>\n",
       "                        <td id=\"T_de9f5_row4_col3\" class=\"data row4 col3\" >0.0000</td>\n",
       "                        <td id=\"T_de9f5_row4_col4\" class=\"data row4 col4\" >1.0000</td>\n",
       "                        <td id=\"T_de9f5_row4_col5\" class=\"data row4 col5\" >0.0058</td>\n",
       "            </tr>\n",
       "            <tr>\n",
       "                        <th id=\"T_de9f5_level0_row5\" class=\"row_heading level0 row5\" >PT [1]</th>\n",
       "                        <td id=\"T_de9f5_row5_col0\" class=\"data row5 col0\" >-0.0000</td>\n",
       "                        <td id=\"T_de9f5_row5_col1\" class=\"data row5 col1\" >0.0000</td>\n",
       "                        <td id=\"T_de9f5_row5_col2\" class=\"data row5 col2\" >0.0000</td>\n",
       "                        <td id=\"T_de9f5_row5_col3\" class=\"data row5 col3\" >0.0000</td>\n",
       "                        <td id=\"T_de9f5_row5_col4\" class=\"data row5 col4\" >-0.0000</td>\n",
       "                        <td id=\"T_de9f5_row5_col5\" class=\"data row5 col5\" >1.0000</td>\n",
       "            </tr>\n",
       "    </tbody></table>"
      ],
      "text/plain": [
       "<pandas.io.formats.style.Styler at 0x7fd8821ca040>"
      ]
     },
     "metadata": {},
     "output_type": "display_data"
    }
   ],
   "source": [
    "# last step of the reference particle trajectory\n",
    "k_last = tracks.get_ref_last_k()\n",
    "\n",
    "# transport matrices of the system\n",
    "mat_f = tracks.get_transport_matrix(k = k_last, ret = 'mat')\n",
    "mat_f_madx = tracks.get_madx_matrix(mat_arr = mat_f, k = k_last)\n",
    "display(atr.style_df_transport_matrix(mat_f),\n",
    "        atr.style_df_transport_matrix(mat_f_madx,\n",
    "                                      index_names = [\"x [m]\", \"px [1]\", \"y [m]\", \"py [1]\", \"T [m]\", \"PT [1]\"],\n",
    "                                      columns_names = [\"x0 [m]\", \"px0 [1]\", \"y0 [m]\", \"py0 [1]\", \"T0 [m]\", \"PT0 [1]\"]))"
   ]
  },
  {
   "cell_type": "markdown",
   "id": "sensitive-compression",
   "metadata": {},
   "source": [
    "# Extracting a Matrix from MAD-X"
   ]
  },
  {
   "cell_type": "code",
   "execution_count": 7,
   "id": "racial-aquatic",
   "metadata": {
    "ExecuteTime": {
     "end_time": "2021-07-12T11:54:44.353471Z",
     "start_time": "2021-07-12T11:54:44.341357Z"
    }
   },
   "outputs": [],
   "source": [
    "def get_matrix_from_twiss(twiss):\n",
    "    elem = twiss.iloc[-1] # iloc[-1] takes last row of the data frame\n",
    "    matExtracted = np.matrix([\n",
    "        elem[['re11', 're12', 're13', 're14', 're15', 're16']].values.astype(float),\n",
    "        elem[['re21', 're22', 're23', 're24', 're25', 're26']].values.astype(float),\n",
    "        elem[['re31', 're32', 're33', 're34', 're35', 're36']].values.astype(float),\n",
    "        elem[['re41', 're42', 're43', 're44', 're45', 're46']].values.astype(float),\n",
    "        elem[['re51', 're52', 're53', 're54', 're55', 're56']].values.astype(float),\n",
    "        elem[['re61', 're62', 're63', 're64', 're65', 're66']].values.astype(float),\n",
    "    ])\n",
    "    return matExtracted"
   ]
  },
  {
   "cell_type": "code",
   "execution_count": 8,
   "id": "caring-cologne",
   "metadata": {
    "ExecuteTime": {
     "end_time": "2021-07-12T11:54:46.664401Z",
     "start_time": "2021-07-12T11:54:44.358555Z"
    }
   },
   "outputs": [
    {
     "name": "stdout",
     "output_type": "stream",
     "text": [
      "\n",
      "  ++++++++++++++++++++++++++++++++++++++++++++\n",
      "  +     MAD-X 5.06.01  (64 bit, Linux)       +\n",
      "  + Support: mad@cern.ch, http://cern.ch/mad +\n",
      "  + Release   date: 2020.09.01               +\n",
      "  + Execution date: 2021.07.12 13:54:46      +\n",
      "  ++++++++++++++++++++++++++++++++++++++++++++\n",
      "{'s1': <Sequence: s1>}\n"
     ]
    },
    {
     "data": {
      "image/png": "[encoded data removed]",
      "text/plain": [
       "<Figure size 432x288 with 1 Axes>"
      ]
     },
     "metadata": {
      "needs_background": "light"
     },
     "output_type": "display_data"
    }
   ],
   "source": [
    "from cpymad.madx import Madx\n",
    "madx = Madx(command_log=\"commandlog\") #Writes the errors in this file once madx has quit\n",
    "#madx.options(verbose=True, echo=True, debug=True)\n",
    "madx.option(echo=False, warn=False, twiss_print=False) #Hides the output in the terminal\n",
    "\n",
    "madx.beam(particle='proton', pc=25)\n",
    "\n",
    "madx.command.sequence.clone('S1', l=10)\n",
    "madx.command.endsequence()\n",
    "\n",
    "madx.command.matrix.clone('CustomMatrix', L=1,\n",
    "                                        rm11=mat_f_madx[0][0], rm12=mat_f_madx[0][1], rm13=mat_f_madx[0][2], rm14=mat_f_madx[0][3], rm15=mat_f_madx[0][4], rm16=mat_f_madx[0][5],\n",
    "                                        rm21=mat_f_madx[1][0], rm22=mat_f_madx[1][1], rm23=mat_f_madx[1][2], rm24=mat_f_madx[1][3], rm25=mat_f_madx[1][4], rm26=mat_f_madx[1][5],\n",
    "                                        rm31=mat_f_madx[2][0], rm32=mat_f_madx[2][1], rm33=mat_f_madx[2][2], rm34=mat_f_madx[2][3], rm35=mat_f_madx[2][4], rm36=mat_f_madx[2][5],\n",
    "                                        rm41=mat_f_madx[3][0], rm42=mat_f_madx[3][1], rm43=mat_f_madx[3][2], rm44=mat_f_madx[3][3], rm45=mat_f_madx[3][4], rm46=mat_f_madx[3][5],\n",
    "                                        rm51=mat_f_madx[4][0], rm52=mat_f_madx[4][1], rm53=mat_f_madx[4][2], rm54=mat_f_madx[4][3], rm55=mat_f_madx[4][4], rm56=mat_f_madx[4][5],\n",
    "                                        rm61=mat_f_madx[5][0], rm62=mat_f_madx[5][1], rm63=mat_f_madx[5][2], rm64=mat_f_madx[5][3], rm65=mat_f_madx[5][4], rm66=mat_f_madx[5][5])\n",
    "\n",
    "madx.command.seqedit(sequence='S1')\n",
    "madx.command.install(element='M1', class_='CustomMatrix', at='4.5')\n",
    "madx.command.endedit()\n",
    "\n",
    "print(madx.sequence)\n",
    "\n",
    "madx.use(sequence=\"S1\")\n",
    "twiss = madx.twiss(betx=1, bety=1, rmatrix=True).dframe()\n",
    "\n",
    "\n",
    "%matplotlib inline\n",
    "import matplotlib.pyplot as plt\n",
    "plt.plot(twiss.s, twiss.betx,label='beta_x')\n",
    "plt.plot(twiss.s, twiss.bety,label='beta_y')\n",
    "plt.xlabel('s [m]')\n",
    "plt.ylabel('beta [m]')\n",
    "plt.legend()\n",
    "plt.show()\n",
    "\n",
    "matExtracted = get_matrix_from_twiss(twiss)"
   ]
  },
  {
   "cell_type": "code",
   "execution_count": 9,
   "id": "entire-above",
   "metadata": {
    "ExecuteTime": {
     "end_time": "2021-07-12T11:54:46.672952Z",
     "start_time": "2021-07-12T11:54:46.667625Z"
    }
   },
   "outputs": [
    {
     "name": "stdout",
     "output_type": "stream",
     "text": [
      "[[ 2.53236591e+00  2.33087649e+01 -1.14344783e-18 -2.58182765e-18\n",
      "  -1.40865856e-11  1.92697561e-01]\n",
      " [ 2.03328804e-01  2.26639573e+00 -1.40666315e-19 -3.59799782e-19\n",
      "  -1.55041767e-12  2.47767899e-02]\n",
      " [-8.68865983e-19 -4.91789553e-18 -2.34777509e-01  6.28986008e+00\n",
      "   1.87227203e-30  5.14671217e-21]\n",
      " [-5.77276697e-20 -3.82262344e-19 -1.57994286e-01 -2.65700472e-02\n",
      "   1.53582795e-31  7.91877541e-22]\n",
      " [-2.35629336e-02 -1.40787442e-01  5.97674765e-22 -1.04806865e-20\n",
      "   1.00000000e+00  1.84420854e-02]\n",
      " [-1.06201627e-12 -4.21254366e-12  5.10641351e-32 -4.96785587e-32\n",
      "   1.34283184e-24  1.00000000e+00]]\n"
     ]
    }
   ],
   "source": [
    "print (matExtracted)"
   ]
  },
  {
   "cell_type": "code",
   "execution_count": 10,
   "id": "copyrighted-convention",
   "metadata": {
    "ExecuteTime": {
     "end_time": "2021-07-12T11:54:46.715878Z",
     "start_time": "2021-07-12T11:54:46.675570Z"
    },
    "scrolled": true
   },
   "outputs": [
    {
     "name": "stdout",
     "output_type": "stream",
     "text": [
      "\n",
      "  Number of warnings: 0\n",
      "\n",
      "  ++++++++++++++++++++++++++++++++++++++++++++\n",
      "  +          MAD-X finished normally         +\n",
      "  ++++++++++++++++++++++++++++++++++++++++++++\n"
     ]
    }
   ],
   "source": [
    "madx.quit()"
   ]
  },
  {
   "cell_type": "markdown",
   "id": "magnetic-parliament",
   "metadata": {},
   "source": [
    "## Plot the matrix coefficients"
   ]
  },
  {
   "cell_type": "code",
   "execution_count": 82,
   "id": "naval-denial",
   "metadata": {
    "ExecuteTime": {
     "end_time": "2021-07-12T12:44:08.179660Z",
     "start_time": "2021-07-12T12:44:07.796903Z"
    }
   },
   "outputs": [
    {
     "data": {
      "image/png": "[encoded data removed]",
      "text/plain": [
       "<Figure size 504x360 with 1 Axes>"
      ]
     },
     "metadata": {
      "needs_background": "light"
     },
     "output_type": "display_data"
    }
   ],
   "source": [
    "if True: # Necessary otherwise you get an output in the console\n",
    "    values_lim = 0.01  # calculate the coefficient in the range +/-values_lim\n",
    "    values_no = 5      # choose how many points you want to calculate\n",
    "    values = np.linspace(-values_lim, values_lim, values_no)\n",
    "    yvalues = np.zeros(values_no)\n",
    "\n",
    "    for i in range (0,values_no):\n",
    "        B = np.array([[1.], [2.], [3.], [4.], [5.], [6.]])\n",
    "        B[0]=values[i]\n",
    "        C = np.dot(matExtracted,B)\n",
    "        yvalues[i]=C[0]\n",
    "\n",
    "    fig, ax = plt.subplots(1, 1, figsize=(7,5), tight_layout=True, sharex=True)\n",
    "    ax.plot(values, yvalues, marker = 'o')\n",
    "    ax.set_xlabel(\"x\")\n",
    "    ax.set_ylabel(\"y\")"
   ]
  },
  {
   "cell_type": "code",
   "execution_count": null,
   "id": "outer-mobile",
   "metadata": {},
   "outputs": [],
   "source": []
  }
 ],
 "metadata": {
  "kernelspec": {
   "display_name": "Python 3",
   "language": "python",
   "name": "python3"
  },
  "language_info": {
   "codemirror_mode": {
    "name": "ipython",
    "version": 3
   },
   "file_extension": ".py",
   "mimetype": "text/x-python",
   "name": "python",
   "nbconvert_exporter": "python",
   "pygments_lexer": "ipython3",
   "version": "3.8.6"
  }
 },
 "nbformat": 4,
 "nbformat_minor": 5
}
