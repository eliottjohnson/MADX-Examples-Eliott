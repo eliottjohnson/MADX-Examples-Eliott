{
 "cells": [
  {
   "cell_type": "code",
   "execution_count": 70,
   "id": "young-respect",
   "metadata": {
    "ExecuteTime": {
     "end_time": "2021-07-21T14:54:54.397976Z",
     "start_time": "2021-07-21T14:54:54.385276Z"
    },
    "code_folding": [
     0
    ]
   },
   "outputs": [],
   "source": [
    "# imports\n",
    "import numpy as np\n",
    "import pandas as pd\n",
    "%matplotlib inline\n",
    "import matplotlib.pyplot as plt\n",
    "from IPython.display import Markdown as md\n",
    "from IPython.core.display import display, HTML, Markdown\n",
    "from cpymad.madx import Madx\n",
    "%matplotlib notebook"
   ]
  },
  {
   "cell_type": "markdown",
   "id": "hybrid-acceptance",
   "metadata": {},
   "source": [
    "### Yann's example extracting a Matrix from MADX\n",
    "https://gitlab.cern.ch/abt-optics-and-code-repository/simulation-codes/cpymad_examples/-/blob/master/MATRIX_extraction.ipynb"
   ]
  },
  {
   "cell_type": "code",
   "execution_count": 71,
   "id": "facial-click",
   "metadata": {
    "ExecuteTime": {
     "end_time": "2021-07-21T14:54:54.416341Z",
     "start_time": "2021-07-21T14:54:54.403758Z"
    }
   },
   "outputs": [],
   "source": [
    "def get_matrix_from_twiss(twiss):\n",
    "    elem = twiss.iloc[-1] # iloc[-1] takes last row of the data frame\n",
    "    matExtracted = np.matrix([\n",
    "        elem[['re11', 're12', 're13', 're14', 're15', 're16']].values.astype(float),\n",
    "        elem[['re21', 're22', 're23', 're24', 're25', 're26']].values.astype(float),\n",
    "        elem[['re31', 're32', 're33', 're34', 're35', 're36']].values.astype(float),\n",
    "        elem[['re41', 're42', 're43', 're44', 're45', 're46']].values.astype(float),\n",
    "        elem[['re51', 're52', 're53', 're54', 're55', 're56']].values.astype(float),\n",
    "        elem[['re61', 're62', 're63', 're64', 're65', 're66']].values.astype(float),\n",
    "    ])\n",
    "    return matExtracted"
   ]
  },
  {
   "cell_type": "markdown",
   "id": "french-london",
   "metadata": {},
   "source": [
    "### This is a test to run the whole get_initial_conditions_lhc_q20.madx file"
   ]
  },
  {
   "cell_type": "code",
   "execution_count": 72,
   "id": "historic-affiliate",
   "metadata": {
    "ExecuteTime": {
     "end_time": "2021-07-21T14:54:54.424287Z",
     "start_time": "2021-07-21T14:54:54.420852Z"
    }
   },
   "outputs": [],
   "source": [
    "## madx = Madx(command_log=\"commandlog\") #Writes the errors in this file once madx has quit\n",
    "## madx.option(verbose=False, debug=False, echo=True, warn=False, twiss_print=False) #Hides the output in the terminal\n",
    "## madx.call(\"/eos/user/e/eljohnso/SWAN_projects/acc-models-tls/ps_extraction/tt2tt10_lhc_q20/stitched/get_initial_conditions_lhc_q20.madx\")\n",
    "## madx.quit()"
   ]
  },
  {
   "cell_type": "markdown",
   "id": "entitled-swift",
   "metadata": {},
   "source": [
    "## D16STRAY and F16SHIM are the two elements to consider fringe fields in MU16\n",
    "\n",
    "#### we place them as seen in: https://gitlab.cern.ch/acc-models/acc-models-tls/-/blob/2021/ps_extraction/tt2tt10_lhc_q20/stitched/get_initial_conditions_lhc_q20.madx"
   ]
  },
  {
   "cell_type": "code",
   "execution_count": 73,
   "id": "senior-marks",
   "metadata": {
    "ExecuteTime": {
     "end_time": "2021-07-21T14:54:56.856429Z",
     "start_time": "2021-07-21T14:54:54.428197Z"
    }
   },
   "outputs": [
    {
     "name": "stdout",
     "output_type": "stream",
     "text": [
      "\n",
      "  ++++++++++++++++++++++++++++++++++++++++++++\n",
      "  +     MAD-X 5.06.01  (64 bit, Linux)       +\n",
      "  + Support: mad@cern.ch, http://cern.ch/mad +\n",
      "  + Release   date: 2020.09.01               +\n",
      "  + Execution date: 2021.07.21 16:54:56      +\n",
      "  ++++++++++++++++++++++++++++++++++++++++++++\n"
     ]
    }
   ],
   "source": [
    "madx = Madx(command_log=\"commandlog\") #Writes the errors in this file once madx has quit\n",
    "madx.option(verbose=False, debug=False, echo=True, warn=False, twiss_print=False)\n",
    "\n",
    "madx.beam(particle='proton', pc=26, exn=3.5e-6,eyn=3.5E-6)\n",
    "madx.input('BRHO:= BEAM->PC * 3.3356;')\n",
    "\n",
    "#len_ft16 = 7.701173928\n",
    "\n",
    "# madx.command.sequence.clone('S1', refer=entry, l=len_ft16)\n",
    "madx.input('FT16: sequence, refer=entry, l=7.701173928;')\n",
    "madx.command.endsequence()\n",
    "\n",
    "madx.command.rbend.clone('D16STRAY', L=2.20480, ANGLE=0.0, K1=-.047, K2=0.33)\n",
    "madx.command.rbend.clone('F16SHIM', L=2.19624,ANGLE=0.021,K1=0.0)\n",
    "\n",
    "madx.command.seqedit(sequence='FT16')\n",
    "madx.command.install(element='D16STRAY_1', class_='D16STRAY', at='2.700072902') # Random positions, remeber starts from middle\n",
    "madx.command.install(element='F16SHIM_1', class_='F16SHIM', at='4.904893572')\n",
    "madx.command.endedit()\n",
    "\n",
    "madx.use(sequence=\"FT16\")"
   ]
  },
  {
   "cell_type": "markdown",
   "id": "confident-consumption",
   "metadata": {},
   "source": [
    "#### Here I used the Initial conditions from MADX stitched model of PS extraction to TT10 LHC Q20 beam\n",
    "\n",
    "- betx0              =       2.5103613982e+01 ;\n",
    "- bety0              =       8.3789531557e+00 ;\n",
    "- alfx0              =      -2.3322645191e+00 ;\n",
    "- alfy0              =       9.7954156718e-01 ;\n",
    "- dx0                =       3.0982680415e+00 ;\n",
    "- dy0                =       0.0000000000e+00 ;\n",
    "- dpx0               =       2.6262543044e-01 ;\n",
    "- dpy0               =       0.0000000000e+00 ;\n",
    "\n",
    "## Do i need to change the initial x here and look at the output x ?\n",
    "### But then the transport matrix would be different depending on the input..."
   ]
  },
  {
   "cell_type": "code",
   "execution_count": 96,
   "id": "colored-medline",
   "metadata": {
    "ExecuteTime": {
     "end_time": "2021-07-21T15:32:16.800006Z",
     "start_time": "2021-07-21T15:32:15.929754Z"
    }
   },
   "outputs": [
    {
     "data": {
      "image/png": "[encoded data removed]",
      "text/plain": [
       "<Figure size 504x360 with 1 Axes>"
      ]
     },
     "metadata": {
      "needs_background": "light"
     },
     "output_type": "display_data"
    }
   ],
   "source": [
    "LHCx = 1.078422e-01\n",
    "LHCxp = 3.131043e-02\n",
    "TOFx = 1.173072e-01\n",
    "TOFxp = 2.975372e-02\n",
    "ADx = 1.101851e-01\n",
    "ADxp = 2.973021e-02\n",
    "\n",
    "\n",
    "values_lim = 0.1 # calculate the coefficient in the range +/-values_lim\n",
    "values_no = 10;\n",
    "xvalues = np.linspace(-values_lim, values_lim, values_no)+LHCx # This centers the linspace around the position of the beam\n",
    "yvalues = np.zeros(values_no)\n",
    "vectorOld = np.array([[0.], [0.], [0.], [0.], [0.], [0.]])\n",
    "\n",
    "for i in range (0,values_no): \n",
    "    \n",
    "    twiss = madx.twiss(betx=2.5103613982e+01, bety=8.3789531557e+00,\n",
    "                       alfx=-2.3322645191e+00, alfy=9.7954156718e-01,\n",
    "                       x=xvalues[i],\n",
    "                       dx=3.0982680415e+00, dy=0.0000000000e+00,\n",
    "                       dpx=2.6262543044e-01, dpy=0.0000000000e+00,\n",
    "                       rmatrix=True).dframe()\n",
    "\n",
    "    matExtracted = get_matrix_from_twiss(twiss)\n",
    "\n",
    "    vectorOld[0]=xvalues[i]\n",
    "    vectorNew = np.dot(matExtracted,vectorOld) # Matrix multiplication    \n",
    "    yvalues[i]=vectorNew[0]\n",
    "\n",
    "fig, ax = plt.subplots(1, 1, figsize=(7,5), tight_layout=True, sharex=True)\n",
    "\n",
    "ax.plot(xvalues, yvalues, marker = 'o', color = 'b')\n",
    "ax.set_xlabel(\"x\")\n",
    "ax.set_ylabel(\"y\")\n",
    "\n",
    "plt.show()"
   ]
  },
  {
   "cell_type": "markdown",
   "id": "alternative-space",
   "metadata": {},
   "source": [
    "#### Let's extract the matrix from the twiss"
   ]
  },
  {
   "cell_type": "code",
   "execution_count": 75,
   "id": "received-carroll",
   "metadata": {
    "ExecuteTime": {
     "end_time": "2021-07-21T14:54:57.197260Z",
     "start_time": "2021-07-21T14:54:57.181157Z"
    }
   },
   "outputs": [
    {
     "name": "stdout",
     "output_type": "stream",
     "text": [
      "Extracted matrix:\n",
      "\n",
      " [[ 1.41734032  9.23833294  0.          0.          0.          0.03568377]\n",
      " [ 0.10761688  1.40700192  0.          0.          0.          0.02101444]\n",
      " [ 0.          0.          0.60877243  6.2475826   0.          0.        ]\n",
      " [ 0.          0.         -0.09988076  0.6176145   0.          0.        ]\n",
      " [-0.02594444 -0.14393128  0.          0.          1.          0.0098676 ]\n",
      " [ 0.          0.          0.          0.          0.          1.        ]]\n"
     ]
    }
   ],
   "source": [
    "matExtracted = get_matrix_from_twiss(twiss)\n",
    "print (\"Extracted matrix:\\n\\n\",matExtracted)"
   ]
  },
  {
   "cell_type": "markdown",
   "id": "entitled-romance",
   "metadata": {},
   "source": [
    "## Plot one matrix coefficient of the extracted matrix to test\n",
    "\n",
    "- I'm varying one parameter at a time (x, xp, y, yp, T, PT) with the other coordinates set to zero such as:\n",
    "\n",
    "\\begin{equation}\n",
    "\\left(\\begin{array}{c}\n",
    "{\\pmb{x^{New}}}  \\\\\n",
    "{x'^{New}}  \\\\\n",
    "{y^{New}}  \\\\\n",
    "{y'^{New}}  \\\\\n",
    "{t^{New}}  \\\\\n",
    "{(\\frac{\\delta p}{p})^{New}}  \\\\\n",
    "\\end{array}\\right) =\n",
    "\\left(\\begin{array}{cccccc}\n",
    "R_{11} & R_{12} & R_{13} & R_{14} & R_{15} & R_{16} \\\\\n",
    "R_{21} & R_{22} & R_{23} & R_{24} & R_{25} & R_{26} \\\\\n",
    "R_{31} & R_{32} & R_{33} & R_{34} & R_{35} & R_{36} \\\\\n",
    "R_{41}  & R_{42} & R_{43} & R_{44} & R_{45} & R_{46} \\\\\n",
    "R_{51} & R_{52} & R_{53} & R_{54} & R_{55} & R_{56} \\\\\n",
    "R_{61} & R_{62} & R_{63} & R_{64} & R_{65} & R_{66} \\\\\n",
    "\\end{array}\\right)\n",
    "\\left(\\begin{array}{c}\n",
    "{\\pmb{x^{Old}}}  \\\\\n",
    "{0}  \\\\\n",
    "{0}  \\\\\n",
    "{0}  \\\\\n",
    "{0}  \\\\\n",
    "{0}  \\\\\n",
    "\\end{array}\\right)\n",
    "\\end{equation}\n",
    "\n",
    "\n",
    " with $x^{Old}$ = [-0.01  -0.005  0.     0.005  0.01 ] for example\n",
    "- I plot $x^{New}$ as a function of $x^{Old}$\n",
    "- then $x^{New}$ as a function of $x'^{Old}$\n",
    "- ...\n",
    "- $(\\frac{\\delta p}{p})^{New}$ as a function of $(\\frac{\\delta p}{p})^{Old}$\n",
    "\n",
    "### I'm also starting from different position depending on the beam type"
   ]
  },
  {
   "cell_type": "code",
   "execution_count": 76,
   "id": "vulnerable-cosmetic",
   "metadata": {
    "ExecuteTime": {
     "end_time": "2021-07-21T14:54:57.670612Z",
     "start_time": "2021-07-21T14:54:57.202346Z"
    }
   },
   "outputs": [
    {
     "data": {
      "image/png": "[encoded data removed]",
      "text/plain": [
       "<Figure size 504x360 with 1 Axes>"
      ]
     },
     "metadata": {
      "needs_background": "light"
     },
     "output_type": "display_data"
    }
   ],
   "source": [
    "if True: # Necessary otherwise you get an output in the console\n",
    "    LHCx = 1.078422e-01\n",
    "    values_lim = 0.1 # calculate the coefficient in the range +/-values_lim\n",
    "    values_no = 5      # choose how many points you want to calculate\n",
    "    xvalues = np.linspace(-values_lim, values_lim, values_no)+LHCx # This centers the linspace around the position of the beam\n",
    "    yvalues = np.zeros(values_no)\n",
    "    vectorOld = np.array([[0.], [0.], [0.], [0.], [0.], [0.]])\n",
    "        \n",
    "    for i in range (0,values_no):        \n",
    "        vectorOld[0]=xvalues[i]\n",
    "        vectorNew = np.dot(matExtracted,vectorOld) # Matrix multiplication    \n",
    "        yvalues[i]=vectorNew[0]\n",
    "\n",
    "    fig, ax = plt.subplots(1, 1, figsize=(7,5), tight_layout=True, sharex=True)\n",
    "    \n",
    "    ax.plot(xvalues, yvalues, marker = 'o', color = 'b')\n",
    "    ax.set_xlabel(\"x\")\n",
    "    ax.set_ylabel(\"y\")"
   ]
  },
  {
   "cell_type": "code",
   "execution_count": null,
   "id": "respective-rescue",
   "metadata": {},
   "outputs": [],
   "source": []
  }
 ],
 "metadata": {
  "kernelspec": {
   "display_name": "Python 3",
   "language": "python",
   "name": "python3"
  },
  "language_info": {
   "codemirror_mode": {
    "name": "ipython",
    "version": 3
   },
   "file_extension": ".py",
   "mimetype": "text/x-python",
   "name": "python",
   "nbconvert_exporter": "python",
   "pygments_lexer": "ipython3",
   "version": "3.8.6"
  }
 },
 "nbformat": 4,
 "nbformat_minor": 5
}
