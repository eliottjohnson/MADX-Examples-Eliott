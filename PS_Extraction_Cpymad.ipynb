{
 "cells": [
  {
   "cell_type": "code",
   "execution_count": 43,
   "id": "supposed-event",
   "metadata": {
    "ExecuteTime": {
     "end_time": "2021-07-21T14:01:49.152735Z",
     "start_time": "2021-07-21T14:01:49.140194Z"
    },
    "code_folding": [
     0
    ]
   },
   "outputs": [],
   "source": [
    "# imports\n",
    "import numpy as np\n",
    "import pandas as pd\n",
    "import matplotlib.pyplot as plt\n",
    "from IPython.display import Markdown as md\n",
    "from IPython.core.display import display, HTML, Markdown\n",
    "from cpymad.madx import Madx\n",
    "%matplotlib notebook"
   ]
  },
  {
   "cell_type": "markdown",
   "id": "violent-budapest",
   "metadata": {},
   "source": [
    "### Yann's example extracting a Matrix from MADX\n",
    "https://gitlab.cern.ch/abt-optics-and-code-repository/simulation-codes/cpymad_examples/-/blob/master/MATRIX_extraction.ipynb"
   ]
  },
  {
   "cell_type": "code",
   "execution_count": 44,
   "id": "concerned-advocacy",
   "metadata": {
    "ExecuteTime": {
     "end_time": "2021-07-21T14:01:49.170917Z",
     "start_time": "2021-07-21T14:01:49.158790Z"
    }
   },
   "outputs": [],
   "source": [
    "def get_matrix_from_twiss(twiss):\n",
    "    elem = twiss.iloc[-1] # iloc[-1] takes last row of the data frame\n",
    "    matExtracted = np.matrix([\n",
    "        elem[['re11', 're12', 're13', 're14', 're15', 're16']].values.astype(float),\n",
    "        elem[['re21', 're22', 're23', 're24', 're25', 're26']].values.astype(float),\n",
    "        elem[['re31', 're32', 're33', 're34', 're35', 're36']].values.astype(float),\n",
    "        elem[['re41', 're42', 're43', 're44', 're45', 're46']].values.astype(float),\n",
    "        elem[['re51', 're52', 're53', 're54', 're55', 're56']].values.astype(float),\n",
    "        elem[['re61', 're62', 're63', 're64', 're65', 're66']].values.astype(float),\n",
    "    ])\n",
    "    return matExtracted"
   ]
  },
  {
   "cell_type": "markdown",
   "id": "classical-person",
   "metadata": {},
   "source": [
    "### This is a test to run the whole get_initial_conditions_lhc_q20.madx file"
   ]
  },
  {
   "cell_type": "code",
   "execution_count": 45,
   "id": "italian-appreciation",
   "metadata": {
    "ExecuteTime": {
     "end_time": "2021-07-21T14:01:49.179017Z",
     "start_time": "2021-07-21T14:01:49.175549Z"
    }
   },
   "outputs": [],
   "source": [
    "## madx = Madx(command_log=\"commandlog\") #Writes the errors in this file once madx has quit\n",
    "## madx.option(verbose=False, debug=False, echo=True, warn=False, twiss_print=False) #Hides the output in the terminal\n",
    "## madx.call(\"/eos/user/e/eljohnso/SWAN_projects/acc-models-tls/ps_extraction/tt2tt10_lhc_q20/stitched/get_initial_conditions_lhc_q20.madx\")\n",
    "## madx.quit()"
   ]
  },
  {
   "cell_type": "markdown",
   "id": "administrative-origin",
   "metadata": {},
   "source": [
    "## D16STRAY and F16SHIM are the two elements to consider fringe fields in MU16\n",
    "\n",
    "#### we place them as seen in: https://gitlab.cern.ch/acc-models/acc-models-tls/-/blob/2021/ps_extraction/tt2tt10_lhc_q20/stitched/get_initial_conditions_lhc_q20.madx"
   ]
  },
  {
   "cell_type": "code",
   "execution_count": 56,
   "id": "subjective-tomorrow",
   "metadata": {
    "ExecuteTime": {
     "end_time": "2021-07-21T14:08:13.546099Z",
     "start_time": "2021-07-21T14:08:11.786027Z"
    }
   },
   "outputs": [
    {
     "name": "stdout",
     "output_type": "stream",
     "text": [
      "\n",
      "  ++++++++++++++++++++++++++++++++++++++++++++\n",
      "  +     MAD-X 5.06.01  (64 bit, Linux)       +\n",
      "  + Support: mad@cern.ch, http://cern.ch/mad +\n",
      "  + Release   date: 2020.09.01               +\n",
      "  + Execution date: 2021.07.21 16:08:13      +\n",
      "  ++++++++++++++++++++++++++++++++++++++++++++\n"
     ]
    }
   ],
   "source": [
    "madx = Madx(command_log=\"commandlog\") #Writes the errors in this file once madx has quit\n",
    "madx.option(verbose=False, debug=False, echo=True, warn=False, twiss_print=False)\n",
    "\n",
    "madx.beam(particle='proton', pc=26, exn=3.5e-6,eyn=3.5E-6)\n",
    "madx.input('BRHO:= BEAM->PC * 3.3356;')\n",
    "\n",
    "#len_ft16 = 7.701173928\n",
    "\n",
    "# madx.command.sequence.clone('S1', refer=entry, l=len_ft16)\n",
    "madx.input('FT16: sequence, refer=entry, l=7.701173928;')\n",
    "madx.command.endsequence()\n",
    "\n",
    "madx.command.rbend.clone('D16STRAY', L=2.20480, ANGLE=0.0, K1=-.047, K2=0.33)\n",
    "madx.command.rbend.clone('F16SHIM', L=2.19624,ANGLE=0.021,K1=0.0)\n",
    "\n",
    "madx.command.seqedit(sequence='FT16')\n",
    "madx.command.install(element='D16STRAY_1', class_='D16STRAY', at='2.700072902') # Random positions, remeber starts from middle\n",
    "madx.command.install(element='F16SHIM_1', class_='F16SHIM', at='4.904893572')\n",
    "madx.command.endedit()\n",
    "\n",
    "madx.use(sequence=\"FT16\")"
   ]
  },
  {
   "cell_type": "markdown",
   "id": "durable-lease",
   "metadata": {},
   "source": [
    "#### Here I used the Initial conditions from MADX stitched model of PS extraction to TT10 LHC Q20 beam\n",
    "\n",
    "- betx0              =       2.5103613982e+01 ;\n",
    "- bety0              =       8.3789531557e+00 ;\n",
    "- alfx0              =      -2.3322645191e+00 ;\n",
    "- alfy0              =       9.7954156718e-01 ;\n",
    "- dx0                =       3.0982680415e+00 ;\n",
    "- dy0                =       0.0000000000e+00 ;\n",
    "- dpx0               =       2.6262543044e-01 ;\n",
    "- dpy0               =       0.0000000000e+00 ;"
   ]
  },
  {
   "cell_type": "code",
   "execution_count": 59,
   "id": "protected-screw",
   "metadata": {
    "ExecuteTime": {
     "end_time": "2021-07-21T14:08:24.957706Z",
     "start_time": "2021-07-21T14:08:24.611081Z"
    }
   },
   "outputs": [
    {
     "data": {
      "image/png": "[encoded data removed]",
      "text/plain": [
       "<Figure size 432x288 with 1 Axes>"
      ]
     },
     "metadata": {
      "needs_background": "light"
     },
     "output_type": "display_data"
    }
   ],
   "source": [
    "twiss = madx.twiss(betx=2.5103613982e+01, bety=8.3789531557e+00,\n",
    "                   alfx=-2.3322645191e+00, alfy=9.7954156718e-01,\n",
    "                   dx=3.0982680415e+00, dy=0.0000000000e+00,\n",
    "                   dpx=2.6262543044e-01, dpy=0.0000000000e+00,\n",
    "                   rmatrix=True).dframe()\n",
    "\n",
    "%matplotlib inline\n",
    "import matplotlib.pyplot as plt\n",
    "plt.plot(twiss.s, twiss.betx,label='beta_x')\n",
    "plt.plot(twiss.s, twiss.bety,label='beta_y')\n",
    "plt.xlabel('s [m]')\n",
    "plt.ylabel('beta [m]')\n",
    "plt.legend()\n",
    "plt.show()"
   ]
  },
  {
   "cell_type": "code",
   "execution_count": 54,
   "id": "shared-samoa",
   "metadata": {
    "ExecuteTime": {
     "end_time": "2021-07-21T14:08:01.424343Z",
     "start_time": "2021-07-21T14:08:01.382491Z"
    }
   },
   "outputs": [
    {
     "name": "stdout",
     "output_type": "stream",
     "text": [
      "\n",
      "  Number of warnings: 0\n",
      "\n",
      "  ++++++++++++++++++++++++++++++++++++++++++++\n",
      "  +          MAD-X finished normally         +\n",
      "  ++++++++++++++++++++++++++++++++++++++++++++\n"
     ]
    }
   ],
   "source": [
    "madx.quit()"
   ]
  }
 ],
 "metadata": {
  "kernelspec": {
   "display_name": "Python 3",
   "language": "python",
   "name": "python3"
  },
  "language_info": {
   "codemirror_mode": {
    "name": "ipython",
    "version": 3
   },
   "file_extension": ".py",
   "mimetype": "text/x-python",
   "name": "python",
   "nbconvert_exporter": "python",
   "pygments_lexer": "ipython3",
   "version": "3.8.6"
  }
 },
 "nbformat": 4,
 "nbformat_minor": 5
}
