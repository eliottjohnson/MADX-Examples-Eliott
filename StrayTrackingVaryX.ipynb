{
 "cells": [
  {
   "cell_type": "code",
   "execution_count": 1,
   "id": "considered-syracuse",
   "metadata": {
    "ExecuteTime": {
     "end_time": "2021-07-26T12:19:14.279375Z",
     "start_time": "2021-07-26T12:19:12.321288Z"
    },
    "code_folding": [
     0
    ]
   },
   "outputs": [],
   "source": [
    "# imports\n",
    "import atracker as atr\n",
    "import ast\n",
    "from importlib import reload\n",
    "import numpy as np\n",
    "import pandas as pd\n",
    "import matplotlib.pyplot as plt\n",
    "from scipy.interpolate import RegularGridInterpolator\n",
    "from multiprocessing import Pool\n",
    "from pybt.trackers.boris import track_to_condition\n",
    "import warnings\n",
    "import time\n",
    "from IPython.display import Markdown as md\n",
    "from IPython.core.display import display, HTML, Markdown\n",
    "from cpymad.madx import Madx\n",
    "from tqdm.notebook import tqdm\n",
    "warnings.filterwarnings('ignore')\n",
    "%matplotlib notebook"
   ]
  },
  {
   "cell_type": "code",
   "execution_count": 2,
   "id": "proud-yukon",
   "metadata": {
    "ExecuteTime": {
     "end_time": "2021-07-26T12:19:14.348297Z",
     "start_time": "2021-07-26T12:19:14.285944Z"
    }
   },
   "outputs": [],
   "source": [
    "%%capture\n",
    "tqdm().pandas()"
   ]
  },
  {
   "cell_type": "markdown",
   "id": "chemical-translator",
   "metadata": {},
   "source": [
    "### Settings"
   ]
  },
  {
   "cell_type": "code",
   "execution_count": 3,
   "id": "insured-extent",
   "metadata": {
    "ExecuteTime": {
     "end_time": "2021-07-26T12:19:52.548129Z",
     "start_time": "2021-07-26T12:19:14.351953Z"
    },
    "code_folding": []
   },
   "outputs": [
    {
     "name": "stdout",
     "output_type": "stream",
     "text": [
      "In the direction x we have 201 values from -0.76 to 0.76 in steps of 0.0076\n",
      "In the direction y we have 201 values from -0.9 to 0.9 in steps of 0.009\n",
      "In the direction z we have 527 values from -2.63 to 2.63 in steps of 0.01\n",
      "And average fields are\n",
      "Bx    8.162681e-19\n",
      "By   -3.424371e-04\n",
      "Bz    4.846168e-21\n",
      "dtype: float64\n"
     ]
    }
   ],
   "source": [
    "# settings\n",
    "particle = 'proton'       # particle name: 'proton' or 'carbon12'\n",
    "en_per_unit_MeV = 26e3    # kinetic energy of the beam\n",
    "track_end_z_m = 2.5       # approximate location in longitudinal direction of the magnet at where to stop the tracking\n",
    "\n",
    "# input angle and position of the beam in the global reference system\n",
    "# values base on discussion with M. Fraser and https://codimd.web.cern.ch/05LpRgDIRIKUpRnTWTfbEA\n",
    "ang_glob = (0.0682, 0.0)\n",
    "pos_glob = (6.490e-02,  0.0, -2.51e+00)\n",
    "\n",
    "read_fm = True            # read out the field map\n",
    "interpolate_fm = True     # prepare the interpolated field map for tracking\n",
    "fm_path = '/eos/project-b/beam-transfer-physics/public/data/ps-main-unit-type-u/maps/' # path to the field map file\n",
    "fm_file = 'MUU_xy_grid.table'\n",
    "save_ref_traj = False     # save the reference trajectory to a file\n",
    "\n",
    "# labels for parameters of the 6x6 transport matrix\n",
    "var_labels = {\n",
    "    \"x\": \" x [m]\",\n",
    "    \"y\": \" y [m]\",\n",
    "    \"xp\": \" xp [rad]\",\n",
    "    \"yp\": \" yp [rad]\",\n",
    "    \"t\": \" T [m]\",\n",
    "    \"D\": \" D [1]\",\n",
    "} \n",
    "\n",
    "if read_fm:\n",
    "    df = pd.read_csv(fm_path+fm_file,delim_whitespace=True, skiprows=8, names=['x', 'y', 'z', 'Bx', 'By', 'Bz'])\n",
    "    \n",
    "    # mirroring the field map (wrt y=0) as only half of the magnet field is in the file\n",
    "    df_mir = df.copy() #copies a list instead of pointing to the same list\n",
    "    df_mir[[\"y\", \"Bx\", \"Bz\"]] = df_mir[[\"y\", \"Bx\", \"Bz\"]].apply(np.negative) #multiply by minus 1 the y, Bx and Bz columns\n",
    "    df_mir = df_mir.drop(df_mir[df_mir['y']==0.0].index) #.drop only select a smaller part of the data frame. Not sure what what the inner part selects\n",
    "\n",
    "    fieldmap = pd.concat([df, df_mir]) # concatenate joins the two dataframes one after the other\n",
    "\n",
    "    fieldmap.sort_values(by=['x','y'], inplace=True) #Sorts first the x column and then the y one. See https://pandas.pydata.org/pandas-docs/stable/reference/api/pandas.DataFrame.sort_values.html\n",
    "    fieldmap['Bmod'] = np.sqrt(fieldmap['Bx']**2+fieldmap['By']**2+fieldmap['Bz']**2) #Modulus of the B field. Calulates the length of the vector field and adds it into a additional column\n",
    "    for axis in ['x', 'y', 'z']: #Loops through these three columns \n",
    "        axis_val = fieldmap[axis].unique() #List containing the unique values of each column\n",
    "        print('In the direction {:} we have {:} values from {:} to {:} in steps of {:}'.format(axis, len(axis_val), axis_val.min(), axis_val.max(), np.unique(np.diff(axis_val)).mean().round(6)))\n",
    "        #.diff calculates the a[i+1] - a[i]. Basically outputs the steps\n",
    "        # then you take the mean of the unique steps and round to 6 figures after the decimal\n",
    "        \n",
    "    print('And average fields are')    \n",
    "    print(fieldmap[['Bx', 'By', 'Bz']].mean())    #The syntax is you take the mean of each element in the list\n",
    "\n",
    "if interpolate_fm:\n",
    "    interp_fieldmap = atr.interpolate_fieldmap(fieldmap)"
   ]
  },
  {
   "cell_type": "code",
   "execution_count": 4,
   "id": "national-roads",
   "metadata": {
    "ExecuteTime": {
     "end_time": "2021-07-26T12:19:52.564473Z",
     "start_time": "2021-07-26T12:19:52.551471Z"
    },
    "code_folding": [
     0
    ]
   },
   "outputs": [],
   "source": [
    "# functions\n",
    "\n",
    "# magnetic field at position x at time based on the field map values\n",
    "def func_B(x, time):\n",
    "    \"\"\" return interpolated values of magnetic field components\n",
    "    at point x and time \"\"\"\n",
    "    Bxi_p = interp_fieldmap['Bx'](x).squeeze()\n",
    "    Byi_p = interp_fieldmap['By'](x).squeeze()\n",
    "    Bzi_p = interp_fieldmap['Bz'](x).squeeze()\n",
    "    return np.array([Bxi_p, Byi_p, Bzi_p])\n",
    "    \n",
    "def track_one_particle(input_zip, time_step=4e-12, particle=particle):\n",
    "    \"\"\" run one particle to condition \n",
    "    the initial particle parameters and the end-tracking condition is specified in input_zip \"\"\"\n",
    "    \n",
    "    # distribution and type information on the particle plus the tracking-end condition\n",
    "    id_part, x0, p0, t0, track_is_inside = input_zip\n",
    "\n",
    "    xs, ps, ts, _ = track_to_condition(track_is_inside,\n",
    "                                       x = x0,\n",
    "                                       p = p0,\n",
    "                                       t = t0,\n",
    "                                       mass = atr.Particle(particle).get_e0_eV(),\n",
    "                                       n_charges = atr.Particle(particle).get_z(),\n",
    "                                       time_step = time_step,\n",
    "                                       return_full_track = True,\n",
    "                                       func_B = func_B)\n",
    "    \n",
    "#     print(\"Len of xs = {}\".format(len(xs)))\n",
    "    return pd.DataFrame({'id': [id_part] * len(xs),\n",
    "                         'k': list(range(0, len(xs))),\n",
    "                         'x': np.array(xs)[:, 0],\n",
    "                         'y': np.array(xs)[:, 1],\n",
    "                         'z': np.array(xs)[:, 2],\n",
    "                         'Px': np.array(ps)[:, 0],\n",
    "                         'Py': np.array(ps)[:, 1],\n",
    "                         'Pz': np.array(ps)[:, 2],\n",
    "                         't': np.array(ts)})\n",
    "\n",
    "def trackend_line(ref_particle, track_end_z_m):\n",
    "    \"\"\" return the condition to finish the tracking of a whole set of particles\n",
    "    based on the reference particle of distribution ref_particle\n",
    "    and the approximate end condition track_end_z_m \"\"\"\n",
    "    \n",
    "    # initial condition of end for the reference particle\n",
    "    track_is_inside_ref = lambda x, p, t : x[2] < track_end_z_m\n",
    "    input_zip = (ref_particle+(track_is_inside_ref,))\n",
    "    \n",
    "    # run reference particle\n",
    "    tracks_ref = track_one_particle(input_zip)\n",
    "    tracks_ref = atr.Tracks([tracks_ref], particle)\n",
    "    \n",
    "    return tracks_ref.get_track_condition() "
   ]
  },
  {
   "cell_type": "code",
   "execution_count": 5,
   "id": "tropical-framing",
   "metadata": {
    "ExecuteTime": {
     "end_time": "2021-07-26T12:19:52.576876Z",
     "start_time": "2021-07-26T12:19:52.570081Z"
    }
   },
   "outputs": [],
   "source": [
    "def get_matrix_from_twiss(twiss):\n",
    "    elem = twiss.iloc[-1] # iloc[-1] takes last row of the data frame\n",
    "    matExtracted = np.matrix([\n",
    "        elem[['re11', 're12', 're13', 're14', 're15', 're16']].values.astype(float),\n",
    "        elem[['re21', 're22', 're23', 're24', 're25', 're26']].values.astype(float),\n",
    "        elem[['re31', 're32', 're33', 're34', 're35', 're36']].values.astype(float),\n",
    "        elem[['re41', 're42', 're43', 're44', 're45', 're46']].values.astype(float),\n",
    "        elem[['re51', 're52', 're53', 're54', 're55', 're56']].values.astype(float),\n",
    "        elem[['re61', 're62', 're63', 're64', 're65', 're66']].values.astype(float),\n",
    "    ])\n",
    "    return matExtracted"
   ]
  },
  {
   "cell_type": "code",
   "execution_count": 6,
   "id": "inclusive-cornwall",
   "metadata": {
    "ExecuteTime": {
     "end_time": "2021-07-26T12:19:52.584069Z",
     "start_time": "2021-07-26T12:19:52.579750Z"
    }
   },
   "outputs": [],
   "source": [
    "LHCx = 1.078422e-01\n",
    "LHCxp = 3.131043e-02\n",
    "TOFx = 1.173072e-01\n",
    "TOFxp = 2.975372e-02\n",
    "ADx = 1.101851e-01\n",
    "ADxp = 2.973021e-02\n",
    "\n",
    "# Choose beam type here\n",
    "initialValues = [0,0,0,0,0,0]"
   ]
  },
  {
   "cell_type": "markdown",
   "id": "local-philosophy",
   "metadata": {},
   "source": [
    "### Generate set of 13 particles and Run set of 13 particles"
   ]
  },
  {
   "cell_type": "code",
   "execution_count": 7,
   "id": "indian-remains",
   "metadata": {
    "ExecuteTime": {
     "end_time": "2021-07-26T12:20:22.853458Z",
     "start_time": "2021-07-26T12:19:52.589292Z"
    }
   },
   "outputs": [
    {
     "data": {
      "text/html": [
       "<style  type=\"text/css\" >\n",
       "</style><table id=\"T_96362_\" ><thead>    <tr>        <th class=\"blank level0\" ></th>        <th class=\"col_heading level0 col0\" >x0 [m]</th>        <th class=\"col_heading level0 col1\" >xp0 [rad]</th>        <th class=\"col_heading level0 col2\" >y0 [m]</th>        <th class=\"col_heading level0 col3\" >yp0 [rad]</th>        <th class=\"col_heading level0 col4\" >T0 [m]</th>        <th class=\"col_heading level0 col5\" >D0 [1]</th>    </tr></thead><tbody>\n",
       "                <tr>\n",
       "                        <th id=\"T_96362_level0_row0\" class=\"row_heading level0 row0\" >x [m]</th>\n",
       "                        <td id=\"T_96362_row0_col0\" class=\"data row0 col0\" >1.5159</td>\n",
       "                        <td id=\"T_96362_row0_col1\" class=\"data row0 col1\" >5.9145</td>\n",
       "                        <td id=\"T_96362_row0_col2\" class=\"data row0 col2\" >0.0000</td>\n",
       "                        <td id=\"T_96362_row0_col3\" class=\"data row0 col3\" >0.0000</td>\n",
       "                        <td id=\"T_96362_row0_col4\" class=\"data row0 col4\" >-0.0000</td>\n",
       "                        <td id=\"T_96362_row0_col5\" class=\"data row0 col5\" >0.0688</td>\n",
       "            </tr>\n",
       "            <tr>\n",
       "                        <th id=\"T_96362_level0_row1\" class=\"row_heading level0 row1\" >xp [rad]</th>\n",
       "                        <td id=\"T_96362_row1_col0\" class=\"data row1 col0\" >0.2033</td>\n",
       "                        <td id=\"T_96362_row1_col1\" class=\"data row1 col1\" >1.4532</td>\n",
       "                        <td id=\"T_96362_row1_col2\" class=\"data row1 col2\" >0.0000</td>\n",
       "                        <td id=\"T_96362_row1_col3\" class=\"data row1 col3\" >0.0000</td>\n",
       "                        <td id=\"T_96362_row1_col4\" class=\"data row1 col4\" >-0.0000</td>\n",
       "                        <td id=\"T_96362_row1_col5\" class=\"data row1 col5\" >0.0248</td>\n",
       "            </tr>\n",
       "            <tr>\n",
       "                        <th id=\"T_96362_level0_row2\" class=\"row_heading level0 row2\" >y [m]</th>\n",
       "                        <td id=\"T_96362_row2_col0\" class=\"data row2 col0\" >-0.0000</td>\n",
       "                        <td id=\"T_96362_row2_col1\" class=\"data row2 col1\" >-0.0000</td>\n",
       "                        <td id=\"T_96362_row2_col2\" class=\"data row2 col2\" >0.5552</td>\n",
       "                        <td id=\"T_96362_row2_col3\" class=\"data row2 col3\" >4.2020</td>\n",
       "                        <td id=\"T_96362_row2_col4\" class=\"data row2 col4\" >-0.0000</td>\n",
       "                        <td id=\"T_96362_row2_col5\" class=\"data row2 col5\" >0.0000</td>\n",
       "            </tr>\n",
       "            <tr>\n",
       "                        <th id=\"T_96362_level0_row3\" class=\"row_heading level0 row3\" >yp [rad]</th>\n",
       "                        <td id=\"T_96362_row3_col0\" class=\"data row3 col0\" >-0.0000</td>\n",
       "                        <td id=\"T_96362_row3_col1\" class=\"data row3 col1\" >-0.0000</td>\n",
       "                        <td id=\"T_96362_row3_col2\" class=\"data row3 col2\" >-0.1580</td>\n",
       "                        <td id=\"T_96362_row3_col3\" class=\"data row3 col3\" >0.6054</td>\n",
       "                        <td id=\"T_96362_row3_col4\" class=\"data row3 col4\" >-0.0000</td>\n",
       "                        <td id=\"T_96362_row3_col5\" class=\"data row3 col5\" >0.0000</td>\n",
       "            </tr>\n",
       "            <tr>\n",
       "                        <th id=\"T_96362_level0_row4\" class=\"row_heading level0 row4\" >T [m]</th>\n",
       "                        <td id=\"T_96362_row4_col0\" class=\"data row4 col0\" >-0.0236</td>\n",
       "                        <td id=\"T_96362_row4_col1\" class=\"data row4 col1\" >-0.0465</td>\n",
       "                        <td id=\"T_96362_row4_col2\" class=\"data row4 col2\" >0.0000</td>\n",
       "                        <td id=\"T_96362_row4_col3\" class=\"data row4 col3\" >0.0000</td>\n",
       "                        <td id=\"T_96362_row4_col4\" class=\"data row4 col4\" >1.0000</td>\n",
       "                        <td id=\"T_96362_row4_col5\" class=\"data row4 col5\" >0.0058</td>\n",
       "            </tr>\n",
       "            <tr>\n",
       "                        <th id=\"T_96362_level0_row5\" class=\"row_heading level0 row5\" >D [1]</th>\n",
       "                        <td id=\"T_96362_row5_col0\" class=\"data row5 col0\" >-0.0000</td>\n",
       "                        <td id=\"T_96362_row5_col1\" class=\"data row5 col1\" >0.0000</td>\n",
       "                        <td id=\"T_96362_row5_col2\" class=\"data row5 col2\" >0.0000</td>\n",
       "                        <td id=\"T_96362_row5_col3\" class=\"data row5 col3\" >0.0000</td>\n",
       "                        <td id=\"T_96362_row5_col4\" class=\"data row5 col4\" >-0.0000</td>\n",
       "                        <td id=\"T_96362_row5_col5\" class=\"data row5 col5\" >1.0000</td>\n",
       "            </tr>\n",
       "    </tbody></table>"
      ],
      "text/plain": [
       "<pandas.io.formats.style.Styler at 0x7fa5646620d0>"
      ]
     },
     "metadata": {},
     "output_type": "display_data"
    },
    {
     "data": {
      "text/html": [
       "<style  type=\"text/css\" >\n",
       "</style><table id=\"T_6342e_\" ><thead>    <tr>        <th class=\"blank level0\" ></th>        <th class=\"col_heading level0 col0\" >x0 [m]</th>        <th class=\"col_heading level0 col1\" >px0 [1]</th>        <th class=\"col_heading level0 col2\" >y0 [m]</th>        <th class=\"col_heading level0 col3\" >py0 [1]</th>        <th class=\"col_heading level0 col4\" >T0 [m]</th>        <th class=\"col_heading level0 col5\" >PT0 [1]</th>    </tr></thead><tbody>\n",
       "                <tr>\n",
       "                        <th id=\"T_6342e_level0_row0\" class=\"row_heading level0 row0\" >x [m]</th>\n",
       "                        <td id=\"T_6342e_row0_col0\" class=\"data row0 col0\" >1.5159</td>\n",
       "                        <td id=\"T_6342e_row0_col1\" class=\"data row0 col1\" >5.9145</td>\n",
       "                        <td id=\"T_6342e_row0_col2\" class=\"data row0 col2\" >0.0000</td>\n",
       "                        <td id=\"T_6342e_row0_col3\" class=\"data row0 col3\" >0.0000</td>\n",
       "                        <td id=\"T_6342e_row0_col4\" class=\"data row0 col4\" >-0.0000</td>\n",
       "                        <td id=\"T_6342e_row0_col5\" class=\"data row0 col5\" >0.0688</td>\n",
       "            </tr>\n",
       "            <tr>\n",
       "                        <th id=\"T_6342e_level0_row1\" class=\"row_heading level0 row1\" >px [1]</th>\n",
       "                        <td id=\"T_6342e_row1_col0\" class=\"data row1 col0\" >0.2033</td>\n",
       "                        <td id=\"T_6342e_row1_col1\" class=\"data row1 col1\" >1.4532</td>\n",
       "                        <td id=\"T_6342e_row1_col2\" class=\"data row1 col2\" >0.0000</td>\n",
       "                        <td id=\"T_6342e_row1_col3\" class=\"data row1 col3\" >0.0000</td>\n",
       "                        <td id=\"T_6342e_row1_col4\" class=\"data row1 col4\" >-0.0000</td>\n",
       "                        <td id=\"T_6342e_row1_col5\" class=\"data row1 col5\" >0.0248</td>\n",
       "            </tr>\n",
       "            <tr>\n",
       "                        <th id=\"T_6342e_level0_row2\" class=\"row_heading level0 row2\" >y [m]</th>\n",
       "                        <td id=\"T_6342e_row2_col0\" class=\"data row2 col0\" >-0.0000</td>\n",
       "                        <td id=\"T_6342e_row2_col1\" class=\"data row2 col1\" >-0.0000</td>\n",
       "                        <td id=\"T_6342e_row2_col2\" class=\"data row2 col2\" >0.5552</td>\n",
       "                        <td id=\"T_6342e_row2_col3\" class=\"data row2 col3\" >4.2020</td>\n",
       "                        <td id=\"T_6342e_row2_col4\" class=\"data row2 col4\" >-0.0000</td>\n",
       "                        <td id=\"T_6342e_row2_col5\" class=\"data row2 col5\" >0.0000</td>\n",
       "            </tr>\n",
       "            <tr>\n",
       "                        <th id=\"T_6342e_level0_row3\" class=\"row_heading level0 row3\" >py [1]</th>\n",
       "                        <td id=\"T_6342e_row3_col0\" class=\"data row3 col0\" >-0.0000</td>\n",
       "                        <td id=\"T_6342e_row3_col1\" class=\"data row3 col1\" >-0.0000</td>\n",
       "                        <td id=\"T_6342e_row3_col2\" class=\"data row3 col2\" >-0.1580</td>\n",
       "                        <td id=\"T_6342e_row3_col3\" class=\"data row3 col3\" >0.6054</td>\n",
       "                        <td id=\"T_6342e_row3_col4\" class=\"data row3 col4\" >-0.0000</td>\n",
       "                        <td id=\"T_6342e_row3_col5\" class=\"data row3 col5\" >0.0000</td>\n",
       "            </tr>\n",
       "            <tr>\n",
       "                        <th id=\"T_6342e_level0_row4\" class=\"row_heading level0 row4\" >T [m]</th>\n",
       "                        <td id=\"T_6342e_row4_col0\" class=\"data row4 col0\" >-0.0236</td>\n",
       "                        <td id=\"T_6342e_row4_col1\" class=\"data row4 col1\" >-0.0465</td>\n",
       "                        <td id=\"T_6342e_row4_col2\" class=\"data row4 col2\" >0.0000</td>\n",
       "                        <td id=\"T_6342e_row4_col3\" class=\"data row4 col3\" >0.0000</td>\n",
       "                        <td id=\"T_6342e_row4_col4\" class=\"data row4 col4\" >1.0000</td>\n",
       "                        <td id=\"T_6342e_row4_col5\" class=\"data row4 col5\" >0.0058</td>\n",
       "            </tr>\n",
       "            <tr>\n",
       "                        <th id=\"T_6342e_level0_row5\" class=\"row_heading level0 row5\" >PT [1]</th>\n",
       "                        <td id=\"T_6342e_row5_col0\" class=\"data row5 col0\" >-0.0000</td>\n",
       "                        <td id=\"T_6342e_row5_col1\" class=\"data row5 col1\" >0.0000</td>\n",
       "                        <td id=\"T_6342e_row5_col2\" class=\"data row5 col2\" >0.0000</td>\n",
       "                        <td id=\"T_6342e_row5_col3\" class=\"data row5 col3\" >0.0000</td>\n",
       "                        <td id=\"T_6342e_row5_col4\" class=\"data row5 col4\" >-0.0000</td>\n",
       "                        <td id=\"T_6342e_row5_col5\" class=\"data row5 col5\" >1.0000</td>\n",
       "            </tr>\n",
       "    </tbody></table>"
      ],
      "text/plain": [
       "<pandas.io.formats.style.Styler at 0x7fa55fda2490>"
      ]
     },
     "metadata": {},
     "output_type": "display_data"
    },
    {
     "data": {
      "image/png": "[encoded data removed]",
      "text/plain": [
       "<Figure size 360x360 with 2 Axes>"
      ]
     },
     "metadata": {
      "needs_background": "light"
     },
     "output_type": "display_data"
    }
   ],
   "source": [
    "setGen = atr.SetGenerator(particle)\n",
    "\n",
    "# distribution of the reference particle in local coordinate system \n",
    "distr_part_ref = {'dX': 0, 'dXP': 0, 'dY': 0, 'dYP': 0, 'dS': 0, 'en_MeV': en_per_unit_MeV, 'dt': 0}\n",
    "\n",
    "# set of distributions for 13 particles in local coordinate system\n",
    "set13_local = setGen.get_part13_local(distr_part_ref, dX=1e-3, dXP=1e-3, dY=1e-3, dYP=1e-3, dt=4e-12, dD=1e-3)\n",
    "\n",
    "# set of distributions for 13 particles in global coordinate system to be used for tracking\n",
    "set13_global = setGen.get_partset_global(set_local=set13_local, pos_glob0=pos_glob, ang_glob0=ang_glob)\n",
    "\n",
    "# run reference particle to determine the tracking-end line for the entire set\n",
    "(endline_a, endline_b) = trackend_line(ref_particle=set13_global[0], track_end_z_m=track_end_z_m)\n",
    "def track_is_inside(x ,p, t, a=endline_a, b=endline_b):\n",
    "    return x[0] < endline_a * x[2] + endline_b   \n",
    "\n",
    "# run the set of particles\n",
    "input_zip = [set13_global[i]+(track_is_inside,) for i in range(len(set13_global))]\n",
    "with Pool(6) as p:\n",
    "    tracks_set = p.map(track_one_particle, input_zip)\n",
    "        \n",
    "tracks = atr.Tracks(tracks_set, particle)\n",
    "\n",
    "# plot the trajectories\n",
    "if True:\n",
    "    ax = tracks.plot_track(pid=0)\n",
    "    for pid in range(0, len(set13_global)):\n",
    "        tracks.plot_track(pid=pid, legend = False, axes = ax)\n",
    "\n",
    "    \n",
    "# last step of the reference particle trajectory\n",
    "k_last = tracks.get_ref_last_k()\n",
    "\n",
    "# transport matrices of the system\n",
    "mat_f = tracks.get_transport_matrix(k = k_last, ret = 'mat')\n",
    "mat_f_madx = tracks.get_madx_matrix(mat_arr = mat_f, k = k_last)\n",
    "display(atr.style_df_transport_matrix(mat_f),\n",
    "        atr.style_df_transport_matrix(mat_f_madx,\n",
    "                                      index_names = [\"x [m]\", \"px [1]\", \"y [m]\", \"py [1]\", \"T [m]\", \"PT [1]\"],\n",
    "                                      columns_names = [\"x0 [m]\", \"px0 [1]\", \"y0 [m]\", \"py0 [1]\", \"T0 [m]\", \"PT0 [1]\"]))"
   ]
  },
  {
   "cell_type": "code",
   "execution_count": 8,
   "id": "isolated-actress",
   "metadata": {
    "ExecuteTime": {
     "end_time": "2021-07-26T12:20:22.863285Z",
     "start_time": "2021-07-26T12:20:22.858445Z"
    },
    "scrolled": false
   },
   "outputs": [],
   "source": [
    "matExtractedRef = np.matrix(mat_f)"
   ]
  },
  {
   "cell_type": "code",
   "execution_count": 9,
   "id": "coordinate-climb",
   "metadata": {
    "ExecuteTime": {
     "end_time": "2021-07-26T12:20:22.872354Z",
     "start_time": "2021-07-26T12:20:22.866976Z"
    }
   },
   "outputs": [],
   "source": [
    "var_names = (\"x\", \"xp\", \"y\", \"yp\", \"T\", \"PT\")\n",
    "var_units = (\"[m]\", \"[rad]\", \"[m]\", \"[rad]\", \"[m]\", \"[ ]\")\n",
    "values_lim = 0.01 # calculate the coefficient in the range +/-values_lim\n",
    "values_no = 10     # choose how many points you want to calculate"
   ]
  },
  {
   "cell_type": "code",
   "execution_count": 10,
   "id": "fewer-manufacturer",
   "metadata": {
    "ExecuteTime": {
     "end_time": "2021-07-26T12:41:13.972605Z",
     "start_time": "2021-07-26T12:20:22.879235Z"
    }
   },
   "outputs": [
    {
     "data": {
      "application/vnd.jupyter.widget-view+json": {
       "model_id": "ab1d4d4caef144be8ffe4257094442d7",
       "version_major": 2,
       "version_minor": 0
      },
      "text/plain": [
       "k loop:   0%|          | 0/2 [00:00<?, ?it/s]"
      ]
     },
     "metadata": {},
     "output_type": "display_data"
    },
    {
     "data": {
      "application/vnd.jupyter.widget-view+json": {
       "model_id": "",
       "version_major": 2,
       "version_minor": 0
      },
      "text/plain": [
       "j loop:   0%|          | 0/2 [00:00<?, ?it/s]"
      ]
     },
     "metadata": {},
     "output_type": "display_data"
    },
    {
     "data": {
      "application/vnd.jupyter.widget-view+json": {
       "model_id": "",
       "version_major": 2,
       "version_minor": 0
      },
      "text/plain": [
       "i loop:   0%|          | 0/10 [00:00<?, ?it/s]"
      ]
     },
     "metadata": {},
     "output_type": "display_data"
    },
    {
     "data": {
      "application/vnd.jupyter.widget-view+json": {
       "model_id": "",
       "version_major": 2,
       "version_minor": 0
      },
      "text/plain": [
       "i loop:   0%|          | 0/10 [00:00<?, ?it/s]"
      ]
     },
     "metadata": {},
     "output_type": "display_data"
    },
    {
     "data": {
      "application/vnd.jupyter.widget-view+json": {
       "model_id": "",
       "version_major": 2,
       "version_minor": 0
      },
      "text/plain": [
       "j loop:   0%|          | 0/2 [00:00<?, ?it/s]"
      ]
     },
     "metadata": {},
     "output_type": "display_data"
    },
    {
     "data": {
      "application/vnd.jupyter.widget-view+json": {
       "model_id": "",
       "version_major": 2,
       "version_minor": 0
      },
      "text/plain": [
       "i loop:   0%|          | 0/10 [00:00<?, ?it/s]"
      ]
     },
     "metadata": {},
     "output_type": "display_data"
    },
    {
     "data": {
      "application/vnd.jupyter.widget-view+json": {
       "model_id": "",
       "version_major": 2,
       "version_minor": 0
      },
      "text/plain": [
       "i loop:   0%|          | 0/10 [00:00<?, ?it/s]"
      ]
     },
     "metadata": {},
     "output_type": "display_data"
    },
    {
     "data": {
      "image/png": "[encoded data removed]",
      "text/plain": [
       "<Figure size 720x720 with 4 Axes>"
      ]
     },
     "metadata": {
      "needs_background": "light"
     },
     "output_type": "display_data"
    }
   ],
   "source": [
    "fig, ax = plt.subplots(2, 2, figsize=(10,10), constrained_layout=True, sharex=True, squeeze=False)\n",
    "#squeeze argument if I only have one sublot instead of 6x6 filled\n",
    "\n",
    "xvalues = np.linspace(-values_lim, values_lim, values_no)# This centers the linspace around the position of the beam\n",
    "yvalues = np.zeros(values_no)\n",
    "\n",
    "for k in tqdm(range (2),desc=\"k loop\"):\n",
    "    vectorOld = np.array([[0.], [0.], [0.], [0.], [0.], [0.]])\n",
    "    vectorNew = np.array([0.,0.,0.,0.,0.,0.])\n",
    "    for j in tqdm(range (2),desc=\"j loop\", leave=False):\n",
    "        for i in range (0,values_no):\n",
    "            vectorOld[k]=xvalues[i]+initialValues[k]\n",
    "            vectorNew = np.dot(matExtractedRef,vectorOld) # Matrix multiplication \n",
    "            yvalues[i]=vectorNew[j]\n",
    "        ax[j,k].plot(xvalues, yvalues, marker = 'o', markersize=2, color = 'b', alpha=0.5, label=\"reference particle\")\n",
    "\n",
    "        yvalues = np.zeros(values_no)\n",
    "        for i in tqdm(range (0,values_no),desc=\"i loop\", leave=False):\n",
    "            vectorOld[k]=xvalues[i]+initialValues[k]\n",
    "\n",
    "            if k==0:\n",
    "                setGen = atr.SetGenerator(particle)\n",
    "                distr_part_ref = {'dX': xvalues[i], 'dXP': 0, 'dY': 0, 'dYP': 0, 'dS': 0, 'en_MeV': en_per_unit_MeV, 'dt': 0} # Here I change the distribution of the particle in local coord sys\n",
    "                set13_local = setGen.get_part13_local(distr_part_ref, dX=1e-3, dXP=1e-3, dY=1e-3, dYP=1e-3, dt=4e-12, dD=1e-3)\n",
    "                set13_global = setGen.get_partset_global(set_local=set13_local, pos_glob0=pos_glob, ang_glob0=ang_glob)\n",
    "                (endline_a, endline_b) = trackend_line(ref_particle=set13_global[0], track_end_z_m=track_end_z_m)\n",
    "                def track_is_inside(x ,p, t, a=endline_a, b=endline_b):\n",
    "                    return x[0] < endline_a * x[2] + endline_b   \n",
    "                input_zip = [set13_global[i]+(track_is_inside,) for i in range(len(set13_global))]\n",
    "                with Pool(6) as p:\n",
    "                    tracks_set = p.map(track_one_particle, input_zip)\n",
    "                tracks = atr.Tracks(tracks_set, particle)\n",
    "                k_last = tracks.get_ref_last_k()\n",
    "\n",
    "                mat_f = np.matrix(tracks.get_transport_matrix(k = k_last, ret = 'mat'))\n",
    "\n",
    "            if k==1:\n",
    "                setGen = atr.SetGenerator(particle)\n",
    "                distr_part_ref = {'dX': 0, 'dXP': xvalues[i], 'dY': 0, 'dYP': 0, 'dS': 0, 'en_MeV': en_per_unit_MeV, 'dt': 0}\n",
    "                set13_local = setGen.get_part13_local(distr_part_ref, dX=1e-3, dXP=1e-3, dY=1e-3, dYP=1e-3, dt=4e-12, dD=1e-3)\n",
    "                set13_global = setGen.get_partset_global(set_local=set13_local, pos_glob0=pos_glob, ang_glob0=ang_glob)\n",
    "                (endline_a, endline_b) = trackend_line(ref_particle=set13_global[0], track_end_z_m=track_end_z_m)\n",
    "                def track_is_inside(x ,p, t, a=endline_a, b=endline_b):\n",
    "                    return x[0] < endline_a * x[2] + endline_b   \n",
    "                input_zip = [set13_global[i]+(track_is_inside,) for i in range(len(set13_global))]\n",
    "                with Pool(6) as p:\n",
    "                    tracks_set = p.map(track_one_particle, input_zip)\n",
    "                tracks = atr.Tracks(tracks_set, particle)\n",
    "                k_last = tracks.get_ref_last_k()\n",
    "\n",
    "                mat_f = np.matrix(tracks.get_transport_matrix(k = k_last, ret = 'mat'))\n",
    "\n",
    "            vectorNew = np.dot(mat_f,vectorOld) # Matrix multiplication\n",
    "\n",
    "            yvalues[i]=vectorNew[j]\n",
    "        ax[j,k].scatter(xvalues, yvalues, marker = 'o', s=10, color = 'r', alpha=0.5, label=\"fringe effect\")\n",
    "        ax[j,k].set_xlabel(\"input \"+var_names[k]+\" \"+var_units[k])\n",
    "        ax[j,k].set_ylabel(\"output \"+var_names[j]+\" \"+var_units[j])\n",
    "\n",
    "fig.suptitle(\"Extracted matrix coefficient\", fontsize=10)\n",
    "ax[0,0].legend(loc=(-0.5, 1.5),fontsize=10)\n",
    "fig.show()\n",
    "fig.savefig(\"StrayTrackingVaryX.pdf\", bbox_inches='tight')"
   ]
  },
  {
   "cell_type": "code",
   "execution_count": null,
   "id": "arbitrary-buffer",
   "metadata": {},
   "outputs": [],
   "source": []
  }
 ],
 "metadata": {
  "kernelspec": {
   "display_name": "Python 3",
   "language": "python",
   "name": "python3"
  },
  "language_info": {
   "codemirror_mode": {
    "name": "ipython",
    "version": 3
   },
   "file_extension": ".py",
   "mimetype": "text/x-python",
   "name": "python",
   "nbconvert_exporter": "python",
   "pygments_lexer": "ipython3",
   "version": "3.8.6"
  }
 },
 "nbformat": 4,
 "nbformat_minor": 5
}
