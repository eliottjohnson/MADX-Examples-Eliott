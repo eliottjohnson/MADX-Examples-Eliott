{
 "cells": [
  {
   "cell_type": "code",
   "execution_count": 5,
   "id": "framed-tactics",
   "metadata": {
    "ExecuteTime": {
     "end_time": "2021-07-23T08:57:58.917960Z",
     "start_time": "2021-07-23T08:57:58.895704Z"
    },
    "code_folding": [
     0
    ]
   },
   "outputs": [],
   "source": [
    "# imports\n",
    "import numpy as np\n",
    "import pandas as pd\n",
    "from sklearn.linear_model import LinearRegression\n",
    "%matplotlib inline\n",
    "import matplotlib.pyplot as plt\n",
    "from IPython.display import Markdown as md\n",
    "from IPython.core.display import display, HTML, Markdown\n",
    "from cpymad.madx import Madx\n",
    "%matplotlib notebook"
   ]
  },
  {
   "cell_type": "markdown",
   "id": "brazilian-graph",
   "metadata": {},
   "source": [
    "### Function to extracting a Matrix from MADX\n",
    "https://gitlab.cern.ch/abt-optics-and-code-repository/simulation-codes/cpymad_examples/-/blob/master/MATRIX_extraction.ipynb"
   ]
  },
  {
   "cell_type": "code",
   "execution_count": 6,
   "id": "operating-crossing",
   "metadata": {
    "ExecuteTime": {
     "end_time": "2021-07-23T08:57:58.935341Z",
     "start_time": "2021-07-23T08:57:58.923819Z"
    }
   },
   "outputs": [],
   "source": [
    "def get_matrix_from_twiss(twiss):\n",
    "    elem = twiss.iloc[-1] # iloc[-1] takes last row of the data frame\n",
    "    matExtracted = np.matrix([\n",
    "        elem[['re11', 're12', 're13', 're14', 're15', 're16']].values.astype(float),\n",
    "        elem[['re21', 're22', 're23', 're24', 're25', 're26']].values.astype(float),\n",
    "        elem[['re31', 're32', 're33', 're34', 're35', 're36']].values.astype(float),\n",
    "        elem[['re41', 're42', 're43', 're44', 're45', 're46']].values.astype(float),\n",
    "        elem[['re51', 're52', 're53', 're54', 're55', 're56']].values.astype(float),\n",
    "        elem[['re61', 're62', 're63', 're64', 're65', 're66']].values.astype(float),\n",
    "    ])\n",
    "    return matExtracted"
   ]
  },
  {
   "cell_type": "markdown",
   "id": "worse-shuttle",
   "metadata": {},
   "source": [
    "### Test to run the whole get_initial_conditions_lhc_q20.madx file"
   ]
  },
  {
   "cell_type": "code",
   "execution_count": 7,
   "id": "threatened-albert",
   "metadata": {
    "ExecuteTime": {
     "end_time": "2021-07-23T08:57:58.942804Z",
     "start_time": "2021-07-23T08:57:58.939462Z"
    }
   },
   "outputs": [],
   "source": [
    "## madx = Madx(command_log=\"commandlog\") #Writes the errors in this file once madx has quit\n",
    "## madx.option(verbose=False, debug=False, echo=True, warn=False, twiss_print=False) #Hides the output in the terminal\n",
    "## madx.call(\"/eos/user/e/eljohnso/SWAN_projects/acc-models-tls/ps_extraction/tt2tt10_lhc_q20/stitched/get_initial_conditions_lhc_q20.madx\")\n",
    "## madx.quit()"
   ]
  },
  {
   "cell_type": "markdown",
   "id": "diverse-router",
   "metadata": {},
   "source": [
    "## The model D16STRAY and F16SHIM deflects the beam strongly back towards the inside of the ring  with quad K1 and sextupole K2 components.\n",
    "\n",
    "#### They are placed as seen in: https://gitlab.cern.ch/acc-models/acc-models-tls/-/blob/2021/ps_extraction/tt2tt10_lhc_q20/stitched/get_initial_conditions_lhc_q20.madx"
   ]
  },
  {
   "cell_type": "code",
   "execution_count": 8,
   "id": "pregnant-portfolio",
   "metadata": {
    "ExecuteTime": {
     "end_time": "2021-07-23T08:58:00.848130Z",
     "start_time": "2021-07-23T08:57:58.946648Z"
    }
   },
   "outputs": [
    {
     "name": "stdout",
     "output_type": "stream",
     "text": [
      "\n",
      "  ++++++++++++++++++++++++++++++++++++++++++++\n",
      "  +     MAD-X 5.06.01  (64 bit, Linux)       +\n",
      "  + Support: mad@cern.ch, http://cern.ch/mad +\n",
      "  + Release   date: 2020.09.01               +\n",
      "  + Execution date: 2021.07.23 10:58:00      +\n",
      "  ++++++++++++++++++++++++++++++++++++++++++++\n"
     ]
    },
    {
     "ename": "PermissionError",
     "evalue": "[Errno 13] Permission denied",
     "output_type": "error",
     "traceback": [
      "\u001b[0;31m---------------------------------------------------------------------------\u001b[0m",
      "\u001b[0;31mPermissionError\u001b[0m                           Traceback (most recent call last)",
      "\u001b[0;32m<ipython-input-8-3ea436f4821d>\u001b[0m in \u001b[0;36m<module>\u001b[0;34m\u001b[0m\n\u001b[1;32m      1\u001b[0m \u001b[0mmadx\u001b[0m \u001b[0;34m=\u001b[0m \u001b[0mMadx\u001b[0m\u001b[0;34m(\u001b[0m\u001b[0mcommand_log\u001b[0m\u001b[0;34m=\u001b[0m\u001b[0;34m\"commandlog\"\u001b[0m\u001b[0;34m)\u001b[0m \u001b[0;31m#Writes the errors in this file once madx has quit\u001b[0m\u001b[0;34m\u001b[0m\u001b[0;34m\u001b[0m\u001b[0m\n\u001b[0;32m----> 2\u001b[0;31m \u001b[0mmadx\u001b[0m\u001b[0;34m.\u001b[0m\u001b[0moption\u001b[0m\u001b[0;34m(\u001b[0m\u001b[0mverbose\u001b[0m\u001b[0;34m=\u001b[0m\u001b[0;32mFalse\u001b[0m\u001b[0;34m,\u001b[0m \u001b[0mdebug\u001b[0m\u001b[0;34m=\u001b[0m\u001b[0;32mFalse\u001b[0m\u001b[0;34m,\u001b[0m \u001b[0mecho\u001b[0m\u001b[0;34m=\u001b[0m\u001b[0;32mTrue\u001b[0m\u001b[0;34m,\u001b[0m \u001b[0mwarn\u001b[0m\u001b[0;34m=\u001b[0m\u001b[0;32mFalse\u001b[0m\u001b[0;34m,\u001b[0m \u001b[0mtwiss_print\u001b[0m\u001b[0;34m=\u001b[0m\u001b[0;32mFalse\u001b[0m\u001b[0;34m)\u001b[0m\u001b[0;34m\u001b[0m\u001b[0;34m\u001b[0m\u001b[0m\n\u001b[0m\u001b[1;32m      3\u001b[0m \u001b[0;34m\u001b[0m\u001b[0m\n\u001b[1;32m      4\u001b[0m \u001b[0mmadx\u001b[0m\u001b[0;34m.\u001b[0m\u001b[0mbeam\u001b[0m\u001b[0;34m(\u001b[0m\u001b[0mparticle\u001b[0m\u001b[0;34m=\u001b[0m\u001b[0;34m'proton'\u001b[0m\u001b[0;34m,\u001b[0m \u001b[0mpc\u001b[0m\u001b[0;34m=\u001b[0m\u001b[0;36m26\u001b[0m\u001b[0;34m,\u001b[0m \u001b[0mexn\u001b[0m\u001b[0;34m=\u001b[0m\u001b[0;36m3.5e-6\u001b[0m\u001b[0;34m,\u001b[0m\u001b[0meyn\u001b[0m\u001b[0;34m=\u001b[0m\u001b[0;36m3.5E-6\u001b[0m\u001b[0;34m)\u001b[0m\u001b[0;34m\u001b[0m\u001b[0;34m\u001b[0m\u001b[0m\n\u001b[1;32m      5\u001b[0m \u001b[0mmadx\u001b[0m\u001b[0;34m.\u001b[0m\u001b[0minput\u001b[0m\u001b[0;34m(\u001b[0m\u001b[0;34m'BRHO:= BEAM->PC * 3.3356;'\u001b[0m\u001b[0;34m)\u001b[0m\u001b[0;34m\u001b[0m\u001b[0;34m\u001b[0m\u001b[0m\n",
      "\u001b[0;32m/cvmfs/sft.cern.ch/lcg/views/LCG_100/x86_64-centos7-gcc8-opt/lib/python3.8/site-packages/cpymad/madx.py\u001b[0m in \u001b[0;36m__call__\u001b[0;34m(*args, **kwargs)\u001b[0m\n\u001b[1;32m    772\u001b[0m         \u001b[0;32mif\u001b[0m \u001b[0mself\u001b[0m\u001b[0;34m.\u001b[0m\u001b[0mname\u001b[0m \u001b[0;34m==\u001b[0m \u001b[0;34m'beam'\u001b[0m \u001b[0;32mand\u001b[0m \u001b[0mself\u001b[0m\u001b[0;34m.\u001b[0m\u001b[0msequence\u001b[0m\u001b[0;34m:\u001b[0m\u001b[0;34m\u001b[0m\u001b[0;34m\u001b[0m\u001b[0m\n\u001b[1;32m    773\u001b[0m             \u001b[0mkwargs\u001b[0m\u001b[0;34m.\u001b[0m\u001b[0msetdefault\u001b[0m\u001b[0;34m(\u001b[0m\u001b[0;34m'sequence'\u001b[0m\u001b[0;34m,\u001b[0m \u001b[0mself\u001b[0m\u001b[0;34m.\u001b[0m\u001b[0msequence\u001b[0m\u001b[0;34m)\u001b[0m\u001b[0;34m\u001b[0m\u001b[0;34m\u001b[0m\u001b[0m\n\u001b[0;32m--> 774\u001b[0;31m         \u001b[0;32mreturn\u001b[0m \u001b[0mself\u001b[0m\u001b[0;34m.\u001b[0m\u001b[0m_madx\u001b[0m\u001b[0;34m.\u001b[0m\u001b[0minput\u001b[0m\u001b[0;34m(\u001b[0m\u001b[0mutil\u001b[0m\u001b[0;34m.\u001b[0m\u001b[0mformat_command\u001b[0m\u001b[0;34m(\u001b[0m\u001b[0mself\u001b[0m\u001b[0;34m,\u001b[0m \u001b[0;34m*\u001b[0m\u001b[0margs\u001b[0m\u001b[0;34m,\u001b[0m \u001b[0;34m**\u001b[0m\u001b[0mkwargs\u001b[0m\u001b[0;34m)\u001b[0m\u001b[0;34m)\u001b[0m\u001b[0;34m\u001b[0m\u001b[0;34m\u001b[0m\u001b[0m\n\u001b[0m\u001b[1;32m    775\u001b[0m \u001b[0;34m\u001b[0m\u001b[0m\n\u001b[1;32m    776\u001b[0m     \u001b[0;32mdef\u001b[0m \u001b[0mclone\u001b[0m\u001b[0;34m(\u001b[0m\u001b[0;34m*\u001b[0m\u001b[0margs\u001b[0m\u001b[0;34m,\u001b[0m \u001b[0;34m**\u001b[0m\u001b[0mkwargs\u001b[0m\u001b[0;34m)\u001b[0m\u001b[0;34m:\u001b[0m\u001b[0;34m\u001b[0m\u001b[0;34m\u001b[0m\u001b[0m\n",
      "\u001b[0;32m/cvmfs/sft.cern.ch/lcg/views/LCG_100/x86_64-centos7-gcc8-opt/lib/python3.8/site-packages/cpymad/madx.py\u001b[0m in \u001b[0;36minput\u001b[0;34m(self, text)\u001b[0m\n\u001b[1;32m    258\u001b[0m             \u001b[0mself\u001b[0m\u001b[0;34m.\u001b[0m\u001b[0mhistory\u001b[0m\u001b[0;34m.\u001b[0m\u001b[0mappend\u001b[0m\u001b[0;34m(\u001b[0m\u001b[0mtext\u001b[0m\u001b[0;34m)\u001b[0m\u001b[0;34m\u001b[0m\u001b[0;34m\u001b[0m\u001b[0m\n\u001b[1;32m    259\u001b[0m         \u001b[0;32mif\u001b[0m \u001b[0mself\u001b[0m\u001b[0;34m.\u001b[0m\u001b[0m_command_log\u001b[0m\u001b[0;34m:\u001b[0m\u001b[0;34m\u001b[0m\u001b[0;34m\u001b[0m\u001b[0m\n\u001b[0;32m--> 260\u001b[0;31m             \u001b[0mself\u001b[0m\u001b[0;34m.\u001b[0m\u001b[0m_command_log\u001b[0m\u001b[0;34m(\u001b[0m\u001b[0mtext\u001b[0m\u001b[0;34m)\u001b[0m\u001b[0;34m\u001b[0m\u001b[0;34m\u001b[0m\u001b[0m\n\u001b[0m\u001b[1;32m    261\u001b[0m         \u001b[0;32mtry\u001b[0m\u001b[0;34m:\u001b[0m\u001b[0;34m\u001b[0m\u001b[0;34m\u001b[0m\u001b[0m\n\u001b[1;32m    262\u001b[0m             \u001b[0;32mwith\u001b[0m \u001b[0mself\u001b[0m\u001b[0;34m.\u001b[0m\u001b[0mreader\u001b[0m\u001b[0;34m:\u001b[0m\u001b[0;34m\u001b[0m\u001b[0;34m\u001b[0m\u001b[0m\n",
      "\u001b[0;32m/cvmfs/sft.cern.ch/lcg/views/LCG_100/x86_64-centos7-gcc8-opt/lib/python3.8/site-packages/cpymad/madx.py\u001b[0m in \u001b[0;36m__call__\u001b[0;34m(self, command)\u001b[0m\n\u001b[1;32m     87\u001b[0m         \u001b[0;34m\"\"\"Log a single history line and flush to file immediately.\"\"\"\u001b[0m\u001b[0;34m\u001b[0m\u001b[0;34m\u001b[0m\u001b[0m\n\u001b[1;32m     88\u001b[0m         \u001b[0mself\u001b[0m\u001b[0;34m.\u001b[0m\u001b[0m_file\u001b[0m\u001b[0;34m.\u001b[0m\u001b[0mwrite\u001b[0m\u001b[0;34m(\u001b[0m\u001b[0mself\u001b[0m\u001b[0;34m.\u001b[0m\u001b[0m_prefix\u001b[0m \u001b[0;34m+\u001b[0m \u001b[0mcommand\u001b[0m \u001b[0;34m+\u001b[0m \u001b[0mself\u001b[0m\u001b[0;34m.\u001b[0m\u001b[0m_suffix\u001b[0m\u001b[0;34m)\u001b[0m\u001b[0;34m\u001b[0m\u001b[0;34m\u001b[0m\u001b[0m\n\u001b[0;32m---> 89\u001b[0;31m         \u001b[0mself\u001b[0m\u001b[0;34m.\u001b[0m\u001b[0m_file\u001b[0m\u001b[0;34m.\u001b[0m\u001b[0mflush\u001b[0m\u001b[0;34m(\u001b[0m\u001b[0;34m)\u001b[0m\u001b[0;34m\u001b[0m\u001b[0;34m\u001b[0m\u001b[0m\n\u001b[0m\u001b[1;32m     90\u001b[0m \u001b[0;34m\u001b[0m\u001b[0m\n\u001b[1;32m     91\u001b[0m     \u001b[0;32mdef\u001b[0m \u001b[0mclose\u001b[0m\u001b[0;34m(\u001b[0m\u001b[0mself\u001b[0m\u001b[0;34m)\u001b[0m\u001b[0;34m:\u001b[0m\u001b[0;34m\u001b[0m\u001b[0;34m\u001b[0m\u001b[0m\n",
      "\u001b[0;31mPermissionError\u001b[0m: [Errno 13] Permission denied"
     ]
    }
   ],
   "source": [
    "madx = Madx(command_log=\"commandlog\") #Writes the errors in this file once madx has quit\n",
    "madx.option(verbose=False, debug=False, echo=True, warn=False, twiss_print=False)\n",
    "\n",
    "madx.beam(particle='proton', pc=26, exn=3.5e-6,eyn=3.5E-6)\n",
    "madx.input('BRHO:= BEAM->PC * 3.3356;')\n",
    "\n",
    "len_ft16 = 7.701173928\n",
    "\n",
    "madx.command.sequence.clone('FT16', refer=\"entry\", l=len_ft16)\n",
    "madx.command.endsequence()\n",
    "\n",
    "madx.command.rbend.clone('D16STRAY', L=2.20480, ANGLE=0.0, K1=-.047, K2=0.33)\n",
    "madx.command.rbend.clone('F16SHIM', L=2.19624,ANGLE=0.021,K1=0.0)\n",
    "\n",
    "madx.command.seqedit(sequence='FT16')\n",
    "madx.command.install(element='D16STRAY_1', class_='D16STRAY', at='2.700072902') # Random positions, remeber starts from middle\n",
    "madx.command.install(element='F16SHIM_1', class_='F16SHIM', at='4.904893572')\n",
    "madx.command.endedit()\n",
    "\n",
    "madx.use(sequence=\"FT16\")"
   ]
  },
  {
   "cell_type": "markdown",
   "id": "specialized-constitution",
   "metadata": {},
   "source": [
    "#### Initial conditions from MADX stitched model of PS extraction to TT10 LHC Q20 beam\n",
    "https://gitlab.cern.ch/acc-models/acc-models-tls/-/blob/2021/ps_extraction/tt2tt10_lhc_q20/stitched/get_initial_conditions_lhc_q20.madx"
   ]
  },
  {
   "cell_type": "code",
   "execution_count": null,
   "id": "stainless-dollar",
   "metadata": {
    "ExecuteTime": {
     "end_time": "2021-07-23T08:58:00.853540Z",
     "start_time": "2021-07-23T08:57:40.694Z"
    }
   },
   "outputs": [],
   "source": [
    "betx0 = 2.5103613982e+01 ;\n",
    "bety0 = 8.3789531557e+00 ;\n",
    "alfx0 = -2.3322645191e+00 ;\n",
    "alfy0 = 9.7954156718e-01 ;\n",
    "dx0 = 3.0982680415e+00 ;\n",
    "dy0 = 0.0000000000e+00 ;\n",
    "dpx0 = 2.6262543044e-01 ;\n",
    "dpy0 = 0.0000000000e+00 ;"
   ]
  },
  {
   "cell_type": "markdown",
   "id": "friendly-canberra",
   "metadata": {
    "ExecuteTime": {
     "end_time": "2021-07-22T07:20:01.322779Z",
     "start_time": "2021-07-22T07:20:01.317291Z"
    }
   },
   "source": [
    "#### Initial conditions from https://codimd.web.cern.ch/05LpRgDIRIKUpRnTWTfbEA"
   ]
  },
  {
   "cell_type": "code",
   "execution_count": null,
   "id": "altered-district",
   "metadata": {
    "ExecuteTime": {
     "end_time": "2021-07-23T08:58:00.856446Z",
     "start_time": "2021-07-23T08:57:40.696Z"
    }
   },
   "outputs": [],
   "source": [
    "LHCx = 1.078422e-01\n",
    "LHCxp = 3.131043e-02\n",
    "TOFx = 1.173072e-01\n",
    "TOFxp = 2.975372e-02\n",
    "ADx = 1.101851e-01\n",
    "ADxp = 2.973021e-02\n",
    "\n",
    "# Choose beam type here\n",
    "initialValues = [LHCx,LHCxp,0,0,0,0]"
   ]
  },
  {
   "cell_type": "markdown",
   "id": "freelance-oriental",
   "metadata": {},
   "source": [
    "## Reference RXX Matrix coefficient calculation\n",
    "\n",
    "- I'm varying one parameter at a time (x, xp, y, yp, T, PT) with the other coordinates set to zero such as:\n",
    "\n",
    "\\begin{equation}\n",
    "\\left(\\begin{array}{c}\n",
    "{\\pmb{x^{New}}}  \\\\\n",
    "{x'^{New}}  \\\\\n",
    "{y^{New}}  \\\\\n",
    "{y'^{New}}  \\\\\n",
    "{t^{New}}  \\\\\n",
    "{(\\frac{\\delta p}{p})^{New}}  \\\\\n",
    "\\end{array}\\right) =\n",
    "\\left(\\begin{array}{cccccc}\n",
    "R_{11} & R_{12} & R_{13} & R_{14} & R_{15} & R_{16} \\\\\n",
    "R_{21} & R_{22} & R_{23} & R_{24} & R_{25} & R_{26} \\\\\n",
    "R_{31} & R_{32} & R_{33} & R_{34} & R_{35} & R_{36} \\\\\n",
    "R_{41}  & R_{42} & R_{43} & R_{44} & R_{45} & R_{46} \\\\\n",
    "R_{51} & R_{52} & R_{53} & R_{54} & R_{55} & R_{56} \\\\\n",
    "R_{61} & R_{62} & R_{63} & R_{64} & R_{65} & R_{66} \\\\\n",
    "\\end{array}\\right)\n",
    "\\left(\\begin{array}{c}\n",
    "{\\pmb{x^{Old}}}  \\\\\n",
    "{0}  \\\\\n",
    "{0}  \\\\\n",
    "{0}  \\\\\n",
    "{0}  \\\\\n",
    "{0}  \\\\\n",
    "\\end{array}\\right)\n",
    "\\end{equation}\n",
    "\n",
    "\n",
    " with $x^{Old}$ = [-0.01  -0.005  0.     0.005  0.01 ] for example\n",
    "- Plotting $x^{New}$ as a function of $x^{Old}$\n",
    "- then $x^{New}$ as a function of $x'^{Old}$\n",
    "- ...\n",
    "- finally $(\\frac{\\delta p}{p})^{New}$ as a function of $(\\frac{\\delta p}{p})^{Old}$"
   ]
  },
  {
   "cell_type": "markdown",
   "id": "inner-binary",
   "metadata": {},
   "source": [
    "#### Settings for the computation"
   ]
  },
  {
   "cell_type": "code",
   "execution_count": null,
   "id": "naked-vocabulary",
   "metadata": {
    "ExecuteTime": {
     "end_time": "2021-07-23T08:58:00.859066Z",
     "start_time": "2021-07-23T08:57:40.697Z"
    }
   },
   "outputs": [],
   "source": [
    "var_names = (\"x\", \"xp\", \"y\", \"yp\", \"T\", \"PT\")\n",
    "var_units = (\"[m]\", \"[rad]\", \"[m]\", \"[rad]\", \"[m]\", \"[ ]\")\n",
    "values_lim = 0.1 # calculate the coefficient in the range +/-values_lim\n",
    "values_no = 10      # choose how many points you want to calculate"
   ]
  },
  {
   "cell_type": "markdown",
   "id": "extraordinary-finding",
   "metadata": {},
   "source": [
    "### Varying the x and px component as input \n",
    "\n",
    "#### Remark: turning off the sextupole component K2 basically removes all fringe fields effect \n",
    "\n",
    "#### Linear regression:\n",
    "The value $R^2=1$ corresponds to sum of squared residuals (SSR) $\\sum_{i}(y{i}-f(x_{i}))^2=0$ and corresponds to a perfect fit."
   ]
  },
  {
   "cell_type": "code",
   "execution_count": null,
   "id": "widespread-diagnosis",
   "metadata": {
    "ExecuteTime": {
     "end_time": "2021-07-23T08:58:00.861981Z",
     "start_time": "2021-07-23T08:57:40.699Z"
    }
   },
   "outputs": [],
   "source": [
    "fig, ax = plt.subplots(6, 6, figsize=(15,15), constrained_layout=True, sharex=True, squeeze=False)\n",
    "#squeeze argument if I only have one sublot instead of 6x6 filled\n",
    "\n",
    "xvalues = np.linspace(-values_lim, values_lim, values_no)# This centers the linspace around the position of the beam\n",
    "yvalues = np.zeros(values_no)\n",
    "\n",
    "# Reference Matrix\n",
    "twiss = madx.twiss(betx=betx0, bety=bety0,\n",
    "                   alfx=alfx0, alfy=alfy0,\n",
    "                   x=initialValues[0],px=initialValues[1],\n",
    "                   dx=dx0, dy=dy0,\n",
    "                   dpx=dpx0, dpy=dpy0,\n",
    "                   rmatrix=True).dframe()\n",
    "matExtractedRef = get_matrix_from_twiss(twiss)\n",
    "\n",
    "for k in range (2):\n",
    "    vectorOld = np.array([[0.], [0.], [0.], [0.], [0.], [0.]])\n",
    "    vectorNew = np.array([0.,0.,0.,0.,0.,0.])\n",
    "    for j in range (6):\n",
    "        for i in range (0,values_no):\n",
    "            vectorOld[k]=xvalues[i]+initialValues[k]\n",
    "            vectorNew = np.dot(matExtractedRef,vectorOld) # Matrix multiplication \n",
    "            yvalues[i]=vectorNew[j]\n",
    "        ax[j,k].plot(xvalues, yvalues, marker = 'o', markersize=4, color = 'b', alpha=0.5, label=\"reference particle\")\n",
    "\n",
    "        yvalues = np.zeros(values_no)\n",
    "        for i in range (0,values_no): # Change the twiss inputs around the reference particle\n",
    "            vectorOld[k]=xvalues[i]+initialValues[k]\n",
    "\n",
    "            if k==0:\n",
    "                twiss = madx.twiss(betx=betx0, bety=bety0, # We reevaluate the twiss and transport matrix\n",
    "                                   alfx=alfx0, alfy=alfy0,\n",
    "                                   x=xvalues[i]+initialValues[0], px=initialValues[1],\n",
    "                                   dx=dx0, dy=dy0,\n",
    "                                   dpx=dpx0, dpy=dpy0,\n",
    "                                   rmatrix=True).dframe()\n",
    "            if k==1:\n",
    "                twiss = madx.twiss(betx=betx0, bety=bety0,\n",
    "                                   alfx=alfx0, alfy=alfy0,\n",
    "                                   x=initialValues[0], px=xvalues[i]+initialValues[1],\n",
    "                                   dx=dx0, dy=dy0,\n",
    "                                   dpx=dpx0, dpy=dpy0,\n",
    "                                   rmatrix=True).dframe()            \n",
    "            \n",
    "            matExtracted = get_matrix_from_twiss(twiss)\n",
    "\n",
    "            vectorNew = np.dot(matExtracted,vectorOld) # Matrix multiplication    \n",
    "            yvalues[i]=vectorNew[j]\n",
    "        ax[j,k].scatter(xvalues, yvalues, marker = 'o', s=20, color = 'r', alpha=0.5, label=\"fringe effect\")\n",
    "        ax[j,k].set_xlabel(\"input \"+var_names[k]+\" \"+var_units[k])\n",
    "        ax[j,k].set_ylabel(\"output \"+var_names[j]+\" \"+var_units[j])\n",
    "        \n",
    "        #Linear regression\n",
    "        xlin = xvalues.reshape((-1,1))\n",
    "        model = LinearRegression().fit(xlin,yvalues)\n",
    "        r_sq = model.score(xlin, yvalues)\n",
    "        y_pred = model.predict(xlin)\n",
    "        ax[j,k].plot(xvalues, y_pred, color = 'r', alpha=0.5, label=\"linear regression\")\n",
    "        ax[j,k].title.set_text('R^2 = '+str(round(r_sq, 2)))\n",
    "\n",
    "fig.suptitle(\"Extracted matrix coefficient\", fontsize=10)\n",
    "ax[0,0].legend(loc=(-0.5, 1.5),fontsize=10)\n",
    "fig.show()"
   ]
  },
  {
   "cell_type": "code",
   "execution_count": null,
   "id": "respective-kingdom",
   "metadata": {},
   "outputs": [],
   "source": []
  }
 ],
 "metadata": {
  "kernelspec": {
   "display_name": "Python 3",
   "language": "python",
   "name": "python3"
  },
  "language_info": {
   "codemirror_mode": {
    "name": "ipython",
    "version": 3
   },
   "file_extension": ".py",
   "mimetype": "text/x-python",
   "name": "python",
   "nbconvert_exporter": "python",
   "pygments_lexer": "ipython3",
   "version": "3.8.6"
  }
 },
 "nbformat": 4,
 "nbformat_minor": 5
}
