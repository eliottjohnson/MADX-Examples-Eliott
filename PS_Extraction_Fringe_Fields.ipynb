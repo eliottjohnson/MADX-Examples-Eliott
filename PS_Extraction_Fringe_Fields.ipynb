{
 "cells": [
  {
   "cell_type": "code",
   "execution_count": 1,
   "id": "blocked-simon",
   "metadata": {
    "ExecuteTime": {
     "end_time": "2021-07-22T12:43:01.437697Z",
     "start_time": "2021-07-22T12:43:00.465996Z"
    },
    "code_folding": [
     0
    ]
   },
   "outputs": [],
   "source": [
    "# imports\n",
    "import numpy as np\n",
    "import pandas as pd\n",
    "%matplotlib inline\n",
    "import matplotlib.pyplot as plt\n",
    "from IPython.display import Markdown as md\n",
    "from IPython.core.display import display, HTML, Markdown\n",
    "from cpymad.madx import Madx\n",
    "%matplotlib notebook"
   ]
  },
  {
   "cell_type": "markdown",
   "id": "clean-consensus",
   "metadata": {},
   "source": [
    "### Function to extracting a Matrix from MADX\n",
    "https://gitlab.cern.ch/abt-optics-and-code-repository/simulation-codes/cpymad_examples/-/blob/master/MATRIX_extraction.ipynb"
   ]
  },
  {
   "cell_type": "code",
   "execution_count": 2,
   "id": "toxic-manhattan",
   "metadata": {
    "ExecuteTime": {
     "end_time": "2021-07-22T12:43:01.457361Z",
     "start_time": "2021-07-22T12:43:01.444883Z"
    }
   },
   "outputs": [],
   "source": [
    "def get_matrix_from_twiss(twiss):\n",
    "    elem = twiss.iloc[-1] # iloc[-1] takes last row of the data frame\n",
    "    matExtracted = np.matrix([\n",
    "        elem[['re11', 're12', 're13', 're14', 're15', 're16']].values.astype(float),\n",
    "        elem[['re21', 're22', 're23', 're24', 're25', 're26']].values.astype(float),\n",
    "        elem[['re31', 're32', 're33', 're34', 're35', 're36']].values.astype(float),\n",
    "        elem[['re41', 're42', 're43', 're44', 're45', 're46']].values.astype(float),\n",
    "        elem[['re51', 're52', 're53', 're54', 're55', 're56']].values.astype(float),\n",
    "        elem[['re61', 're62', 're63', 're64', 're65', 're66']].values.astype(float),\n",
    "    ])\n",
    "    return matExtracted"
   ]
  },
  {
   "cell_type": "markdown",
   "id": "raising-adjustment",
   "metadata": {},
   "source": [
    "### Test to run the whole get_initial_conditions_lhc_q20.madx file"
   ]
  },
  {
   "cell_type": "code",
   "execution_count": 3,
   "id": "finite-boating",
   "metadata": {
    "ExecuteTime": {
     "end_time": "2021-07-22T12:43:01.464754Z",
     "start_time": "2021-07-22T12:43:01.461542Z"
    }
   },
   "outputs": [],
   "source": [
    "## madx = Madx(command_log=\"commandlog\") #Writes the errors in this file once madx has quit\n",
    "## madx.option(verbose=False, debug=False, echo=True, warn=False, twiss_print=False) #Hides the output in the terminal\n",
    "## madx.call(\"/eos/user/e/eljohnso/SWAN_projects/acc-models-tls/ps_extraction/tt2tt10_lhc_q20/stitched/get_initial_conditions_lhc_q20.madx\")\n",
    "## madx.quit()"
   ]
  },
  {
   "cell_type": "markdown",
   "id": "married-creator",
   "metadata": {},
   "source": [
    "## The model D16STRAY and F16SHIM deflects the beam strongly back towards the inside of the ring  with quad K1 and sextupole K2 components.\n",
    "\n",
    "#### They are placed as seen in: https://gitlab.cern.ch/acc-models/acc-models-tls/-/blob/2021/ps_extraction/tt2tt10_lhc_q20/stitched/get_initial_conditions_lhc_q20.madx"
   ]
  },
  {
   "cell_type": "code",
   "execution_count": 4,
   "id": "configured-merchant",
   "metadata": {
    "ExecuteTime": {
     "end_time": "2021-07-22T12:43:03.222027Z",
     "start_time": "2021-07-22T12:43:01.468504Z"
    }
   },
   "outputs": [
    {
     "name": "stdout",
     "output_type": "stream",
     "text": [
      "\n",
      "  ++++++++++++++++++++++++++++++++++++++++++++\n",
      "  +     MAD-X 5.06.01  (64 bit, Linux)       +\n",
      "  + Support: mad@cern.ch, http://cern.ch/mad +\n",
      "  + Release   date: 2020.09.01               +\n",
      "  + Execution date: 2021.07.22 14:43:03      +\n",
      "  ++++++++++++++++++++++++++++++++++++++++++++\n"
     ]
    }
   ],
   "source": [
    "madx = Madx(command_log=\"commandlog\") #Writes the errors in this file once madx has quit\n",
    "madx.option(verbose=False, debug=False, echo=True, warn=False, twiss_print=False)\n",
    "\n",
    "madx.beam(particle='proton', pc=26, exn=3.5e-6,eyn=3.5E-6)\n",
    "madx.input('BRHO:= BEAM->PC * 3.3356;')\n",
    "\n",
    "len_ft16 = 7.701173928\n",
    "\n",
    "madx.command.sequence.clone('FT16', refer=\"entry\", l=len_ft16)\n",
    "madx.command.endsequence()\n",
    "\n",
    "madx.command.rbend.clone('D16STRAY', L=2.20480, ANGLE=0.0, K1=-.047, K2=0.33)\n",
    "madx.command.rbend.clone('F16SHIM', L=2.19624,ANGLE=0.021,K1=0.0)\n",
    "\n",
    "madx.command.seqedit(sequence='FT16')\n",
    "#madx.command.install(element='D16STRAY_1', class_='D16STRAY', at='2.700072902') # Random positions, remeber starts from middle\n",
    "#madx.command.install(element='F16SHIM_1', class_='F16SHIM', at='4.904893572')\n",
    "madx.command.endedit()\n",
    "\n",
    "madx.use(sequence=\"FT16\")"
   ]
  },
  {
   "cell_type": "markdown",
   "id": "national-african",
   "metadata": {},
   "source": [
    "#### Initial conditions from MADX stitched model of PS extraction to TT10 LHC Q20 beam\n",
    "https://gitlab.cern.ch/acc-models/acc-models-tls/-/blob/2021/ps_extraction/tt2tt10_lhc_q20/stitched/get_initial_conditions_lhc_q20.madx"
   ]
  },
  {
   "cell_type": "code",
   "execution_count": 5,
   "id": "outstanding-comparison",
   "metadata": {
    "ExecuteTime": {
     "end_time": "2021-07-22T12:43:03.235697Z",
     "start_time": "2021-07-22T12:43:03.229489Z"
    }
   },
   "outputs": [],
   "source": [
    "betx0 = 2.5103613982e+01 ;\n",
    "bety0 = 8.3789531557e+00 ;\n",
    "alfx0 = -2.3322645191e+00 ;\n",
    "alfy0 = 9.7954156718e-01 ;\n",
    "dx0 = 3.0982680415e+00 ;\n",
    "dy0 = 0.0000000000e+00 ;\n",
    "dpx0 = 2.6262543044e-01 ;\n",
    "dpy0 = 0.0000000000e+00 ;"
   ]
  },
  {
   "cell_type": "markdown",
   "id": "armed-freight",
   "metadata": {
    "ExecuteTime": {
     "end_time": "2021-07-22T07:20:01.322779Z",
     "start_time": "2021-07-22T07:20:01.317291Z"
    }
   },
   "source": [
    "#### Initial conditions from https://codimd.web.cern.ch/05LpRgDIRIKUpRnTWTfbEA"
   ]
  },
  {
   "cell_type": "code",
   "execution_count": 6,
   "id": "powerful-designation",
   "metadata": {
    "ExecuteTime": {
     "end_time": "2021-07-22T12:43:03.250548Z",
     "start_time": "2021-07-22T12:43:03.245313Z"
    }
   },
   "outputs": [],
   "source": [
    "LHCx = 1.078422e-01\n",
    "LHCxp = 3.131043e-02\n",
    "TOFx = 1.173072e-01\n",
    "TOFxp = 2.975372e-02\n",
    "ADx = 1.101851e-01\n",
    "ADxp = 2.973021e-02\n",
    "\n",
    "# Choose beam type here\n",
    "initialValues = [LHCx,LHCxp,0,0,0,0]"
   ]
  },
  {
   "cell_type": "markdown",
   "id": "lightweight-trail",
   "metadata": {},
   "source": [
    "## Reference RXX Matrix coefficient calculation\n",
    "\n",
    "- I'm varying one parameter at a time (x, xp, y, yp, T, PT) with the other coordinates set to zero such as:\n",
    "\n",
    "\\begin{equation}\n",
    "\\left(\\begin{array}{c}\n",
    "{\\pmb{x^{New}}}  \\\\\n",
    "{x'^{New}}  \\\\\n",
    "{y^{New}}  \\\\\n",
    "{y'^{New}}  \\\\\n",
    "{t^{New}}  \\\\\n",
    "{(\\frac{\\delta p}{p})^{New}}  \\\\\n",
    "\\end{array}\\right) =\n",
    "\\left(\\begin{array}{cccccc}\n",
    "R_{11} & R_{12} & R_{13} & R_{14} & R_{15} & R_{16} \\\\\n",
    "R_{21} & R_{22} & R_{23} & R_{24} & R_{25} & R_{26} \\\\\n",
    "R_{31} & R_{32} & R_{33} & R_{34} & R_{35} & R_{36} \\\\\n",
    "R_{41}  & R_{42} & R_{43} & R_{44} & R_{45} & R_{46} \\\\\n",
    "R_{51} & R_{52} & R_{53} & R_{54} & R_{55} & R_{56} \\\\\n",
    "R_{61} & R_{62} & R_{63} & R_{64} & R_{65} & R_{66} \\\\\n",
    "\\end{array}\\right)\n",
    "\\left(\\begin{array}{c}\n",
    "{\\pmb{x^{Old}}}  \\\\\n",
    "{0}  \\\\\n",
    "{0}  \\\\\n",
    "{0}  \\\\\n",
    "{0}  \\\\\n",
    "{0}  \\\\\n",
    "\\end{array}\\right)\n",
    "\\end{equation}\n",
    "\n",
    "\n",
    " with $x^{Old}$ = [-0.01  -0.005  0.     0.005  0.01 ] for example\n",
    "- Plotting $x^{New}$ as a function of $x^{Old}$\n",
    "- then $x^{New}$ as a function of $x'^{Old}$\n",
    "- ...\n",
    "- $(\\frac{\\delta p}{p})^{New}$ as a function of $(\\frac{\\delta p}{p})^{Old}$"
   ]
  },
  {
   "cell_type": "markdown",
   "id": "brazilian-florence",
   "metadata": {},
   "source": [
    "#### Settings for the computation"
   ]
  },
  {
   "cell_type": "code",
   "execution_count": 7,
   "id": "affected-costs",
   "metadata": {
    "ExecuteTime": {
     "end_time": "2021-07-22T12:43:03.258937Z",
     "start_time": "2021-07-22T12:43:03.254273Z"
    }
   },
   "outputs": [],
   "source": [
    "var_names = (\"x\", \"xp\", \"y\", \"yp\", \"T\", \"PT\")\n",
    "var_units = (\"[m]\", \"[rad]\", \"[m]\", \"[rad]\", \"[m]\", \"[ ]\")\n",
    "values_lim = 0.1 # calculate the coefficient in the range +/-values_lim\n",
    "values_no = 5      # choose how many points you want to calculate"
   ]
  },
  {
   "cell_type": "markdown",
   "id": "miniature-species",
   "metadata": {},
   "source": [
    "### Varying the x and px component as input "
   ]
  },
  {
   "cell_type": "code",
   "execution_count": 8,
   "id": "limited-mileage",
   "metadata": {
    "ExecuteTime": {
     "end_time": "2021-07-22T12:43:16.417114Z",
     "start_time": "2021-07-22T12:43:03.400067Z"
    }
   },
   "outputs": [
    {
     "data": {
      "image/png": "[encoded data removed]",
      "text/plain": [
       "<Figure size 720x720 with 36 Axes>"
      ]
     },
     "metadata": {
      "needs_background": "light"
     },
     "output_type": "display_data"
    }
   ],
   "source": [
    "fig, ax = plt.subplots(6, 6, figsize=(10,10), constrained_layout=True, sharex=True, squeeze=False)\n",
    "#squeeze argument if I only have one element\n",
    "\n",
    "xvalues = np.linspace(-values_lim, values_lim, values_no)# This centers the linspace around the position of the beam\n",
    "yvalues = np.zeros(values_no)\n",
    "\n",
    "# Reference Matrix\n",
    "twiss = madx.twiss(betx=betx0, bety=bety0,\n",
    "                   alfx=alfx0, alfy=alfy0,\n",
    "                   x=initialValues[0],px=initialValues[1],\n",
    "                   dx=dx0, dy=dy0,\n",
    "                   dpx=dpx0, dpy=dpy0,\n",
    "                   rmatrix=True).dframe()\n",
    "matExtractedRef = get_matrix_from_twiss(twiss)\n",
    "\n",
    "\n",
    "vectorOld = np.array([[0.], [0.], [0.], [0.], [0.], [0.]])\n",
    "vectorNew = np.array([0.,0.,0.,0.,0.,0.])\n",
    "for j in range (6):\n",
    "    for i in range (0,values_no):\n",
    "        vectorOld[0]=xvalues[i]+initialValues[0]\n",
    "        vectorNew = np.dot(matExtractedRef,vectorOld) # Matrix multiplication \n",
    "        yvalues[i]=vectorNew[j]\n",
    "    ax[j,0].plot(xvalues, yvalues, marker = 'o', color = 'b', alpha=0.5, label=\"reference particle\")\n",
    "\n",
    "    yvalues = np.zeros(values_no)\n",
    "    for i in range (0,values_no): # Change the twiss inputs around the reference particle\n",
    "        vectorOld[0]=xvalues[i]+initialValues[0]\n",
    "\n",
    "        twiss = madx.twiss(betx=betx0, bety=bety0, # We reevaluate the twiss and transport matrix\n",
    "                           alfx=alfx0, alfy=alfy0,\n",
    "                           x=xvalues[i]+initialValues[0], px=initialValues[1],\n",
    "                           dx=dx0, dy=dy0,\n",
    "                           dpx=dpx0, dpy=dpy0,\n",
    "                           rmatrix=True).dframe()\n",
    "        matExtracted = get_matrix_from_twiss(twiss)\n",
    "\n",
    "        vectorNew = np.dot(matExtracted,vectorOld) # Matrix multiplication    \n",
    "        yvalues[i]=vectorNew[j]\n",
    "    ax[j,0].scatter(xvalues, yvalues, marker = 'o', color = 'r', alpha=0.5, label=\"fringe effect\")\n",
    "    ax[j,0].set_xlabel(\"input \"+var_names[0]+var_units[0])\n",
    "    ax[j,0].set_ylabel(\"output \"+var_names[j]+var_units[j])\n",
    "\n",
    "fig.suptitle(\"Extracted matrix coefficient\", fontsize=10)\n",
    "ax[0,0].legend(loc=(1.1, 0.5),fontsize=10)\n",
    "fig.show()"
   ]
  },
  {
   "cell_type": "code",
   "execution_count": null,
   "id": "continued-manual",
   "metadata": {},
   "outputs": [],
   "source": []
  }
 ],
 "metadata": {
  "kernelspec": {
   "display_name": "Python 3",
   "language": "python",
   "name": "python3"
  },
  "language_info": {
   "codemirror_mode": {
    "name": "ipython",
    "version": 3
   },
   "file_extension": ".py",
   "mimetype": "text/x-python",
   "name": "python",
   "nbconvert_exporter": "python",
   "pygments_lexer": "ipython3",
   "version": "3.8.6"
  }
 },
 "nbformat": 4,
 "nbformat_minor": 5
}
