{
 "cells": [
  {
   "cell_type": "markdown",
   "id": "weighted-channel",
   "metadata": {},
   "source": [
    "#### I think it would be easier to copy Francesco get_initial_code in cpymad format and then just change the twiss at that particular spot"
   ]
  },
  {
   "cell_type": "code",
   "execution_count": 8,
   "id": "danish-inspector",
   "metadata": {
    "ExecuteTime": {
     "end_time": "2021-07-23T10:58:45.486663Z",
     "start_time": "2021-07-23T10:58:45.472422Z"
    }
   },
   "outputs": [],
   "source": [
    "# imports\n",
    "import numpy as np\n",
    "import pandas as pd\n",
    "from sklearn.linear_model import LinearRegression\n",
    "import matplotlib.pyplot as plt\n",
    "from IPython.display import Markdown as md\n",
    "from IPython.core.display import display, HTML, Markdown\n",
    "from cpymad.madx import Madx\n",
    "%matplotlib notebook"
   ]
  },
  {
   "cell_type": "code",
   "execution_count": 9,
   "id": "functioning-driver",
   "metadata": {
    "ExecuteTime": {
     "end_time": "2021-07-23T10:58:48.361248Z",
     "start_time": "2021-07-23T10:58:45.492880Z"
    }
   },
   "outputs": [
    {
     "name": "stdout",
     "output_type": "stream",
     "text": [
      "\n",
      "  ++++++++++++++++++++++++++++++++++++++++++++\n",
      "  +     MAD-X 5.06.01  (64 bit, Linux)       +\n",
      "  + Support: mad@cern.ch, http://cern.ch/mad +\n",
      "  + Release   date: 2020.09.01               +\n",
      "  + Execution date: 2021.07.23 12:58:48      +\n",
      "  ++++++++++++++++++++++++++++++++++++++++++++\n"
     ]
    }
   ],
   "source": [
    "madx = Madx(command_log=\"commandlog\") #Writes the errors in this file once madx has quit\n",
    "madx.option(verbose=False, debug=False, echo=False, warn=False, twiss_print=False) #Hides the output in the terminal\n",
    "\n",
    "# Call latice files\n",
    "madx.call(\"ps_repo/ps_mu.seq\")\n",
    "madx.call(\"ps_repo/ps_ss.seq\")\n",
    "madx.call(\"ps_lhc_repo/ps_ext_lhc.str\")\n",
    "madx.call(\"/eos/user/e/eljohnso/SWAN_projects/acc-models-tls/ps_extraction/ps_ext_elements/fringe_field_fix.madx\")\n",
    "madx.call(\"/eos/user/e/eljohnso/SWAN_projects/acc-models-tls/ps_extraction/ps_ext_elements/ft16.ele\")"
   ]
  },
  {
   "cell_type": "code",
   "execution_count": 10,
   "id": "cooked-anger",
   "metadata": {
    "ExecuteTime": {
     "end_time": "2021-07-23T10:58:48.378068Z",
     "start_time": "2021-07-23T10:58:48.368961Z"
    }
   },
   "outputs": [
    {
     "data": {
      "text/plain": [
       "True"
      ]
     },
     "execution_count": 10,
     "metadata": {},
     "output_type": "execute_result"
    }
   ],
   "source": [
    "madx.set(format=\"22.10e\") # Je crois que c'est 22 chiffres en tout dont 10 derriere la decimal"
   ]
  },
  {
   "cell_type": "code",
   "execution_count": 11,
   "id": "sacred-assault",
   "metadata": {
    "ExecuteTime": {
     "end_time": "2021-07-23T10:58:48.391569Z",
     "start_time": "2021-07-23T10:58:48.381809Z"
    }
   },
   "outputs": [
    {
     "data": {
      "text/plain": [
       "True"
      ]
     },
     "execution_count": 11,
     "metadata": {},
     "output_type": "execute_result"
    }
   ],
   "source": [
    "#Beam\n",
    "madx.command.beam(particle='PROTON',pc=\"26\",exn=\"3.5e-6\",eyn=\"3.5E-6\")\n",
    "madx.input('BRHO      := BEAM->PC * 3.3356;')"
   ]
  },
  {
   "cell_type": "code",
   "execution_count": 20,
   "id": "integral-modern",
   "metadata": {
    "ExecuteTime": {
     "end_time": "2021-07-23T11:00:16.805757Z",
     "start_time": "2021-07-23T11:00:16.632605Z"
    }
   },
   "outputs": [],
   "source": [
    "madx.use(sequence=\"PS\")\n",
    "twiss = madx.twiss()"
   ]
  },
  {
   "cell_type": "markdown",
   "id": "hired-approach",
   "metadata": {
    "ExecuteTime": {
     "end_time": "2021-07-23T10:59:57.746572Z",
     "start_time": "2021-07-23T10:59:57.732268Z"
    }
   },
   "source": [
    "Make extraction sequence to get to where there\n",
    "is the handover with TT2"
   ]
  },
  {
   "cell_type": "code",
   "execution_count": 21,
   "id": "bright-actor",
   "metadata": {
    "ExecuteTime": {
     "end_time": "2021-07-23T11:02:02.719120Z",
     "start_time": "2021-07-23T11:02:02.676867Z"
    }
   },
   "outputs": [],
   "source": [
    "# Nominal kick strength for KFA71 for nTOF => assumed the same for AD and LHC\n",
    "madx.input('kfa71_nom_kick = -1.15e-03;')\n",
    "\n",
    "madx.input('ksmh16_error = -29.4e-3;')\n",
    "\n",
    "madx.input('kPEKFA71 := kfa71_k;')\n",
    "madx.input('kPIKFA45 := kfa45_kick ;')\n",
    "madx.input('kPIKFA28 := kfa28_kick ;')\n",
    "\n",
    "madx.input('SEQEDIT, sequence=PS;')\n",
    "madx.input('FLATTEN;')\n",
    "madx.input('ENDEDIT;')\n",
    "\n",
    "madx.use(sequence = \"PS\")"
   ]
  },
  {
   "cell_type": "code",
   "execution_count": 23,
   "id": "split-hollow",
   "metadata": {
    "ExecuteTime": {
     "end_time": "2021-07-23T11:02:58.101038Z",
     "start_time": "2021-07-23T11:02:57.914747Z"
    }
   },
   "outputs": [],
   "source": [
    "#Cycle sequence and changing starting point\n",
    "\n",
    "madx.input('SEQEDIT, sequence=PS;')\n",
    "madx.input('CYCLE, START=PR.BPM23;')\n",
    "madx.input('FLATTEN;')\n",
    "madx.input('ENDEDIT;')\n",
    "\n",
    "madx.use(sequence=\"PS\")\n",
    "twiss = madx.twiss()"
   ]
  },
  {
   "cell_type": "code",
   "execution_count": 26,
   "id": "executive-saint",
   "metadata": {
    "ExecuteTime": {
     "end_time": "2021-07-23T11:03:47.553352Z",
     "start_time": "2021-07-23T11:03:47.536059Z"
    }
   },
   "outputs": [
    {
     "name": "stdout",
     "output_type": "stream",
     "text": [
      "len_psej           =       5.8371110500e+02 ;\n"
     ]
    },
    {
     "data": {
      "text/plain": [
       "True"
      ]
     },
     "execution_count": 26,
     "metadata": {},
     "output_type": "execute_result"
    }
   ],
   "source": [
    "madx.input('start_psej = table(twiss, PR.BPM23, s);')\n",
    "madx.input('end_psej = table(twiss, PE.BTV16, s);')\n",
    "\n",
    "madx.input('len_psej = end_psej - start_psej;')\n",
    "\n",
    "madx.input('value, len_psej;')"
   ]
  },
  {
   "cell_type": "markdown",
   "id": "civil-server",
   "metadata": {},
   "source": [
    "Install septum and consider fringe field"
   ]
  },
  {
   "cell_type": "code",
   "execution_count": 28,
   "id": "fitted-circumstances",
   "metadata": {
    "ExecuteTime": {
     "end_time": "2021-07-23T11:04:53.646330Z",
     "start_time": "2021-07-23T11:04:53.621023Z"
    }
   },
   "outputs": [
    {
     "data": {
      "text/plain": [
       "True"
      ]
     },
     "execution_count": 28,
     "metadata": {},
     "output_type": "execute_result"
    }
   ],
   "source": [
    "madx.input('len_ft16 = 7.701173928;')\n",
    "\n",
    "\n",
    "madx.input('SEPTUM16E: MARKER;')\n",
    "madx.input('FT16: sequence, refer=entry, l=len_ft16;')\n",
    "madx.input('MTV001        ,at=0.0;')\n",
    "madx.input('SEPTUM16      ,at=0.0;')\n",
    "madx.input('SEPTUM16E       ,at=2.700072902;')\n",
    "madx.input('D16STRAY      ,at=2.700072902;')\n",
    "madx.input('F16SHIM       ,at=4.904893572;')\n",
    "madx.input('pointR        ,at=7.701173928;')\n",
    "madx.input('ENDSEQUENCE;')\n",
    "\n",
    "# POINTR is the handover point between PS and TT2 => initial conditions"
   ]
  },
  {
   "cell_type": "markdown",
   "id": "elect-commander",
   "metadata": {
    "ExecuteTime": {
     "end_time": "2021-07-23T11:05:08.234816Z",
     "start_time": "2021-07-23T11:05:08.225922Z"
    }
   },
   "source": [
    "PS_EJ sequence definition"
   ]
  },
  {
   "cell_type": "code",
   "execution_count": 52,
   "id": "dental-remove",
   "metadata": {
    "ExecuteTime": {
     "end_time": "2021-07-23T12:06:02.915649Z",
     "start_time": "2021-07-23T12:06:02.290832Z"
    }
   },
   "outputs": [
    {
     "name": "stdout",
     "output_type": "stream",
     "text": [
      "+++ extracting sequence ps from pr.bpm23:1 to pe.btv16:1\n",
      "+++ new sequence: ps_ej  with current length = 583.711105\n",
      "\n",
      "Assigned field errors to 2 elements\n",
      "Replaced field errors for 1 elements\n",
      "Assigned field errors to 1 elements\n",
      "Assigned alignment errors to 1 elements\n"
     ]
    }
   ],
   "source": [
    "madx.input('EXTRACT, sequence=PS, FROM=PR.BPM23, TO=PE.BTV16, newname=PS_EJ;')\n",
    "\n",
    "\n",
    "madx.input('PS_EXTRACT: sequence, refer=entry, l=len_psej + len_ft16 ;')\n",
    "madx.input('PS_EJ,       at=0.0;')\n",
    "madx.input('FT16,        at=len_psej;')\n",
    "madx.input('ENDSEQUENCE;')\n",
    "\n",
    "madx.input('kfa71_k = 0.0;')\n",
    "madx.input('kfa45_k = 0;')\n",
    "madx.input('kfa28_k = 0;')\n",
    "\n",
    "madx.use(sequence=\"PS\")\n",
    "madx.input('SELECT, FLAG=TWISS, COLUMN=NAME,KEYWORD,S,BETX,ALFX,X,DX,PX,DPX,MUX,BETY,ALFY,Y,DY,PY,DPY,MUY,APER_1,APER_2,KMIN,RE11,RE12,RE21,RE22,RE33,RE34,RE43,RE44,RE16,RE26;')\n",
    "madx.input('savebeta, label=bumped, place = PR.BPM23;')\n",
    "madx.twiss(file = \"ps_ext_lhc_bump.tfs\")\n",
    "\n",
    "madx.input('use, sequence = PS_EXTRACT;')\n",
    "madx.input('kfa71_k = kfa71_nom_kick;')\n",
    "madx.input('kfa45_k = 0;')\n",
    "madx.input('kfa28_k = 0;')\n",
    "\n",
    "madx.input('exec, septum16_on();')\n",
    "madx.twiss(beta0 = \"bumped\")\n",
    "\n",
    "# These are the reference number used to calculate the stray field\n",
    "# x_stray_field = table(twiss, SEPTUM16E, X) - 91.6e-3; */\n",
    "# px_stray_field = table(twiss, SEPTUM16E, PX) - 62.6e-3; */\n",
    "madx.input('x_stray_field = table(twiss, SEPTUM16E, X);')\n",
    "madx.input('px_stray_field = table(twiss, SEPTUM16E, PX);')\n",
    "\n",
    "madx.input('exec, place_stray_field(x_stray_field, px_stray_field);')\n",
    "\n",
    "madx.input('savebeta,label=initial_cond, place = POINTR;')\n",
    "twiss = madx.twiss(beta0 = \"bumped\").dframe()"
   ]
  },
  {
   "cell_type": "code",
   "execution_count": 87,
   "id": "conscious-civilization",
   "metadata": {
    "ExecuteTime": {
     "end_time": "2021-07-23T12:15:48.398043Z",
     "start_time": "2021-07-23T12:15:48.385365Z"
    }
   },
   "outputs": [
    {
     "name": "stdout",
     "output_type": "stream",
     "text": [
      "name       d16stray:1\n",
      "keyword         rbend\n",
      "s          588.615978\n",
      "betx        14.065956\n",
      "alfx        -1.614971\n",
      "              ...    \n",
      "sig65             0.0\n",
      "sig66             0.0\n",
      "n1                0.0\n",
      "aper_1            0.0\n",
      "aper_2            0.0\n",
      "Name: d16stray, Length: 258, dtype: object\n",
      "590.8122385719996\n",
      "591.4122789279996\n"
     ]
    }
   ],
   "source": [
    "#print(twiss)\n",
    "\n",
    "print (twiss.at[\"d16stray\", ])\n",
    "\n",
    "print(twiss[\"s\"][\"f16shim\"])\n",
    "print(twiss[\"s\"][\"pointr\"])"
   ]
  },
  {
   "cell_type": "code",
   "execution_count": null,
   "id": "chemical-begin",
   "metadata": {},
   "outputs": [],
   "source": []
  }
 ],
 "metadata": {
  "kernelspec": {
   "display_name": "Python 3",
   "language": "python",
   "name": "python3"
  },
  "language_info": {
   "codemirror_mode": {
    "name": "ipython",
    "version": 3
   },
   "file_extension": ".py",
   "mimetype": "text/x-python",
   "name": "python",
   "nbconvert_exporter": "python",
   "pygments_lexer": "ipython3",
   "version": "3.8.6"
  }
 },
 "nbformat": 4,
 "nbformat_minor": 5
}
