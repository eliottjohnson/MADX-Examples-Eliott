{
 "cells": [
  {
   "cell_type": "markdown",
   "id": "juvenile-contribution",
   "metadata": {},
   "source": [
    "#### I think it would be easier to copy Francesco get_initial_code in cpymad format and then just change the twiss at that particular spot"
   ]
  },
  {
   "cell_type": "code",
   "execution_count": 1,
   "id": "optical-advice",
   "metadata": {
    "ExecuteTime": {
     "end_time": "2021-07-23T14:14:19.001637Z",
     "start_time": "2021-07-23T14:14:15.900262Z"
    }
   },
   "outputs": [],
   "source": [
    "# imports\n",
    "import numpy as np\n",
    "import pandas as pd\n",
    "from sklearn.linear_model import LinearRegression\n",
    "import matplotlib.pyplot as plt\n",
    "from IPython.display import Markdown as md\n",
    "from IPython.core.display import display, HTML, Markdown\n",
    "from cpymad.madx import Madx\n",
    "%matplotlib notebook"
   ]
  },
  {
   "cell_type": "code",
   "execution_count": 2,
   "id": "nonprofit-wheat",
   "metadata": {
    "ExecuteTime": {
     "end_time": "2021-07-23T14:14:20.874649Z",
     "start_time": "2021-07-23T14:14:19.006656Z"
    }
   },
   "outputs": [
    {
     "name": "stdout",
     "output_type": "stream",
     "text": [
      "\n",
      "  ++++++++++++++++++++++++++++++++++++++++++++\n",
      "  +     MAD-X 5.06.01  (64 bit, Linux)       +\n",
      "  + Support: mad@cern.ch, http://cern.ch/mad +\n",
      "  + Release   date: 2020.09.01               +\n",
      "  + Execution date: 2021.07.23 16:14:20      +\n",
      "  ++++++++++++++++++++++++++++++++++++++++++++\n"
     ]
    }
   ],
   "source": [
    "madx = Madx(command_log=\"commandlog\") #Writes the errors in this file once madx has quit\n",
    "madx.option(verbose=False, debug=False, echo=False, warn=False, twiss_print=False) #Hides the output in the terminal\n",
    "\n",
    "# Call latice files\n",
    "madx.call(\"ps_repo/ps_mu.seq\")\n",
    "madx.call(\"ps_repo/ps_ss.seq\")\n",
    "madx.call(\"ps_lhc_repo/ps_ext_lhc.str\")\n",
    "madx.call(\"/eos/user/e/eljohnso/SWAN_projects/acc-models-tls/ps_extraction/ps_ext_elements/fringe_field_fix.madx\")\n",
    "madx.call(\"/eos/user/e/eljohnso/SWAN_projects/acc-models-tls/ps_extraction/ps_ext_elements/ft16.ele\")"
   ]
  },
  {
   "cell_type": "code",
   "execution_count": 3,
   "id": "legitimate-heating",
   "metadata": {
    "ExecuteTime": {
     "end_time": "2021-07-23T14:14:20.892136Z",
     "start_time": "2021-07-23T14:14:20.880290Z"
    }
   },
   "outputs": [
    {
     "data": {
      "text/plain": [
       "True"
      ]
     },
     "execution_count": 3,
     "metadata": {},
     "output_type": "execute_result"
    }
   ],
   "source": [
    "madx.set(format=\"22.10e\") # Je crois que c'est 22 chiffres en tout dont 10 derriere la decimal"
   ]
  },
  {
   "cell_type": "code",
   "execution_count": 4,
   "id": "indonesian-superintendent",
   "metadata": {
    "ExecuteTime": {
     "end_time": "2021-07-23T14:14:20.906771Z",
     "start_time": "2021-07-23T14:14:20.895911Z"
    }
   },
   "outputs": [
    {
     "data": {
      "text/plain": [
       "True"
      ]
     },
     "execution_count": 4,
     "metadata": {},
     "output_type": "execute_result"
    }
   ],
   "source": [
    "#Beam\n",
    "madx.command.beam(particle='PROTON',pc=\"26\",exn=\"3.5e-6\",eyn=\"3.5E-6\")\n",
    "madx.input('BRHO      := BEAM->PC * 3.3356;')"
   ]
  },
  {
   "cell_type": "code",
   "execution_count": 5,
   "id": "essential-stage",
   "metadata": {
    "ExecuteTime": {
     "end_time": "2021-07-23T14:14:21.023495Z",
     "start_time": "2021-07-23T14:14:20.912825Z"
    }
   },
   "outputs": [],
   "source": [
    "madx.use(sequence=\"PS\")\n",
    "twiss = madx.twiss()"
   ]
  },
  {
   "cell_type": "markdown",
   "id": "genetic-token",
   "metadata": {
    "ExecuteTime": {
     "end_time": "2021-07-23T10:59:57.746572Z",
     "start_time": "2021-07-23T10:59:57.732268Z"
    }
   },
   "source": [
    "Make extraction sequence to get to where there\n",
    "is the handover with TT2"
   ]
  },
  {
   "cell_type": "code",
   "execution_count": 6,
   "id": "proof-married",
   "metadata": {
    "ExecuteTime": {
     "end_time": "2021-07-23T14:14:21.052593Z",
     "start_time": "2021-07-23T14:14:21.029320Z"
    }
   },
   "outputs": [],
   "source": [
    "# Nominal kick strength for KFA71 for nTOF => assumed the same for AD and LHC\n",
    "madx.input('kfa71_nom_kick = -1.15e-03;')\n",
    "\n",
    "madx.input('ksmh16_error = -29.4e-3;')\n",
    "\n",
    "madx.input('kPEKFA71 := kfa71_k;')\n",
    "madx.input('kPIKFA45 := kfa45_kick ;')\n",
    "madx.input('kPIKFA28 := kfa28_kick ;')\n",
    "\n",
    "madx.input('SEQEDIT, sequence=PS;')\n",
    "madx.input('FLATTEN;')\n",
    "madx.input('ENDEDIT;')\n",
    "\n",
    "madx.use(sequence = \"PS\")"
   ]
  },
  {
   "cell_type": "code",
   "execution_count": 7,
   "id": "adequate-cologne",
   "metadata": {
    "ExecuteTime": {
     "end_time": "2021-07-23T14:14:21.174806Z",
     "start_time": "2021-07-23T14:14:21.056809Z"
    }
   },
   "outputs": [],
   "source": [
    "#Cycle sequence and changing starting point\n",
    "\n",
    "madx.input('SEQEDIT, sequence=PS;')\n",
    "madx.input('CYCLE, START=PR.BPM23;')\n",
    "madx.input('FLATTEN;')\n",
    "madx.input('ENDEDIT;')\n",
    "\n",
    "madx.use(sequence=\"PS\")\n",
    "twiss = madx.twiss()"
   ]
  },
  {
   "cell_type": "code",
   "execution_count": 8,
   "id": "limited-lesson",
   "metadata": {
    "ExecuteTime": {
     "end_time": "2021-07-23T14:14:21.194635Z",
     "start_time": "2021-07-23T14:14:21.179539Z"
    }
   },
   "outputs": [
    {
     "name": "stdout",
     "output_type": "stream",
     "text": [
      "len_psej           =       5.8371110500e+02 ;\n"
     ]
    },
    {
     "data": {
      "text/plain": [
       "True"
      ]
     },
     "execution_count": 8,
     "metadata": {},
     "output_type": "execute_result"
    }
   ],
   "source": [
    "madx.input('start_psej = table(twiss, PR.BPM23, s);')\n",
    "madx.input('end_psej = table(twiss, PE.BTV16, s);')\n",
    "\n",
    "madx.input('len_psej = end_psej - start_psej;')\n",
    "\n",
    "madx.input('value, len_psej;')"
   ]
  },
  {
   "cell_type": "markdown",
   "id": "approved-defense",
   "metadata": {},
   "source": [
    "Install septum and consider fringe field"
   ]
  },
  {
   "cell_type": "code",
   "execution_count": 9,
   "id": "nutritional-yesterday",
   "metadata": {
    "ExecuteTime": {
     "end_time": "2021-07-23T14:14:21.220805Z",
     "start_time": "2021-07-23T14:14:21.198527Z"
    }
   },
   "outputs": [
    {
     "data": {
      "text/plain": [
       "True"
      ]
     },
     "execution_count": 9,
     "metadata": {},
     "output_type": "execute_result"
    }
   ],
   "source": [
    "madx.input('len_ft16 = 7.701173928;')\n",
    "\n",
    "\n",
    "madx.input('SEPTUM16E: MARKER;')\n",
    "madx.input('FT16: sequence, refer=entry, l=len_ft16;')\n",
    "madx.input('MTV001        ,at=0.0;')\n",
    "madx.input('SEPTUM16      ,at=0.0;')\n",
    "madx.input('SEPTUM16E       ,at=2.700072902;')\n",
    "madx.input('D16STRAY      ,at=2.700072902;')\n",
    "madx.input('F16SHIM       ,at=4.904893572;')\n",
    "madx.input('pointR        ,at=7.701173928;')\n",
    "madx.input('ENDSEQUENCE;')\n",
    "\n",
    "# POINTR is the handover point between PS and TT2 => initial conditions"
   ]
  },
  {
   "cell_type": "markdown",
   "id": "scheduled-biography",
   "metadata": {
    "ExecuteTime": {
     "end_time": "2021-07-23T11:05:08.234816Z",
     "start_time": "2021-07-23T11:05:08.225922Z"
    }
   },
   "source": [
    "PS_EJ sequence definition"
   ]
  },
  {
   "cell_type": "code",
   "execution_count": 10,
   "id": "sixth-illness",
   "metadata": {
    "ExecuteTime": {
     "end_time": "2021-07-23T14:14:21.729154Z",
     "start_time": "2021-07-23T14:14:21.224512Z"
    }
   },
   "outputs": [
    {
     "name": "stdout",
     "output_type": "stream",
     "text": [
      "+++ extracting sequence ps from pr.bpm23:1 to pe.btv16:1\n",
      "+++ new sequence: ps_ej  with current length = 583.711105\n",
      "\n",
      "Assigned field errors to 1 elements\n",
      "Assigned field errors to 1 elements\n",
      "Assigned field errors to 1 elements\n",
      "Assigned alignment errors to 1 elements\n"
     ]
    }
   ],
   "source": [
    "madx.input('EXTRACT, sequence=PS, FROM=PR.BPM23, TO=PE.BTV16, newname=PS_EJ;')\n",
    "\n",
    "\n",
    "madx.input('PS_EXTRACT: sequence, refer=entry, l=len_psej + len_ft16 ;')\n",
    "madx.input('PS_EJ,       at=0.0;')\n",
    "madx.input('FT16,        at=len_psej;')\n",
    "madx.input('ENDSEQUENCE;')\n",
    "\n",
    "madx.input('kfa71_k = 0.0;')\n",
    "madx.input('kfa45_k = 0;')\n",
    "madx.input('kfa28_k = 0;')\n",
    "\n",
    "madx.use(sequence=\"PS\")\n",
    "madx.input('SELECT, FLAG=TWISS, COLUMN=NAME,KEYWORD,S,BETX,ALFX,X,DX,PX,DPX,MUX,BETY,ALFY,Y,DY,PY,DPY,MUY,APER_1,APER_2,KMIN,RE11,RE12,RE21,RE22,RE33,RE34,RE43,RE44,RE16,RE26;')\n",
    "madx.input('savebeta, label=bumped, place = PR.BPM23;')\n",
    "madx.twiss(file = \"ps_ext_lhc_bump.tfs\")\n",
    "\n",
    "madx.input('use, sequence = PS_EXTRACT;')\n",
    "madx.input('kfa71_k = kfa71_nom_kick;')\n",
    "madx.input('kfa45_k = 0;')\n",
    "madx.input('kfa28_k = 0;')\n",
    "\n",
    "madx.input('exec, septum16_on();')\n",
    "madx.twiss(beta0 = \"bumped\")\n",
    "\n",
    "# These are the reference number used to calculate the stray field\n",
    "# x_stray_field = table(twiss, SEPTUM16E, X) - 91.6e-3; */\n",
    "# px_stray_field = table(twiss, SEPTUM16E, PX) - 62.6e-3; */\n",
    "madx.input('x_stray_field = table(twiss, SEPTUM16E, X);')\n",
    "madx.input('px_stray_field = table(twiss, SEPTUM16E, PX);')\n",
    "\n",
    "madx.input('exec, place_stray_field(x_stray_field, px_stray_field);')\n",
    "\n",
    "madx.input('savebeta,label=initial_cond, place = POINTR;')\n",
    "twiss = madx.twiss(beta0 = \"bumped\").dframe()"
   ]
  },
  {
   "cell_type": "code",
   "execution_count": 16,
   "id": "vanilla-holder",
   "metadata": {
    "ExecuteTime": {
     "end_time": "2021-07-23T14:16:17.705293Z",
     "start_time": "2021-07-23T14:16:17.699590Z"
    },
    "scrolled": true
   },
   "outputs": [],
   "source": [
    "#print(twiss)\n",
    "#print (twiss.at[\"d16stray\", ])\n",
    "#print (twiss.at[\"d16stray\", ][2])\n",
    "#print (twiss.at[\"d16stray\", \"s\"])\n",
    "#print(twiss[\"s\"][\"f16shim\"])\n",
    "#print(twiss[\"s\"][\"pointr\"])"
   ]
  },
  {
   "cell_type": "code",
   "execution_count": 12,
   "id": "eight-cigarette",
   "metadata": {
    "ExecuteTime": {
     "end_time": "2021-07-23T14:14:21.761551Z",
     "start_time": "2021-07-23T14:14:21.751932Z"
    }
   },
   "outputs": [],
   "source": [
    "def get_matrix_from_twiss(twiss):\n",
    "    elem = twiss.iloc[-1] # iloc[-1] takes last row of the data frame\n",
    "    matExtracted = np.matrix([\n",
    "        elem[['re11', 're12', 're13', 're14', 're15', 're16']].values.astype(float),\n",
    "        elem[['re21', 're22', 're23', 're24', 're25', 're26']].values.astype(float),\n",
    "        elem[['re31', 're32', 're33', 're34', 're35', 're36']].values.astype(float),\n",
    "        elem[['re41', 're42', 're43', 're44', 're45', 're46']].values.astype(float),\n",
    "        elem[['re51', 're52', 're53', 're54', 're55', 're56']].values.astype(float),\n",
    "        elem[['re61', 're62', 're63', 're64', 're65', 're66']].values.astype(float),\n",
    "    ])\n",
    "    return matExtracted"
   ]
  },
  {
   "cell_type": "code",
   "execution_count": 13,
   "id": "attractive-unknown",
   "metadata": {
    "ExecuteTime": {
     "end_time": "2021-07-23T14:14:21.769105Z",
     "start_time": "2021-07-23T14:14:21.764593Z"
    }
   },
   "outputs": [],
   "source": [
    "LHCx = 1.078422e-01\n",
    "LHCxp = 3.131043e-02\n",
    "TOFx = 1.173072e-01\n",
    "TOFxp = 2.975372e-02\n",
    "ADx = 1.101851e-01\n",
    "ADxp = 2.973021e-02\n",
    "\n",
    "# Choose beam type here\n",
    "initialValues = [LHCx,LHCxp,0,0,0,0]"
   ]
  },
  {
   "cell_type": "code",
   "execution_count": 17,
   "id": "fuzzy-potter",
   "metadata": {
    "ExecuteTime": {
     "end_time": "2021-07-23T14:21:10.244599Z",
     "start_time": "2021-07-23T14:21:10.236996Z"
    }
   },
   "outputs": [],
   "source": [
    "var_names = (\"x\", \"xp\", \"y\", \"yp\", \"T\", \"PT\")\n",
    "var_units = (\"[m]\", \"[rad]\", \"[m]\", \"[rad]\", \"[m]\", \"[ ]\")\n",
    "values_lim = 0.01 # calculate the coefficient in the range +/-values_lim\n",
    "values_no = 100     # choose how many points you want to calculate"
   ]
  },
  {
   "cell_type": "code",
   "execution_count": 18,
   "id": "single-robert",
   "metadata": {
    "ExecuteTime": {
     "end_time": "2021-07-23T14:25:29.644395Z",
     "start_time": "2021-07-23T14:21:10.513081Z"
    }
   },
   "outputs": [
    {
     "data": {
      "image/png": "[encoded data removed]",
      "text/plain": [
       "<Figure size 720x720 with 16 Axes>"
      ]
     },
     "metadata": {
      "needs_background": "light"
     },
     "output_type": "display_data"
    }
   ],
   "source": [
    "fig, ax = plt.subplots(4, 4, figsize=(10,10), constrained_layout=True, sharex=True, squeeze=False)\n",
    "#squeeze argument if I only have one sublot instead of 6x6 filled\n",
    "\n",
    "xvalues = np.linspace(-values_lim, values_lim, values_no)# This centers the linspace around the position of the beam\n",
    "yvalues = np.zeros(values_no)\n",
    "\n",
    "# Reference Matrix\n",
    "twiss = madx.twiss(beta0 = \"bumped\",\n",
    "                   rmatrix=True).dframe()\n",
    "matExtractedRef = get_matrix_from_twiss(twiss)\n",
    "\n",
    "#madx.option(verbose=True, debug=True, echo=True, warn=True, twiss_print=True)\n",
    "\n",
    "for k in range (4):\n",
    "    vectorOld = np.array([[0.], [0.], [0.], [0.], [0.], [0.]])\n",
    "    vectorNew = np.array([0.,0.,0.,0.,0.,0.])\n",
    "    for j in range (4):\n",
    "        for i in range (0,values_no):\n",
    "            vectorOld[k]=xvalues[i]+initialValues[k]\n",
    "            vectorNew = np.dot(matExtractedRef,vectorOld) # Matrix multiplication \n",
    "            yvalues[i]=vectorNew[j]\n",
    "        ax[j,k].plot(xvalues, yvalues, marker = 'o', markersize=2, color = 'b', alpha=0.5, label=\"reference particle\")\n",
    "\n",
    "        yvalues = np.zeros(values_no)\n",
    "        for i in range (0,values_no): # Change the twiss inputs around the reference particle\n",
    "            vectorOld[k]=xvalues[i]+initialValues[k]\n",
    "\n",
    "            if k==0:\n",
    "                twiss = madx.twiss(beta0 = \"bumped\",\n",
    "                                   x=xvalues[i]+initialValues[0], px=initialValues[1],\n",
    "                                   y=initialValues[2], py=initialValues[3],\n",
    "                                   rmatrix=True).dframe()\n",
    "            if k==1:\n",
    "                twiss = madx.twiss(beta0 = \"bumped\",\n",
    "                                   x=initialValues[0], px=xvalues[i]+initialValues[1],\n",
    "                                   y=initialValues[2], py=initialValues[3],\n",
    "                                   rmatrix=True).dframe()     \n",
    "            if k==2: #Here I get an error of odd Nflips\n",
    "                twiss = madx.twiss(beta0 = \"bumped\",\n",
    "                                   x=initialValues[0], px=initialValues[1],\n",
    "                                   y=initialValues[2], py=initialValues[3],\n",
    "                                   rmatrix=True).dframe()\n",
    "            if k==3:\n",
    "                twiss = madx.twiss(beta0 = \"bumped\",\n",
    "                                   x=initialValues[0], px=initialValues[1],\n",
    "                                   y=initialValues[2], py=initialValues[3],\n",
    "                                   rmatrix=True).dframe()\n",
    "            \n",
    "            matExtracted = get_matrix_from_twiss(twiss)\n",
    "\n",
    "            vectorNew = np.dot(matExtracted,vectorOld) # Matrix multiplication    \n",
    "            yvalues[i]=vectorNew[j]\n",
    "        ax[j,k].scatter(xvalues, yvalues, marker = 'o', s=10, color = 'r', alpha=0.5, label=\"fringe effect\")\n",
    "        ax[j,k].set_xlabel(\"input \"+var_names[k]+\" \"+var_units[k])\n",
    "        ax[j,k].set_ylabel(\"output \"+var_names[j]+\" \"+var_units[j])\n",
    "        \n",
    "        #Linear regression\n",
    "        xlin = xvalues.reshape((-1,1))\n",
    "        model = LinearRegression().fit(xlin,yvalues)\n",
    "        r_sq = model.score(xlin, yvalues)\n",
    "        y_pred = model.predict(xlin)\n",
    "        ax[j,k].plot(xvalues, y_pred, color = 'r', alpha=0.5, label=\"linear regression\")\n",
    "        ax[j,k].title.set_text('R^2 = '+str(round(r_sq, 3)))\n",
    "\n",
    "fig.suptitle(\"Extracted matrix coefficient\", fontsize=10)\n",
    "ax[0,0].legend(loc=(-0.5, 1.5),fontsize=10)\n",
    "fig.show()"
   ]
  },
  {
   "cell_type": "code",
   "execution_count": null,
   "id": "twenty-candy",
   "metadata": {},
   "outputs": [],
   "source": []
  }
 ],
 "metadata": {
  "kernelspec": {
   "display_name": "Python 3",
   "language": "python",
   "name": "python3"
  },
  "language_info": {
   "codemirror_mode": {
    "name": "ipython",
    "version": 3
   },
   "file_extension": ".py",
   "mimetype": "text/x-python",
   "name": "python",
   "nbconvert_exporter": "python",
   "pygments_lexer": "ipython3",
   "version": "3.8.6"
  }
 },
 "nbformat": 4,
 "nbformat_minor": 5
}
