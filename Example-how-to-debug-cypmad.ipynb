{
 "cells": [
  {
   "cell_type": "code",
   "execution_count": 5,
   "id": "superb-samoa",
   "metadata": {
    "ExecuteTime": {
     "end_time": "2021-07-09T06:29:21.966897Z",
     "start_time": "2021-07-09T06:29:19.878035Z"
    }
   },
   "outputs": [
    {
     "name": "stdout",
     "output_type": "stream",
     "text": [
      "\n",
      "  ++++++++++++++++++++++++++++++++++++++++++++\n",
      "  +     MAD-X 5.06.01  (64 bit, Linux)       +\n",
      "  + Support: mad@cern.ch, http://cern.ch/mad +\n",
      "  + Release   date: 2020.09.01               +\n",
      "  + Execution date: 2021.07.09 08:29:21      +\n",
      "  ++++++++++++++++++++++++++++++++++++++++++++\n",
      "++++++ info: seqedit - number of elements installed:  3\n",
      "++++++ info: seqedit - number of elements moved:      0\n",
      "++++++ info: seqedit - number of elements removed:    0\n",
      "++++++ info: seqedit - number of elements replaced:   0\n",
      "enter Twiss module\n",
      "  \n",
      "iteration:   1 error:   0.000000E+00 deltap:   0.000000E+00\n",
      "orbit:   0.000000E+00  0.000000E+00  0.000000E+00  0.000000E+00  0.000000E+00  0.000000E+00\n",
      "\n",
      "++++++ table: summ\n",
      "\n",
      "            length             orbit5               alfa            gammatr \n",
      "       5.300000208                 -0     0.001640076788        24.69266184 \n",
      "\n",
      "                q1                dq1            betxmax              dxmax \n",
      "     0.04173114611      -0.0418147272        23.04497488       0.8721895606 \n",
      "\n",
      "             dxrms             xcomax             xcorms                 q2 \n",
      "       0.847799514                  0                  0       0.0431351058 \n",
      "\n",
      "               dq2            betymax              dymax              dyrms \n",
      "    -0.04306814905        22.28622696                  0                  0 \n",
      "\n",
      "            ycomax             ycorms             deltap            synch_1 \n",
      "                 0                  0                  0                  0 \n",
      "\n",
      "           synch_2            synch_3            synch_4            synch_5 \n",
      "                 0                  0                  0                  0 \n",
      "\n",
      "           synch_6            synch_8             nflips \n",
      "                 0                  0                  0 \n"
     ]
    },
    {
     "data": {
      "image/png": "[encoded data removed]",
      "text/plain": [
       "<Figure size 432x288 with 1 Axes>"
      ]
     },
     "metadata": {
      "needs_background": "light"
     },
     "output_type": "display_data"
    }
   ],
   "source": [
    "##Version that works\n",
    "from cpymad.madx import Madx\n",
    "import matplotlib.pyplot as plt\n",
    "mqk, mql, length = 1.0, 0.1, 5.3\n",
    "\n",
    "madx = Madx()\n",
    "madx.beam(particle='proton', pc=1000)\n",
    "\n",
    "\n",
    "madx.command.quadrupole.clone('QF', l=mql, k1=mqk)\n",
    "madx.command.quadrupole.clone('QD', l=mql, k1=-mqk)\n",
    "madx.command.rbend.clone('dip', l=0.1, angle=10e-3)\n",
    "\n",
    "\n",
    "madx.command.sequence.clone('S1', l='{:10.6e}'.format(length))\n",
    "madx.elements.marker.clone('s1start', at=0)\n",
    "madx.command.endsequence()\n",
    "\n",
    "madx.command.seqedit(sequence='S1')\n",
    "madx.command.install(element='QF1', class_='QF', at='{:10.6e}'.format(mql/2))\n",
    "madx.command.install(element='B1', class_='dip', at=mql+0.1/2)\n",
    "madx.command.install(element='QD1', class_='QD', at='{:10.6e}'.format(length/2-mql/2))\n",
    "madx.command.endedit()\n",
    " \n",
    "\n",
    "madx.use(sequence='s1')\n",
    "tw = madx.twiss().dframe()\n",
    "\n",
    "fig, ax = plt.subplots()\n",
    "ax.plot(tw['s'], tw['betx'], 'r-')\n",
    "ax.plot(tw['s'], tw['bety'], 'b-')\n",
    "plt.show()"
   ]
  },
  {
   "cell_type": "code",
   "execution_count": 9,
   "id": "modern-musical",
   "metadata": {
    "ExecuteTime": {
     "end_time": "2021-07-09T06:31:13.846283Z",
     "start_time": "2021-07-09T06:31:11.948298Z"
    }
   },
   "outputs": [
    {
     "name": "stdout",
     "output_type": "stream",
     "text": [
      "\n",
      "  ++++++++++++++++++++++++++++++++++++++++++++\n",
      "  +     MAD-X 5.06.01  (64 bit, Linux)       +\n",
      "  + Support: mad@cern.ch, http://cern.ch/mad +\n",
      "  + Release   date: 2020.09.01               +\n",
      "  + Execution date: 2021.07.09 08:31:13      +\n",
      "  ++++++++++++++++++++++++++++++++++++++++++++\n",
      "   in get_node_pos: name: s1$start, pos: 0.000000e+00, fact: 0.000000e+00, length: 0.000000e+00, from_name: (null)\n",
      "\t in get_node_pos: name: s1$start, from: 0.000000e+00\t\t\t  ---> final pos: 0.000000e+00 \n",
      "   in get_node_pos: name: s1start, pos: 0.000000e+00, fact: 0.000000e+00, length: 0.000000e+00, from_name: (null)\n",
      "\t in get_node_pos: name: s1start, from: 0.000000e+00\t\t\t  ---> final pos: 0.000000e+00 \n",
      "   in get_node_pos: name: s1$end, pos: 5.300000e+00, fact: 0.000000e+00, length: 0.000000e+00, from_name: (null)\n",
      "\t in get_node_pos: name: s1$end, from: 0.000000e+00\t\t\t  ---> final pos: 5.300000e+00 \n",
      "++++++ info: seqedit - number of elements installed:  3\n",
      "++++++ info: seqedit - number of elements moved:      0\n",
      "++++++ info: seqedit - number of elements removed:    0\n",
      "++++++ info: seqedit - number of elements replaced:   0\n",
      "   in get_node_pos: name: s1$start, pos: 0.000000e+00, fact: 0.000000e+00, length: 0.000000e+00, from_name: (null)\n",
      "\t in get_node_pos: name: s1$start, from: 0.000000e+00\t\t\t  ---> final pos: 0.000000e+00 \n",
      "   in get_node_pos: name: s1start, pos: 0.000000e+00, fact: 0.000000e+00, length: 0.000000e+00, from_name: (null)\n",
      "\t in get_node_pos: name: s1start, from: 0.000000e+00\t\t\t  ---> final pos: 0.000000e+00 \n",
      "   in get_node_pos: name: qf1, pos: 5.000000e-02, fact: 0.000000e+00, length: 1.000000e-01, from_name: (null)\n",
      "\t in get_node_pos: name: qf1, from: 0.000000e+00\t\t\t  ---> final pos: 5.000000e-02 \n",
      "   in get_node_pos: name: b1, pos: 1.500000e-01, fact: 0.000000e+00, length: 1.000004e-01, from_name: (null)\n",
      "\t in get_node_pos: name: b1, from: 0.000000e+00\t\t\t  ---> final pos: 1.500000e-01 \n",
      "   in get_node_pos: name: qd1, pos: 5.600000e+00, fact: 0.000000e+00, length: 1.000000e-01, from_name: (null)\n",
      "\t in get_node_pos: name: qd1, from: 0.000000e+00\t\t\t  ---> final pos: 5.600000e+00 \n",
      "   in get_node_pos: name: s1$end, pos: 5.300000e+00, fact: 0.000000e+00, length: 0.000000e+00, from_name: (null)\n",
      "\t in get_node_pos: name: s1$end, from: 0.000000e+00\t\t\t  ---> final pos: 5.300000e+00 \n",
      "\n",
      "\n",
      "TOP Expand_sequence name s1 with length 5.300000e+00, ref_flag 0\n",
      "inserting a drift of length 5.350000e+00 at position 2.875000e+00 \n",
      " \n",
      "\n",
      "current node name qd1:1 position: 5.600000e+00 length 1.000000e-01 \n",
      "next    node name s1$end:1 position: 5.300000e+00 length 0.000000e+00 \n",
      "\n"
     ]
    },
    {
     "ename": "RuntimeError",
     "evalue": "MAD-X has stopped working!",
     "output_type": "error",
     "traceback": [
      "\u001b[0;31m---------------------------------------------------------------------------\u001b[0m",
      "\u001b[0;31mRuntimeError\u001b[0m                              Traceback (most recent call last)",
      "\u001b[0;32m<ipython-input-9-0d45ff82f2ef>\u001b[0m in \u001b[0;36m<module>\u001b[0;34m\u001b[0m\n\u001b[1;32m     25\u001b[0m \u001b[0;34m\u001b[0m\u001b[0m\n\u001b[1;32m     26\u001b[0m \u001b[0;34m\u001b[0m\u001b[0m\n\u001b[0;32m---> 27\u001b[0;31m \u001b[0mmadx\u001b[0m\u001b[0;34m.\u001b[0m\u001b[0muse\u001b[0m\u001b[0;34m(\u001b[0m\u001b[0msequence\u001b[0m\u001b[0;34m=\u001b[0m\u001b[0;34m's1'\u001b[0m\u001b[0;34m)\u001b[0m\u001b[0;34m\u001b[0m\u001b[0;34m\u001b[0m\u001b[0m\n\u001b[0m\u001b[1;32m     28\u001b[0m \u001b[0mtw\u001b[0m \u001b[0;34m=\u001b[0m \u001b[0mmadx\u001b[0m\u001b[0;34m.\u001b[0m\u001b[0mtwiss\u001b[0m\u001b[0;34m(\u001b[0m\u001b[0;34m)\u001b[0m\u001b[0;34m.\u001b[0m\u001b[0mdframe\u001b[0m\u001b[0;34m(\u001b[0m\u001b[0;34m)\u001b[0m\u001b[0;34m\u001b[0m\u001b[0;34m\u001b[0m\u001b[0m\n\u001b[1;32m     29\u001b[0m \u001b[0;34m\u001b[0m\u001b[0m\n",
      "\u001b[0;32m/cvmfs/sft.cern.ch/lcg/views/LCG_100/x86_64-centos7-gcc8-opt/lib/python3.8/site-packages/cpymad/madx.py\u001b[0m in \u001b[0;36muse\u001b[0;34m(self, sequence, range, **kwargs)\u001b[0m\n\u001b[1;32m    372\u001b[0m         \u001b[0;34m:\u001b[0m\u001b[0mreturns\u001b[0m\u001b[0;34m:\u001b[0m \u001b[0mname\u001b[0m \u001b[0mof\u001b[0m \u001b[0mactive\u001b[0m \u001b[0msequence\u001b[0m\u001b[0;34m\u001b[0m\u001b[0;34m\u001b[0m\u001b[0m\n\u001b[1;32m    373\u001b[0m         \"\"\"\n\u001b[0;32m--> 374\u001b[0;31m         \u001b[0mself\u001b[0m\u001b[0;34m.\u001b[0m\u001b[0mcommand\u001b[0m\u001b[0;34m.\u001b[0m\u001b[0muse\u001b[0m\u001b[0;34m(\u001b[0m\u001b[0msequence\u001b[0m\u001b[0;34m=\u001b[0m\u001b[0msequence\u001b[0m\u001b[0;34m,\u001b[0m \u001b[0mrange\u001b[0m\u001b[0;34m=\u001b[0m\u001b[0mrange\u001b[0m\u001b[0;34m,\u001b[0m \u001b[0;34m**\u001b[0m\u001b[0mkwargs\u001b[0m\u001b[0;34m)\u001b[0m\u001b[0;34m\u001b[0m\u001b[0;34m\u001b[0m\u001b[0m\n\u001b[0m\u001b[1;32m    375\u001b[0m \u001b[0;34m\u001b[0m\u001b[0m\n\u001b[1;32m    376\u001b[0m     \u001b[0;32mdef\u001b[0m \u001b[0msectormap\u001b[0m\u001b[0;34m(\u001b[0m\u001b[0mself\u001b[0m\u001b[0;34m,\u001b[0m \u001b[0melems\u001b[0m\u001b[0;34m,\u001b[0m \u001b[0;34m**\u001b[0m\u001b[0mkwargs\u001b[0m\u001b[0;34m)\u001b[0m\u001b[0;34m:\u001b[0m\u001b[0;34m\u001b[0m\u001b[0;34m\u001b[0m\u001b[0m\n",
      "\u001b[0;32m/cvmfs/sft.cern.ch/lcg/views/LCG_100/x86_64-centos7-gcc8-opt/lib/python3.8/site-packages/cpymad/madx.py\u001b[0m in \u001b[0;36m__call__\u001b[0;34m(*args, **kwargs)\u001b[0m\n\u001b[1;32m    772\u001b[0m         \u001b[0;32mif\u001b[0m \u001b[0mself\u001b[0m\u001b[0;34m.\u001b[0m\u001b[0mname\u001b[0m \u001b[0;34m==\u001b[0m \u001b[0;34m'beam'\u001b[0m \u001b[0;32mand\u001b[0m \u001b[0mself\u001b[0m\u001b[0;34m.\u001b[0m\u001b[0msequence\u001b[0m\u001b[0;34m:\u001b[0m\u001b[0;34m\u001b[0m\u001b[0;34m\u001b[0m\u001b[0m\n\u001b[1;32m    773\u001b[0m             \u001b[0mkwargs\u001b[0m\u001b[0;34m.\u001b[0m\u001b[0msetdefault\u001b[0m\u001b[0;34m(\u001b[0m\u001b[0;34m'sequence'\u001b[0m\u001b[0;34m,\u001b[0m \u001b[0mself\u001b[0m\u001b[0;34m.\u001b[0m\u001b[0msequence\u001b[0m\u001b[0;34m)\u001b[0m\u001b[0;34m\u001b[0m\u001b[0;34m\u001b[0m\u001b[0m\n\u001b[0;32m--> 774\u001b[0;31m         \u001b[0;32mreturn\u001b[0m \u001b[0mself\u001b[0m\u001b[0;34m.\u001b[0m\u001b[0m_madx\u001b[0m\u001b[0;34m.\u001b[0m\u001b[0minput\u001b[0m\u001b[0;34m(\u001b[0m\u001b[0mutil\u001b[0m\u001b[0;34m.\u001b[0m\u001b[0mformat_command\u001b[0m\u001b[0;34m(\u001b[0m\u001b[0mself\u001b[0m\u001b[0;34m,\u001b[0m \u001b[0;34m*\u001b[0m\u001b[0margs\u001b[0m\u001b[0;34m,\u001b[0m \u001b[0;34m**\u001b[0m\u001b[0mkwargs\u001b[0m\u001b[0;34m)\u001b[0m\u001b[0;34m)\u001b[0m\u001b[0;34m\u001b[0m\u001b[0;34m\u001b[0m\u001b[0m\n\u001b[0m\u001b[1;32m    775\u001b[0m \u001b[0;34m\u001b[0m\u001b[0m\n\u001b[1;32m    776\u001b[0m     \u001b[0;32mdef\u001b[0m \u001b[0mclone\u001b[0m\u001b[0;34m(\u001b[0m\u001b[0;34m*\u001b[0m\u001b[0margs\u001b[0m\u001b[0;34m,\u001b[0m \u001b[0;34m**\u001b[0m\u001b[0mkwargs\u001b[0m\u001b[0;34m)\u001b[0m\u001b[0;34m:\u001b[0m\u001b[0;34m\u001b[0m\u001b[0;34m\u001b[0m\u001b[0m\n",
      "\u001b[0;32m/cvmfs/sft.cern.ch/lcg/views/LCG_100/x86_64-centos7-gcc8-opt/lib/python3.8/site-packages/cpymad/madx.py\u001b[0m in \u001b[0;36minput\u001b[0;34m(self, text)\u001b[0m\n\u001b[1;32m    265\u001b[0m             \u001b[0;31m# catch + reraise in order to shorten stack trace (~3-5 levels):\u001b[0m\u001b[0;34m\u001b[0m\u001b[0;34m\u001b[0m\u001b[0;34m\u001b[0m\u001b[0m\n\u001b[1;32m    266\u001b[0m             \u001b[0;32mpass\u001b[0m\u001b[0;34m\u001b[0m\u001b[0;34m\u001b[0m\u001b[0m\n\u001b[0;32m--> 267\u001b[0;31m         \u001b[0;32mraise\u001b[0m \u001b[0mRuntimeError\u001b[0m\u001b[0;34m(\u001b[0m\u001b[0;34m\"MAD-X has stopped working!\"\u001b[0m\u001b[0;34m)\u001b[0m\u001b[0;34m\u001b[0m\u001b[0;34m\u001b[0m\u001b[0m\n\u001b[0m\u001b[1;32m    268\u001b[0m \u001b[0;34m\u001b[0m\u001b[0m\n\u001b[1;32m    269\u001b[0m     \u001b[0m__call__\u001b[0m \u001b[0;34m=\u001b[0m \u001b[0minput\u001b[0m\u001b[0;34m\u001b[0m\u001b[0;34m\u001b[0m\u001b[0m\n",
      "\u001b[0;31mRuntimeError\u001b[0m: MAD-X has stopped working!"
     ]
    }
   ],
   "source": [
    "from cpymad.madx import Madx\n",
    "import matplotlib.pyplot as plt\n",
    "mqk, mql, length = 1.0, 0.1, 5.3\n",
    "\n",
    "madx = Madx()\n",
    "madx = Madx(command_log=\"commandlog\") #Writes the errors in this file once madx has quit\n",
    "madx.options(verbose=True, echo=True, debug=True) # Ligne important pour débugger\n",
    "madx.beam(particle='proton', pc=1000)\n",
    "\n",
    "\n",
    "madx.command.quadrupole.clone('QF', l=mql, k1=mqk)\n",
    "madx.command.quadrupole.clone('QD', l=mql, k1=-mqk)\n",
    "madx.command.rbend.clone('dip', l=0.1, angle=10e-3)\n",
    "\n",
    "\n",
    "madx.command.sequence.clone('S1', l='{:10.6e}'.format(length))\n",
    "madx.elements.marker.clone('s1start', at=0)\n",
    "madx.command.endsequence()\n",
    "\n",
    "madx.command.seqedit(sequence='S1')\n",
    "madx.command.install(element='QF1', class_='QF', at='{:10.6e}'.format(mql/2))\n",
    "madx.command.install(element='B1', class_='dip', at=mql+0.1/2)\n",
    "#madx.command.install(element='QD1', class_='QD', at='{:10.6e}'.format(length/2-mql/2))\n",
    "madx.command.install(element='QD1', class_='QD', at='{:10.6e}'.format(length/2-mql/2+3)) #Ici on place l'élément hors de la séquence ce qui fait planter\n",
    "madx.command.endedit()\n",
    " \n",
    "\n",
    "madx.use(sequence='s1')\n",
    "tw = madx.twiss().dframe()\n",
    "\n",
    "fig, ax = plt.subplots()\n",
    "ax.plot(tw['s'], tw['betx'], 'r-')\n",
    "ax.plot(tw['s'], tw['bety'], 'b-')\n",
    "plt.show()"
   ]
  },
  {
   "cell_type": "code",
   "execution_count": null,
   "id": "featured-drilling",
   "metadata": {},
   "outputs": [],
   "source": []
  }
 ],
 "metadata": {
  "kernelspec": {
   "display_name": "Python 3",
   "language": "python",
   "name": "python3"
  },
  "language_info": {
   "codemirror_mode": {
    "name": "ipython",
    "version": 3
   },
   "file_extension": ".py",
   "mimetype": "text/x-python",
   "name": "python",
   "nbconvert_exporter": "python",
   "pygments_lexer": "ipython3",
   "version": "3.8.6"
  }
 },
 "nbformat": 4,
 "nbformat_minor": 5
}
