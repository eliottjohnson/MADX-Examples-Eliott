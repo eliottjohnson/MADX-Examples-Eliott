{
 "cells": [
  {
   "cell_type": "code",
   "execution_count": 14,
   "id": "olympic-papua",
   "metadata": {
    "ExecuteTime": {
     "end_time": "2021-07-28T07:02:27.457123Z",
     "start_time": "2021-07-28T07:02:27.451625Z"
    }
   },
   "outputs": [],
   "source": [
    "# imports\n",
    "import numpy as np\n",
    "import pandas as pd\n",
    "import matplotlib.pyplot as plt"
   ]
  },
  {
   "cell_type": "code",
   "execution_count": 15,
   "id": "alleged-organizer",
   "metadata": {
    "ExecuteTime": {
     "end_time": "2021-07-28T07:02:27.919197Z",
     "start_time": "2021-07-28T07:02:27.905441Z"
    }
   },
   "outputs": [
    {
     "name": "stdout",
     "output_type": "stream",
     "text": [
      "[[ 3.53553391]\n",
      " [-0.70710678]\n",
      " [ 0.        ]]\n"
     ]
    }
   ],
   "source": [
    "vectorOld = np.array([[2.+1], [1.+1], [0.]])\n",
    "vectorNew = np.array([0.,0.,0.])\n",
    "matrix = np.matrix([[np.cos(np.pi/4), np.sin(np.pi/4), 0],\n",
    "                    [-np.sin(np.pi/4), np.cos(np.pi/4),0],\n",
    "                    [0,0,1]])\n",
    "\n",
    "\n",
    "vectorNew = np.dot(matrix,vectorOld)\n",
    "print (vectorNew)"
   ]
  },
  {
   "cell_type": "code",
   "execution_count": null,
   "id": "pleasant-therapy",
   "metadata": {},
   "outputs": [],
   "source": []
  }
 ],
 "metadata": {
  "kernelspec": {
   "display_name": "Python 3",
   "language": "python",
   "name": "python3"
  },
  "language_info": {
   "codemirror_mode": {
    "name": "ipython",
    "version": 3
   },
   "file_extension": ".py",
   "mimetype": "text/x-python",
   "name": "python",
   "nbconvert_exporter": "python",
   "pygments_lexer": "ipython3",
   "version": "3.8.6"
  }
 },
 "nbformat": 4,
 "nbformat_minor": 5
}
